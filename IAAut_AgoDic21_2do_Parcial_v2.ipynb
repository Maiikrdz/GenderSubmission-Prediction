{
  "nbformat": 4,
  "nbformat_minor": 0,
  "metadata": {
    "colab": {
      "name": "IAAut_AgoDic21_2do_Parcial v2.ipynb",
      "provenance": []
    },
    "kernelspec": {
      "name": "python3",
      "display_name": "Python 3"
    },
    "language_info": {
      "name": "python"
    }
  },
  "cells": [
    {
      "cell_type": "markdown",
      "metadata": {
        "id": "s_A-VnfLm-kW"
      },
      "source": [
        "Considera los datasets *titanic_train, titanic_val, titanic_test y gender_submission*\n",
        "\n"
      ]
    },
    {
      "cell_type": "markdown",
      "metadata": {
        "id": "kq9M_C4GoN9n"
      },
      "source": [
        "\n",
        "Para cada modelo elige al menos dos combinaciones de hiperparámetros distintas y entrena para predecir la supervivencia de pasajeros del titanic usando los datos *titanic_train* (es decir, debes tener al menos 6 predictores) \n",
        "Elige una metrica para medir el performance de tus modelos\n",
        "Evalúa la métrica anterior sobre los datos *titanic_val*. **Define cual de todos tus predictores (son al menos 6) es el mejor**\n",
        "Obtén las predicciones para *titanic_test*\n",
        "\n",
        "\n",
        "\n",
        "\n",
        "\n",
        "\n",
        "\n",
        "\n",
        "\n",
        "\n"
      ]
    },
    {
      "cell_type": "markdown",
      "metadata": {
        "id": "h5EpTnT6gLUI"
      },
      "source": [
        "## Data reading"
      ]
    },
    {
      "cell_type": "code",
      "metadata": {
        "id": "d4cQ8IysgJLd"
      },
      "source": [
        "#loading data\n",
        "import pandas as pd\n",
        "\n",
        "from sklearn.preprocessing import StandardScaler\n",
        "\n",
        "from sklearn.preprocessing import LabelEncoder\n",
        "\n",
        "from sklearn.utils import shuffle\n",
        "\n",
        "from sklearn.model_selection import  train_test_split\n",
        "\n",
        "import matplotlib.pyplot as plt\n",
        "import plotly.express as px\n",
        "\n",
        "from sklearn.preprocessing import LabelEncoder\n",
        "label = LabelEncoder()\n",
        "from sklearn.metrics import accuracy_score, recall_score, precision_score, f1_score, confusion_matrix\n",
        "import numpy as np"
      ],
      "execution_count": null,
      "outputs": []
    },
    {
      "cell_type": "code",
      "metadata": {
        "id": "lNG_7cKWlhgr"
      },
      "source": [
        "#Cargando los archivos \n",
        "data_train = pd.read_excel(\"/content/titanic_train.xlsx\")\n",
        "data_test = pd.read_excel(\"/content/titanic_val.xlsx\")"
      ],
      "execution_count": null,
      "outputs": []
    },
    {
      "cell_type": "code",
      "metadata": {
        "colab": {
          "base_uri": "https://localhost:8080/"
        },
        "id": "XbZLjZN0mU29",
        "outputId": "244cd97d-fd57-4b6a-ad14-1a4af0dc8eb3"
      },
      "source": [
        "data_train.isnull().sum()"
      ],
      "execution_count": null,
      "outputs": [
        {
          "output_type": "execute_result",
          "data": {
            "text/plain": [
              "PassengerId      0\n",
              "Survived         0\n",
              "Pclass           0\n",
              "Name             0\n",
              "Sex              0\n",
              "Age            141\n",
              "SibSp            0\n",
              "Parch            0\n",
              "Ticket           0\n",
              "Fare             0\n",
              "Cabin          554\n",
              "Embarked         2\n",
              "dtype: int64"
            ]
          },
          "metadata": {},
          "execution_count": 4
        }
      ]
    },
    {
      "cell_type": "code",
      "metadata": {
        "colab": {
          "base_uri": "https://localhost:8080/"
        },
        "id": "U6IVaSgmmfZu",
        "outputId": "de5362b5-0087-4cca-87c5-8f68ae7407c9"
      },
      "source": [
        "data_test.isnull().sum()"
      ],
      "execution_count": null,
      "outputs": [
        {
          "output_type": "execute_result",
          "data": {
            "text/plain": [
              "PassengerId      0\n",
              "Survived         0\n",
              "Pclass           0\n",
              "Name             0\n",
              "Sex              0\n",
              "Age             36\n",
              "SibSp            0\n",
              "Parch            0\n",
              "Ticket           0\n",
              "Fare             0\n",
              "Cabin          133\n",
              "Embarked         0\n",
              "dtype: int64"
            ]
          },
          "metadata": {},
          "execution_count": 6
        }
      ]
    },
    {
      "cell_type": "code",
      "metadata": {
        "id": "CLQ6DAhKnBbV"
      },
      "source": [
        "data_test = data_test.dropna()\n",
        "data_train = data_train.dropna()"
      ],
      "execution_count": null,
      "outputs": []
    },
    {
      "cell_type": "code",
      "metadata": {
        "id": "_KwL8hrfnN1n"
      },
      "source": [
        "X_train = data_train.drop(labels = ['PassengerId', 'Survived', 'Name', 'Ticket', 'Cabin'], axis = 1)\n",
        "y_train = data_train['Survived']"
      ],
      "execution_count": null,
      "outputs": []
    },
    {
      "cell_type": "code",
      "metadata": {
        "id": "bvbDJd4snd6Y"
      },
      "source": [
        "X_test = data_test.drop(labels = ['PassengerId', 'Survived', 'Name', 'Ticket', 'Cabin'], axis = 1)\n",
        "y_test = data_test['Survived']"
      ],
      "execution_count": null,
      "outputs": []
    },
    {
      "cell_type": "code",
      "metadata": {
        "colab": {
          "base_uri": "https://localhost:8080/",
          "height": 204
        },
        "id": "Ih_zzPQ9nf7n",
        "outputId": "b6718c8a-f713-49ae-c1a8-a7d251d559c1"
      },
      "source": [
        "X_train.head()"
      ],
      "execution_count": null,
      "outputs": [
        {
          "output_type": "execute_result",
          "data": {
            "text/html": [
              "<div>\n",
              "<style scoped>\n",
              "    .dataframe tbody tr th:only-of-type {\n",
              "        vertical-align: middle;\n",
              "    }\n",
              "\n",
              "    .dataframe tbody tr th {\n",
              "        vertical-align: top;\n",
              "    }\n",
              "\n",
              "    .dataframe thead th {\n",
              "        text-align: right;\n",
              "    }\n",
              "</style>\n",
              "<table border=\"1\" class=\"dataframe\">\n",
              "  <thead>\n",
              "    <tr style=\"text-align: right;\">\n",
              "      <th></th>\n",
              "      <th>Pclass</th>\n",
              "      <th>Sex</th>\n",
              "      <th>Age</th>\n",
              "      <th>SibSp</th>\n",
              "      <th>Parch</th>\n",
              "      <th>Fare</th>\n",
              "      <th>Embarked</th>\n",
              "    </tr>\n",
              "  </thead>\n",
              "  <tbody>\n",
              "    <tr>\n",
              "      <th>2</th>\n",
              "      <td>3</td>\n",
              "      <td>male</td>\n",
              "      <td>6.0</td>\n",
              "      <td>0</td>\n",
              "      <td>1</td>\n",
              "      <td>12.4750</td>\n",
              "      <td>S</td>\n",
              "    </tr>\n",
              "    <tr>\n",
              "      <th>6</th>\n",
              "      <td>1</td>\n",
              "      <td>female</td>\n",
              "      <td>24.0</td>\n",
              "      <td>0</td>\n",
              "      <td>0</td>\n",
              "      <td>49.5042</td>\n",
              "      <td>C</td>\n",
              "    </tr>\n",
              "    <tr>\n",
              "      <th>9</th>\n",
              "      <td>1</td>\n",
              "      <td>female</td>\n",
              "      <td>21.0</td>\n",
              "      <td>2</td>\n",
              "      <td>2</td>\n",
              "      <td>262.3750</td>\n",
              "      <td>C</td>\n",
              "    </tr>\n",
              "    <tr>\n",
              "      <th>10</th>\n",
              "      <td>3</td>\n",
              "      <td>female</td>\n",
              "      <td>27.0</td>\n",
              "      <td>0</td>\n",
              "      <td>1</td>\n",
              "      <td>12.4750</td>\n",
              "      <td>S</td>\n",
              "    </tr>\n",
              "    <tr>\n",
              "      <th>13</th>\n",
              "      <td>1</td>\n",
              "      <td>male</td>\n",
              "      <td>39.0</td>\n",
              "      <td>0</td>\n",
              "      <td>0</td>\n",
              "      <td>0.0000</td>\n",
              "      <td>S</td>\n",
              "    </tr>\n",
              "  </tbody>\n",
              "</table>\n",
              "</div>"
            ],
            "text/plain": [
              "    Pclass     Sex   Age  SibSp  Parch      Fare Embarked\n",
              "2        3    male   6.0      0      1   12.4750        S\n",
              "6        1  female  24.0      0      0   49.5042        C\n",
              "9        1  female  21.0      2      2  262.3750        C\n",
              "10       3  female  27.0      0      1   12.4750        S\n",
              "13       1    male  39.0      0      0    0.0000        S"
            ]
          },
          "metadata": {},
          "execution_count": 10
        }
      ]
    },
    {
      "cell_type": "code",
      "metadata": {
        "colab": {
          "base_uri": "https://localhost:8080/"
        },
        "id": "XQTXblmEniQt",
        "outputId": "a593a422-2656-43a0-e7c2-159e87adb158"
      },
      "source": [
        "y_train"
      ],
      "execution_count": null,
      "outputs": [
        {
          "output_type": "execute_result",
          "data": {
            "text/plain": [
              "2      1\n",
              "6      1\n",
              "9      1\n",
              "10     1\n",
              "13     0\n",
              "      ..\n",
              "669    1\n",
              "676    1\n",
              "684    1\n",
              "696    1\n",
              "702    1\n",
              "Name: Survived, Length: 141, dtype: int64"
            ]
          },
          "metadata": {},
          "execution_count": 11
        }
      ]
    },
    {
      "cell_type": "code",
      "metadata": {
        "colab": {
          "base_uri": "https://localhost:8080/"
        },
        "id": "rqeSLpSlnnif",
        "outputId": "4fcc70ae-540a-45c0-c877-3279d398e944"
      },
      "source": [
        "X_train['Sex'] = label.fit_transform(X_train['Sex'])\n",
        "X_test['Sex'] = label.fit_transform(X_test['Sex'])\n",
        "dict_gen = {x:y for x,y in enumerate(label.classes_)}\n",
        "dict_gen"
      ],
      "execution_count": null,
      "outputs": [
        {
          "output_type": "execute_result",
          "data": {
            "text/plain": [
              "{0: 'female', 1: 'male'}"
            ]
          },
          "metadata": {},
          "execution_count": 12
        }
      ]
    },
    {
      "cell_type": "code",
      "metadata": {
        "id": "kn1WCChgnqqs"
      },
      "source": [
        "X_train = pd.get_dummies(X_train, drop_first=True, columns=['Embarked'])\n",
        "X_test = pd.get_dummies(X_test, drop_first=True, columns=['Embarked'])"
      ],
      "execution_count": null,
      "outputs": []
    },
    {
      "cell_type": "code",
      "metadata": {
        "id": "qaQdVVUCnqmc"
      },
      "source": [
        "columns = X_test.columns"
      ],
      "execution_count": null,
      "outputs": []
    },
    {
      "cell_type": "code",
      "metadata": {
        "id": "T6Jpz-5tn1fB"
      },
      "source": [
        "from sklearn.preprocessing import StandardScaler\n",
        "scaler = StandardScaler()\n",
        "X_train = scaler.fit_transform(X_train)\n",
        "X_test = scaler.fit_transform(X_test)"
      ],
      "execution_count": null,
      "outputs": []
    },
    {
      "cell_type": "code",
      "metadata": {
        "colab": {
          "base_uri": "https://localhost:8080/"
        },
        "id": "9jvsWxLXn3mE",
        "outputId": "6e607f2e-9a44-4777-d67a-263041388ca9"
      },
      "source": [
        "X_train.mean(axis=0).round(2),X_train.var(axis=0)"
      ],
      "execution_count": null,
      "outputs": [
        {
          "output_type": "execute_result",
          "data": {
            "text/plain": [
              "(array([ 0.,  0., -0., -0.,  0.,  0.,  0., -0.]),\n",
              " array([1., 1., 1., 1., 1., 1., 1., 1.]))"
            ]
          },
          "metadata": {},
          "execution_count": 16
        }
      ]
    },
    {
      "cell_type": "code",
      "metadata": {
        "colab": {
          "base_uri": "https://localhost:8080/"
        },
        "id": "3-udYN35n6Xj",
        "outputId": "354baa6d-d8ee-4f30-a27a-fd51d530f3b1"
      },
      "source": [
        "X_test.mean(axis=0).round(2),X_test.var(axis=0)"
      ],
      "execution_count": null,
      "outputs": [
        {
          "output_type": "execute_result",
          "data": {
            "text/plain": [
              "(array([-0.,  0., -0., -0.,  0.,  0., -0., -0.]),\n",
              " array([1., 1., 1., 1., 1., 1., 1., 1.]))"
            ]
          },
          "metadata": {},
          "execution_count": 17
        }
      ]
    },
    {
      "cell_type": "markdown",
      "metadata": {
        "id": "y5J2dtxqoGFH"
      },
      "source": [
        "## Modelos"
      ]
    },
    {
      "cell_type": "markdown",
      "metadata": {
        "id": "1ZgHQhgJoSr3"
      },
      "source": [
        "### Modelo 1"
      ]
    },
    {
      "cell_type": "code",
      "metadata": {
        "colab": {
          "base_uri": "https://localhost:8080/"
        },
        "id": "6epXIVRgoOav",
        "outputId": "4258e1b6-713a-4d86-dc98-6bf0d76088a7"
      },
      "source": [
        "#Random Forest Modelo 1 de 2\n",
        "from sklearn.ensemble import RandomForestClassifier\n",
        "model_rf = RandomForestClassifier(max_depth=3, n_estimators=300) #hyperparameters (n_estimators=300, criterion=\"gini\", max_features=\"auto\", max_depth=3)\n",
        "model_rf.fit(X_train, y_train)"
      ],
      "execution_count": null,
      "outputs": [
        {
          "output_type": "execute_result",
          "data": {
            "text/plain": [
              "RandomForestClassifier(bootstrap=True, ccp_alpha=0.0, class_weight=None,\n",
              "                       criterion='gini', max_depth=3, max_features='auto',\n",
              "                       max_leaf_nodes=None, max_samples=None,\n",
              "                       min_impurity_decrease=0.0, min_impurity_split=None,\n",
              "                       min_samples_leaf=1, min_samples_split=2,\n",
              "                       min_weight_fraction_leaf=0.0, n_estimators=300,\n",
              "                       n_jobs=None, oob_score=False, random_state=None,\n",
              "                       verbose=0, warm_start=False)"
            ]
          },
          "metadata": {},
          "execution_count": 19
        }
      ]
    },
    {
      "cell_type": "code",
      "metadata": {
        "id": "Xr9RNmhbqvsz"
      },
      "source": [
        "y_pred_raw = model_rf.predict_proba(X_test)"
      ],
      "execution_count": null,
      "outputs": []
    },
    {
      "cell_type": "code",
      "metadata": {
        "colab": {
          "base_uri": "https://localhost:8080/"
        },
        "id": "zbXMYpoMq3hY",
        "outputId": "5f1a23c5-3038-4ce8-e5d5-b4c6a9b80376"
      },
      "source": [
        "precision_list = []\n",
        "accuracy_list = []\n",
        "recall_list = []\n",
        "f1_list = []\n",
        "cut_list = []\n",
        "for cut in [x/1000 for x in range(1001)]:\n",
        "  y_pred = [1 if x[1]>= cut else 0 for x in y_pred_raw]\n",
        "  cut_list.append(cut)\n",
        "  accuracy_list.append(accuracy_score(y_test,y_pred))\n",
        "  precision_list.append(precision_score(y_test,y_pred))\n",
        "  recall_list.append(recall_score(y_test,y_pred))\n",
        "  f1_list.append(f1_score(y_test,y_pred))"
      ],
      "execution_count": null,
      "outputs": [
        {
          "output_type": "stream",
          "name": "stderr",
          "text": [
            "/usr/local/lib/python3.7/dist-packages/sklearn/metrics/_classification.py:1272: UndefinedMetricWarning:\n",
            "\n",
            "Precision is ill-defined and being set to 0.0 due to no predicted samples. Use `zero_division` parameter to control this behavior.\n",
            "\n"
          ]
        }
      ]
    },
    {
      "cell_type": "code",
      "metadata": {
        "colab": {
          "base_uri": "https://localhost:8080/",
          "height": 359
        },
        "id": "WM_pPSIAq9uP",
        "outputId": "0c047d1a-39fb-41b2-a5e3-62df85b0686b"
      },
      "source": [
        "df_metrics = pd.DataFrame({'Cut':cut_list,\n",
        "                           'Accuracy':accuracy_list,\n",
        "                           'Recall':recall_list,\n",
        "                           'Precision':precision_list,\n",
        "                           'F1':f1_list})\n",
        "df_metrics.sort_values(by=['Accuracy'],ascending=False).head(10)"
      ],
      "execution_count": null,
      "outputs": [
        {
          "output_type": "execute_result",
          "data": {
            "text/html": [
              "<div>\n",
              "<style scoped>\n",
              "    .dataframe tbody tr th:only-of-type {\n",
              "        vertical-align: middle;\n",
              "    }\n",
              "\n",
              "    .dataframe tbody tr th {\n",
              "        vertical-align: top;\n",
              "    }\n",
              "\n",
              "    .dataframe thead th {\n",
              "        text-align: right;\n",
              "    }\n",
              "</style>\n",
              "<table border=\"1\" class=\"dataframe\">\n",
              "  <thead>\n",
              "    <tr style=\"text-align: right;\">\n",
              "      <th></th>\n",
              "      <th>Cut</th>\n",
              "      <th>Accuracy</th>\n",
              "      <th>Recall</th>\n",
              "      <th>Precision</th>\n",
              "      <th>F1</th>\n",
              "    </tr>\n",
              "  </thead>\n",
              "  <tbody>\n",
              "    <tr>\n",
              "      <th>717</th>\n",
              "      <td>0.717</td>\n",
              "      <td>0.785714</td>\n",
              "      <td>0.708333</td>\n",
              "      <td>0.894737</td>\n",
              "      <td>0.790698</td>\n",
              "    </tr>\n",
              "    <tr>\n",
              "      <th>713</th>\n",
              "      <td>0.713</td>\n",
              "      <td>0.785714</td>\n",
              "      <td>0.708333</td>\n",
              "      <td>0.894737</td>\n",
              "      <td>0.790698</td>\n",
              "    </tr>\n",
              "    <tr>\n",
              "      <th>715</th>\n",
              "      <td>0.715</td>\n",
              "      <td>0.785714</td>\n",
              "      <td>0.708333</td>\n",
              "      <td>0.894737</td>\n",
              "      <td>0.790698</td>\n",
              "    </tr>\n",
              "    <tr>\n",
              "      <th>716</th>\n",
              "      <td>0.716</td>\n",
              "      <td>0.785714</td>\n",
              "      <td>0.708333</td>\n",
              "      <td>0.894737</td>\n",
              "      <td>0.790698</td>\n",
              "    </tr>\n",
              "    <tr>\n",
              "      <th>712</th>\n",
              "      <td>0.712</td>\n",
              "      <td>0.785714</td>\n",
              "      <td>0.708333</td>\n",
              "      <td>0.894737</td>\n",
              "      <td>0.790698</td>\n",
              "    </tr>\n",
              "    <tr>\n",
              "      <th>718</th>\n",
              "      <td>0.718</td>\n",
              "      <td>0.785714</td>\n",
              "      <td>0.708333</td>\n",
              "      <td>0.894737</td>\n",
              "      <td>0.790698</td>\n",
              "    </tr>\n",
              "    <tr>\n",
              "      <th>719</th>\n",
              "      <td>0.719</td>\n",
              "      <td>0.785714</td>\n",
              "      <td>0.708333</td>\n",
              "      <td>0.894737</td>\n",
              "      <td>0.790698</td>\n",
              "    </tr>\n",
              "    <tr>\n",
              "      <th>720</th>\n",
              "      <td>0.720</td>\n",
              "      <td>0.785714</td>\n",
              "      <td>0.708333</td>\n",
              "      <td>0.894737</td>\n",
              "      <td>0.790698</td>\n",
              "    </tr>\n",
              "    <tr>\n",
              "      <th>721</th>\n",
              "      <td>0.721</td>\n",
              "      <td>0.785714</td>\n",
              "      <td>0.708333</td>\n",
              "      <td>0.894737</td>\n",
              "      <td>0.790698</td>\n",
              "    </tr>\n",
              "    <tr>\n",
              "      <th>722</th>\n",
              "      <td>0.722</td>\n",
              "      <td>0.785714</td>\n",
              "      <td>0.708333</td>\n",
              "      <td>0.894737</td>\n",
              "      <td>0.790698</td>\n",
              "    </tr>\n",
              "  </tbody>\n",
              "</table>\n",
              "</div>"
            ],
            "text/plain": [
              "       Cut  Accuracy    Recall  Precision        F1\n",
              "717  0.717  0.785714  0.708333   0.894737  0.790698\n",
              "713  0.713  0.785714  0.708333   0.894737  0.790698\n",
              "715  0.715  0.785714  0.708333   0.894737  0.790698\n",
              "716  0.716  0.785714  0.708333   0.894737  0.790698\n",
              "712  0.712  0.785714  0.708333   0.894737  0.790698\n",
              "718  0.718  0.785714  0.708333   0.894737  0.790698\n",
              "719  0.719  0.785714  0.708333   0.894737  0.790698\n",
              "720  0.720  0.785714  0.708333   0.894737  0.790698\n",
              "721  0.721  0.785714  0.708333   0.894737  0.790698\n",
              "722  0.722  0.785714  0.708333   0.894737  0.790698"
            ]
          },
          "metadata": {},
          "execution_count": 22
        }
      ]
    },
    {
      "cell_type": "code",
      "metadata": {
        "colab": {
          "base_uri": "https://localhost:8080/",
          "height": 295
        },
        "id": "E-7SFf7WrEMs",
        "outputId": "8e927bee-aee7-49cb-d6a8-a287cd02ac6d"
      },
      "source": [
        "features = columns\n",
        "importances = model_rf.feature_importances_\n",
        "df_importance = pd.DataFrame({'Feature':features,'Importance':importances}).sort_values(by=['Importance'],ascending=True)\n",
        "plt.title('Feature Importances')\n",
        "plt.barh(range(len(df_importance)), df_importance['Importance'], color='b', align='center')\n",
        "plt.yticks(range(len(df_importance)), df_importance['Feature'])\n",
        "plt.xlabel('Relative Importance')\n",
        "plt.show()"
      ],
      "execution_count": null,
      "outputs": [
        {
          "output_type": "display_data",
          "data": {
            "image/png": "[encoded data removed]",
            "text/plain": [
              "<Figure size 432x288 with 1 Axes>"
            ]
          },
          "metadata": {
            "needs_background": "light"
          }
        }
      ]
    },
    {
      "cell_type": "markdown",
      "metadata": {
        "id": "7jgcaSbxrflc"
      },
      "source": [
        "![image.png](data:image/png;base64,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)"
      ]
    },
    {
      "cell_type": "markdown",
      "metadata": {
        "id": "A-DkpRSErsMg"
      },
      "source": [
        "### Modelo 2"
      ]
    },
    {
      "cell_type": "code",
      "metadata": {
        "colab": {
          "base_uri": "https://localhost:8080/"
        },
        "id": "ZhNg89Dgrwor",
        "outputId": "48e0c97f-1ddc-4df9-f24b-d6c40370187c"
      },
      "source": [
        "#Random Forest modelo 2 de 2\n",
        "from sklearn.ensemble import RandomForestClassifier\n",
        "model_rf = RandomForestClassifier(max_depth=2, n_estimators=500, criterion=\"entropy\") #hyperparameters (n_estimators=500, criterion=\"entropy\", max_features=\"auto\", max_depth=2)\n",
        "model_rf.fit(X_train, y_train)"
      ],
      "execution_count": null,
      "outputs": [
        {
          "output_type": "execute_result",
          "data": {
            "text/plain": [
              "RandomForestClassifier(bootstrap=True, ccp_alpha=0.0, class_weight=None,\n",
              "                       criterion='entropy', max_depth=2, max_features='auto',\n",
              "                       max_leaf_nodes=None, max_samples=None,\n",
              "                       min_impurity_decrease=0.0, min_impurity_split=None,\n",
              "                       min_samples_leaf=1, min_samples_split=2,\n",
              "                       min_weight_fraction_leaf=0.0, n_estimators=500,\n",
              "                       n_jobs=None, oob_score=False, random_state=None,\n",
              "                       verbose=0, warm_start=False)"
            ]
          },
          "metadata": {},
          "execution_count": 24
        }
      ]
    },
    {
      "cell_type": "code",
      "metadata": {
        "id": "cErpCdi4sLgo"
      },
      "source": [
        "y_pred_raw = model_rf.predict_proba(X_test)"
      ],
      "execution_count": null,
      "outputs": []
    },
    {
      "cell_type": "code",
      "metadata": {
        "colab": {
          "base_uri": "https://localhost:8080/"
        },
        "id": "Mv49uwX3sN-A",
        "outputId": "a07b2bcf-67af-4b17-a301-9e67f5934de3"
      },
      "source": [
        "precision_list = []\n",
        "accuracy_list = []\n",
        "recall_list = []\n",
        "f1_list = []\n",
        "cut_list = []\n",
        "for cut in [x/1000 for x in range(1001)]:\n",
        "  y_pred = [1 if x[1]>= cut else 0 for x in y_pred_raw]\n",
        "  cut_list.append(cut)\n",
        "  accuracy_list.append(accuracy_score(y_test,y_pred))\n",
        "  precision_list.append(precision_score(y_test,y_pred))\n",
        "  recall_list.append(recall_score(y_test,y_pred))\n",
        "  f1_list.append(f1_score(y_test,y_pred))"
      ],
      "execution_count": null,
      "outputs": [
        {
          "output_type": "stream",
          "name": "stderr",
          "text": [
            "/usr/local/lib/python3.7/dist-packages/sklearn/metrics/_classification.py:1272: UndefinedMetricWarning:\n",
            "\n",
            "Precision is ill-defined and being set to 0.0 due to no predicted samples. Use `zero_division` parameter to control this behavior.\n",
            "\n"
          ]
        }
      ]
    },
    {
      "cell_type": "code",
      "metadata": {
        "colab": {
          "base_uri": "https://localhost:8080/",
          "height": 359
        },
        "id": "cw_vVx9KsR1b",
        "outputId": "2704697c-0c39-4999-c890-cff3c966a392"
      },
      "source": [
        "df_metrics = pd.DataFrame({'Cut':cut_list,\n",
        "                           'Accuracy':accuracy_list,\n",
        "                           'Recall':recall_list,\n",
        "                           'Precision':precision_list,\n",
        "                           'F1':f1_list})\n",
        "df_metrics.sort_values(by=['Accuracy'],ascending=False).head(10)"
      ],
      "execution_count": null,
      "outputs": [
        {
          "output_type": "execute_result",
          "data": {
            "text/html": [
              "<div>\n",
              "<style scoped>\n",
              "    .dataframe tbody tr th:only-of-type {\n",
              "        vertical-align: middle;\n",
              "    }\n",
              "\n",
              "    .dataframe tbody tr th {\n",
              "        vertical-align: top;\n",
              "    }\n",
              "\n",
              "    .dataframe thead th {\n",
              "        text-align: right;\n",
              "    }\n",
              "</style>\n",
              "<table border=\"1\" class=\"dataframe\">\n",
              "  <thead>\n",
              "    <tr style=\"text-align: right;\">\n",
              "      <th></th>\n",
              "      <th>Cut</th>\n",
              "      <th>Accuracy</th>\n",
              "      <th>Recall</th>\n",
              "      <th>Precision</th>\n",
              "      <th>F1</th>\n",
              "    </tr>\n",
              "  </thead>\n",
              "  <tbody>\n",
              "    <tr>\n",
              "      <th>652</th>\n",
              "      <td>0.652</td>\n",
              "      <td>0.785714</td>\n",
              "      <td>0.750000</td>\n",
              "      <td>0.857143</td>\n",
              "      <td>0.800000</td>\n",
              "    </tr>\n",
              "    <tr>\n",
              "      <th>651</th>\n",
              "      <td>0.651</td>\n",
              "      <td>0.785714</td>\n",
              "      <td>0.750000</td>\n",
              "      <td>0.857143</td>\n",
              "      <td>0.800000</td>\n",
              "    </tr>\n",
              "    <tr>\n",
              "      <th>650</th>\n",
              "      <td>0.650</td>\n",
              "      <td>0.785714</td>\n",
              "      <td>0.750000</td>\n",
              "      <td>0.857143</td>\n",
              "      <td>0.800000</td>\n",
              "    </tr>\n",
              "    <tr>\n",
              "      <th>649</th>\n",
              "      <td>0.649</td>\n",
              "      <td>0.785714</td>\n",
              "      <td>0.750000</td>\n",
              "      <td>0.857143</td>\n",
              "      <td>0.800000</td>\n",
              "    </tr>\n",
              "    <tr>\n",
              "      <th>648</th>\n",
              "      <td>0.648</td>\n",
              "      <td>0.785714</td>\n",
              "      <td>0.750000</td>\n",
              "      <td>0.857143</td>\n",
              "      <td>0.800000</td>\n",
              "    </tr>\n",
              "    <tr>\n",
              "      <th>662</th>\n",
              "      <td>0.662</td>\n",
              "      <td>0.761905</td>\n",
              "      <td>0.708333</td>\n",
              "      <td>0.850000</td>\n",
              "      <td>0.772727</td>\n",
              "    </tr>\n",
              "    <tr>\n",
              "      <th>721</th>\n",
              "      <td>0.721</td>\n",
              "      <td>0.761905</td>\n",
              "      <td>0.666667</td>\n",
              "      <td>0.888889</td>\n",
              "      <td>0.761905</td>\n",
              "    </tr>\n",
              "    <tr>\n",
              "      <th>697</th>\n",
              "      <td>0.697</td>\n",
              "      <td>0.761905</td>\n",
              "      <td>0.708333</td>\n",
              "      <td>0.850000</td>\n",
              "      <td>0.772727</td>\n",
              "    </tr>\n",
              "    <tr>\n",
              "      <th>696</th>\n",
              "      <td>0.696</td>\n",
              "      <td>0.761905</td>\n",
              "      <td>0.708333</td>\n",
              "      <td>0.850000</td>\n",
              "      <td>0.772727</td>\n",
              "    </tr>\n",
              "    <tr>\n",
              "      <th>695</th>\n",
              "      <td>0.695</td>\n",
              "      <td>0.761905</td>\n",
              "      <td>0.708333</td>\n",
              "      <td>0.850000</td>\n",
              "      <td>0.772727</td>\n",
              "    </tr>\n",
              "  </tbody>\n",
              "</table>\n",
              "</div>"
            ],
            "text/plain": [
              "       Cut  Accuracy    Recall  Precision        F1\n",
              "652  0.652  0.785714  0.750000   0.857143  0.800000\n",
              "651  0.651  0.785714  0.750000   0.857143  0.800000\n",
              "650  0.650  0.785714  0.750000   0.857143  0.800000\n",
              "649  0.649  0.785714  0.750000   0.857143  0.800000\n",
              "648  0.648  0.785714  0.750000   0.857143  0.800000\n",
              "662  0.662  0.761905  0.708333   0.850000  0.772727\n",
              "721  0.721  0.761905  0.666667   0.888889  0.761905\n",
              "697  0.697  0.761905  0.708333   0.850000  0.772727\n",
              "696  0.696  0.761905  0.708333   0.850000  0.772727\n",
              "695  0.695  0.761905  0.708333   0.850000  0.772727"
            ]
          },
          "metadata": {},
          "execution_count": 27
        }
      ]
    },
    {
      "cell_type": "code",
      "metadata": {
        "colab": {
          "base_uri": "https://localhost:8080/",
          "height": 295
        },
        "id": "oOm2umc2sdG_",
        "outputId": "6c93d3ab-45eb-4a41-975b-38f11f0f35d0"
      },
      "source": [
        "features = columns\n",
        "importances = model_rf.feature_importances_\n",
        "df_importance = pd.DataFrame({'Feature':features,'Importance':importances}).sort_values(by=['Importance'],ascending=True)\n",
        "plt.title('Feature Importances')\n",
        "plt.barh(range(len(df_importance)), df_importance['Importance'], color='b', align='center')\n",
        "plt.yticks(range(len(df_importance)), df_importance['Feature'])\n",
        "plt.xlabel('Relative Importance')\n",
        "plt.show()"
      ],
      "execution_count": null,
      "outputs": [
        {
          "output_type": "display_data",
          "data": {
            "image/png": "[encoded data removed]",
            "text/plain": [
              "<Figure size 432x288 with 1 Axes>"
            ]
          },
          "metadata": {
            "needs_background": "light"
          }
        }
      ]
    },
    {
      "cell_type": "markdown",
      "metadata": {
        "id": "PfrtqMx3shaP"
      },
      "source": [
        "![image.png](data:image/png;base64,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)"
      ]
    },
    {
      "cell_type": "markdown",
      "metadata": {
        "id": "NRFRWAjgsycL"
      },
      "source": [
        "### Modelo 3"
      ]
    },
    {
      "cell_type": "code",
      "metadata": {
        "colab": {
          "base_uri": "https://localhost:8080/"
        },
        "id": "M1WwPCj0s2aK",
        "outputId": "7eade9b2-6bb2-4090-9933-8d0e46e5850f"
      },
      "source": [
        "#Gradient Boosting modelo 1 de 2\n",
        "from sklearn.ensemble import GradientBoostingClassifier\n",
        "model_gb = GradientBoostingClassifier(n_estimators=200)  #hyperparameters (n_estimators=200, criterion=\"friedman_mse\", learning_rate=0.1, max_depth=3, loss=\"deviance\")\n",
        "model_gb.fit(X_train, y_train)"
      ],
      "execution_count": null,
      "outputs": [
        {
          "output_type": "execute_result",
          "data": {
            "text/plain": [
              "GradientBoostingClassifier(ccp_alpha=0.0, criterion='friedman_mse', init=None,\n",
              "                           learning_rate=0.1, loss='deviance', max_depth=3,\n",
              "                           max_features=None, max_leaf_nodes=None,\n",
              "                           min_impurity_decrease=0.0, min_impurity_split=None,\n",
              "                           min_samples_leaf=1, min_samples_split=2,\n",
              "                           min_weight_fraction_leaf=0.0, n_estimators=200,\n",
              "                           n_iter_no_change=None, presort='deprecated',\n",
              "                           random_state=None, subsample=1.0, tol=0.0001,\n",
              "                           validation_fraction=0.1, verbose=0,\n",
              "                           warm_start=False)"
            ]
          },
          "metadata": {},
          "execution_count": 29
        }
      ]
    },
    {
      "cell_type": "code",
      "metadata": {
        "id": "o-UMIscTuYJi"
      },
      "source": [
        "y_pred_raw = model_gb.predict_proba(X_test)"
      ],
      "execution_count": null,
      "outputs": []
    },
    {
      "cell_type": "code",
      "metadata": {
        "colab": {
          "base_uri": "https://localhost:8080/"
        },
        "id": "_NqeejcNucZC",
        "outputId": "a11d029c-6f4c-4451-f45c-4fb2a85ef943"
      },
      "source": [
        "precision_list = []\n",
        "accuracy_list = []\n",
        "recall_list = []\n",
        "f1_list = []\n",
        "cut_list = []\n",
        "for cut in [x/1000 for x in range(1001)]:\n",
        "  y_pred = [1 if x[1]>= cut else 0 for x in y_pred_raw]\n",
        "  cut_list.append(cut)\n",
        "  accuracy_list.append(accuracy_score(y_test,y_pred))\n",
        "  precision_list.append(precision_score(y_test,y_pred))\n",
        "  recall_list.append(recall_score(y_test,y_pred))\n",
        "  f1_list.append(f1_score(y_test,y_pred))"
      ],
      "execution_count": null,
      "outputs": [
        {
          "output_type": "stream",
          "name": "stderr",
          "text": [
            "/usr/local/lib/python3.7/dist-packages/sklearn/metrics/_classification.py:1272: UndefinedMetricWarning:\n",
            "\n",
            "Precision is ill-defined and being set to 0.0 due to no predicted samples. Use `zero_division` parameter to control this behavior.\n",
            "\n"
          ]
        }
      ]
    },
    {
      "cell_type": "code",
      "metadata": {
        "colab": {
          "base_uri": "https://localhost:8080/",
          "height": 359
        },
        "id": "FAToHDFCueet",
        "outputId": "05cedeb8-5ab2-496c-bc92-c315662f3418"
      },
      "source": [
        "df_metrics = pd.DataFrame({'Cut':cut_list,\n",
        "                           'Accuracy':accuracy_list,\n",
        "                           'Recall':recall_list,\n",
        "                           'Precision':precision_list,\n",
        "                           'F1':f1_list})\n",
        "df_metrics.sort_values(by=['Accuracy'],ascending=False).head(10)"
      ],
      "execution_count": null,
      "outputs": [
        {
          "output_type": "execute_result",
          "data": {
            "text/html": [
              "<div>\n",
              "<style scoped>\n",
              "    .dataframe tbody tr th:only-of-type {\n",
              "        vertical-align: middle;\n",
              "    }\n",
              "\n",
              "    .dataframe tbody tr th {\n",
              "        vertical-align: top;\n",
              "    }\n",
              "\n",
              "    .dataframe thead th {\n",
              "        text-align: right;\n",
              "    }\n",
              "</style>\n",
              "<table border=\"1\" class=\"dataframe\">\n",
              "  <thead>\n",
              "    <tr style=\"text-align: right;\">\n",
              "      <th></th>\n",
              "      <th>Cut</th>\n",
              "      <th>Accuracy</th>\n",
              "      <th>Recall</th>\n",
              "      <th>Precision</th>\n",
              "      <th>F1</th>\n",
              "    </tr>\n",
              "  </thead>\n",
              "  <tbody>\n",
              "    <tr>\n",
              "      <th>381</th>\n",
              "      <td>0.381</td>\n",
              "      <td>0.785714</td>\n",
              "      <td>0.916667</td>\n",
              "      <td>0.758621</td>\n",
              "      <td>0.830189</td>\n",
              "    </tr>\n",
              "    <tr>\n",
              "      <th>393</th>\n",
              "      <td>0.393</td>\n",
              "      <td>0.785714</td>\n",
              "      <td>0.916667</td>\n",
              "      <td>0.758621</td>\n",
              "      <td>0.830189</td>\n",
              "    </tr>\n",
              "    <tr>\n",
              "      <th>353</th>\n",
              "      <td>0.353</td>\n",
              "      <td>0.785714</td>\n",
              "      <td>0.958333</td>\n",
              "      <td>0.741935</td>\n",
              "      <td>0.836364</td>\n",
              "    </tr>\n",
              "    <tr>\n",
              "      <th>354</th>\n",
              "      <td>0.354</td>\n",
              "      <td>0.785714</td>\n",
              "      <td>0.958333</td>\n",
              "      <td>0.741935</td>\n",
              "      <td>0.836364</td>\n",
              "    </tr>\n",
              "    <tr>\n",
              "      <th>355</th>\n",
              "      <td>0.355</td>\n",
              "      <td>0.785714</td>\n",
              "      <td>0.958333</td>\n",
              "      <td>0.741935</td>\n",
              "      <td>0.836364</td>\n",
              "    </tr>\n",
              "    <tr>\n",
              "      <th>356</th>\n",
              "      <td>0.356</td>\n",
              "      <td>0.785714</td>\n",
              "      <td>0.958333</td>\n",
              "      <td>0.741935</td>\n",
              "      <td>0.836364</td>\n",
              "    </tr>\n",
              "    <tr>\n",
              "      <th>357</th>\n",
              "      <td>0.357</td>\n",
              "      <td>0.785714</td>\n",
              "      <td>0.958333</td>\n",
              "      <td>0.741935</td>\n",
              "      <td>0.836364</td>\n",
              "    </tr>\n",
              "    <tr>\n",
              "      <th>358</th>\n",
              "      <td>0.358</td>\n",
              "      <td>0.785714</td>\n",
              "      <td>0.958333</td>\n",
              "      <td>0.741935</td>\n",
              "      <td>0.836364</td>\n",
              "    </tr>\n",
              "    <tr>\n",
              "      <th>359</th>\n",
              "      <td>0.359</td>\n",
              "      <td>0.785714</td>\n",
              "      <td>0.958333</td>\n",
              "      <td>0.741935</td>\n",
              "      <td>0.836364</td>\n",
              "    </tr>\n",
              "    <tr>\n",
              "      <th>396</th>\n",
              "      <td>0.396</td>\n",
              "      <td>0.785714</td>\n",
              "      <td>0.916667</td>\n",
              "      <td>0.758621</td>\n",
              "      <td>0.830189</td>\n",
              "    </tr>\n",
              "  </tbody>\n",
              "</table>\n",
              "</div>"
            ],
            "text/plain": [
              "       Cut  Accuracy    Recall  Precision        F1\n",
              "381  0.381  0.785714  0.916667   0.758621  0.830189\n",
              "393  0.393  0.785714  0.916667   0.758621  0.830189\n",
              "353  0.353  0.785714  0.958333   0.741935  0.836364\n",
              "354  0.354  0.785714  0.958333   0.741935  0.836364\n",
              "355  0.355  0.785714  0.958333   0.741935  0.836364\n",
              "356  0.356  0.785714  0.958333   0.741935  0.836364\n",
              "357  0.357  0.785714  0.958333   0.741935  0.836364\n",
              "358  0.358  0.785714  0.958333   0.741935  0.836364\n",
              "359  0.359  0.785714  0.958333   0.741935  0.836364\n",
              "396  0.396  0.785714  0.916667   0.758621  0.830189"
            ]
          },
          "metadata": {},
          "execution_count": 32
        }
      ]
    },
    {
      "cell_type": "code",
      "metadata": {
        "colab": {
          "base_uri": "https://localhost:8080/",
          "height": 295
        },
        "id": "hs9jQzOXujA5",
        "outputId": "bfc76965-5279-48d7-a960-a1e13c2981d7"
      },
      "source": [
        "features = columns\n",
        "importances = model_gb.feature_importances_\n",
        "df_importance = pd.DataFrame({'Feature':features,'Importance':importances}).sort_values(by=['Importance'],ascending=True)\n",
        "plt.title('Feature Importances')\n",
        "plt.barh(range(len(df_importance)), df_importance['Importance'], color='b', align='center')\n",
        "plt.yticks(range(len(df_importance)), df_importance['Feature'])\n",
        "plt.xlabel('Relative Importance')\n",
        "plt.show()"
      ],
      "execution_count": null,
      "outputs": [
        {
          "output_type": "display_data",
          "data": {
            "image/png": "[encoded data removed]",
            "text/plain": [
              "<Figure size 432x288 with 1 Axes>"
            ]
          },
          "metadata": {
            "needs_background": "light"
          }
        }
      ]
    },
    {
      "cell_type": "markdown",
      "metadata": {
        "id": "qyqqKVEVurSs"
      },
      "source": [
        "![image.png](data:image/png;base64,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)"
      ]
    },
    {
      "cell_type": "markdown",
      "metadata": {
        "id": "uKi6yRYzuz7K"
      },
      "source": [
        "### Modelo 4"
      ]
    },
    {
      "cell_type": "code",
      "metadata": {
        "colab": {
          "base_uri": "https://localhost:8080/"
        },
        "id": "f5KtfaJbu3kp",
        "outputId": "cf01e68a-fd70-4576-f28e-54ba41808403"
      },
      "source": [
        "#Gradient Boosting modelo 2 de 2\n",
        "from sklearn.ensemble import GradientBoostingClassifier\n",
        "model_gb = GradientBoostingClassifier(n_estimators=400, max_depth=2)  #hyperparameters (n_estimators=400, criterion=\"friedman_mse\", learning_rate=0.1, max_depth=2, loss=\"deviance\")\n",
        "model_gb.fit(X_train, y_train)"
      ],
      "execution_count": null,
      "outputs": [
        {
          "output_type": "execute_result",
          "data": {
            "text/plain": [
              "GradientBoostingClassifier(ccp_alpha=0.0, criterion='friedman_mse', init=None,\n",
              "                           learning_rate=0.1, loss='deviance', max_depth=2,\n",
              "                           max_features=None, max_leaf_nodes=None,\n",
              "                           min_impurity_decrease=0.0, min_impurity_split=None,\n",
              "                           min_samples_leaf=1, min_samples_split=2,\n",
              "                           min_weight_fraction_leaf=0.0, n_estimators=400,\n",
              "                           n_iter_no_change=None, presort='deprecated',\n",
              "                           random_state=None, subsample=1.0, tol=0.0001,\n",
              "                           validation_fraction=0.1, verbose=0,\n",
              "                           warm_start=False)"
            ]
          },
          "metadata": {},
          "execution_count": 34
        }
      ]
    },
    {
      "cell_type": "code",
      "metadata": {
        "id": "sqX_F2HHvH0d"
      },
      "source": [
        "y_pred_raw = model_gb.predict_proba(X_test)"
      ],
      "execution_count": null,
      "outputs": []
    },
    {
      "cell_type": "code",
      "metadata": {
        "colab": {
          "base_uri": "https://localhost:8080/"
        },
        "id": "JQbO_SF7vJ4w",
        "outputId": "43eb93ff-03dd-4078-b224-1b196c9af51f"
      },
      "source": [
        "precision_list = []\n",
        "accuracy_list = []\n",
        "recall_list = []\n",
        "f1_list = []\n",
        "cut_list = []\n",
        "for cut in [x/1000 for x in range(1001)]:\n",
        "  y_pred = [1 if x[1]>= cut else 0 for x in y_pred_raw]\n",
        "  cut_list.append(cut)\n",
        "  accuracy_list.append(accuracy_score(y_test,y_pred))\n",
        "  precision_list.append(precision_score(y_test,y_pred))\n",
        "  recall_list.append(recall_score(y_test,y_pred))\n",
        "  f1_list.append(f1_score(y_test,y_pred))"
      ],
      "execution_count": null,
      "outputs": [
        {
          "output_type": "stream",
          "name": "stderr",
          "text": [
            "/usr/local/lib/python3.7/dist-packages/sklearn/metrics/_classification.py:1272: UndefinedMetricWarning:\n",
            "\n",
            "Precision is ill-defined and being set to 0.0 due to no predicted samples. Use `zero_division` parameter to control this behavior.\n",
            "\n"
          ]
        }
      ]
    },
    {
      "cell_type": "code",
      "metadata": {
        "colab": {
          "base_uri": "https://localhost:8080/",
          "height": 359
        },
        "id": "aZAIZDdmvLdi",
        "outputId": "f46d575e-c7dc-4878-c85c-a9be3ec9c702"
      },
      "source": [
        "df_metrics = pd.DataFrame({'Cut':cut_list,\n",
        "                           'Accuracy':accuracy_list,\n",
        "                           'Recall':recall_list,\n",
        "                           'Precision':precision_list,\n",
        "                           'F1':f1_list})\n",
        "df_metrics.sort_values(by=['Accuracy'],ascending=False).head(10)"
      ],
      "execution_count": null,
      "outputs": [
        {
          "output_type": "execute_result",
          "data": {
            "text/html": [
              "<div>\n",
              "<style scoped>\n",
              "    .dataframe tbody tr th:only-of-type {\n",
              "        vertical-align: middle;\n",
              "    }\n",
              "\n",
              "    .dataframe tbody tr th {\n",
              "        vertical-align: top;\n",
              "    }\n",
              "\n",
              "    .dataframe thead th {\n",
              "        text-align: right;\n",
              "    }\n",
              "</style>\n",
              "<table border=\"1\" class=\"dataframe\">\n",
              "  <thead>\n",
              "    <tr style=\"text-align: right;\">\n",
              "      <th></th>\n",
              "      <th>Cut</th>\n",
              "      <th>Accuracy</th>\n",
              "      <th>Recall</th>\n",
              "      <th>Precision</th>\n",
              "      <th>F1</th>\n",
              "    </tr>\n",
              "  </thead>\n",
              "  <tbody>\n",
              "    <tr>\n",
              "      <th>937</th>\n",
              "      <td>0.937</td>\n",
              "      <td>0.809524</td>\n",
              "      <td>0.791667</td>\n",
              "      <td>0.863636</td>\n",
              "      <td>0.826087</td>\n",
              "    </tr>\n",
              "    <tr>\n",
              "      <th>933</th>\n",
              "      <td>0.933</td>\n",
              "      <td>0.809524</td>\n",
              "      <td>0.791667</td>\n",
              "      <td>0.863636</td>\n",
              "      <td>0.826087</td>\n",
              "    </tr>\n",
              "    <tr>\n",
              "      <th>936</th>\n",
              "      <td>0.936</td>\n",
              "      <td>0.809524</td>\n",
              "      <td>0.791667</td>\n",
              "      <td>0.863636</td>\n",
              "      <td>0.826087</td>\n",
              "    </tr>\n",
              "    <tr>\n",
              "      <th>922</th>\n",
              "      <td>0.922</td>\n",
              "      <td>0.809524</td>\n",
              "      <td>0.833333</td>\n",
              "      <td>0.833333</td>\n",
              "      <td>0.833333</td>\n",
              "    </tr>\n",
              "    <tr>\n",
              "      <th>923</th>\n",
              "      <td>0.923</td>\n",
              "      <td>0.809524</td>\n",
              "      <td>0.833333</td>\n",
              "      <td>0.833333</td>\n",
              "      <td>0.833333</td>\n",
              "    </tr>\n",
              "    <tr>\n",
              "      <th>924</th>\n",
              "      <td>0.924</td>\n",
              "      <td>0.809524</td>\n",
              "      <td>0.833333</td>\n",
              "      <td>0.833333</td>\n",
              "      <td>0.833333</td>\n",
              "    </tr>\n",
              "    <tr>\n",
              "      <th>925</th>\n",
              "      <td>0.925</td>\n",
              "      <td>0.809524</td>\n",
              "      <td>0.833333</td>\n",
              "      <td>0.833333</td>\n",
              "      <td>0.833333</td>\n",
              "    </tr>\n",
              "    <tr>\n",
              "      <th>935</th>\n",
              "      <td>0.935</td>\n",
              "      <td>0.809524</td>\n",
              "      <td>0.791667</td>\n",
              "      <td>0.863636</td>\n",
              "      <td>0.826087</td>\n",
              "    </tr>\n",
              "    <tr>\n",
              "      <th>934</th>\n",
              "      <td>0.934</td>\n",
              "      <td>0.809524</td>\n",
              "      <td>0.791667</td>\n",
              "      <td>0.863636</td>\n",
              "      <td>0.826087</td>\n",
              "    </tr>\n",
              "    <tr>\n",
              "      <th>938</th>\n",
              "      <td>0.938</td>\n",
              "      <td>0.809524</td>\n",
              "      <td>0.791667</td>\n",
              "      <td>0.863636</td>\n",
              "      <td>0.826087</td>\n",
              "    </tr>\n",
              "  </tbody>\n",
              "</table>\n",
              "</div>"
            ],
            "text/plain": [
              "       Cut  Accuracy    Recall  Precision        F1\n",
              "937  0.937  0.809524  0.791667   0.863636  0.826087\n",
              "933  0.933  0.809524  0.791667   0.863636  0.826087\n",
              "936  0.936  0.809524  0.791667   0.863636  0.826087\n",
              "922  0.922  0.809524  0.833333   0.833333  0.833333\n",
              "923  0.923  0.809524  0.833333   0.833333  0.833333\n",
              "924  0.924  0.809524  0.833333   0.833333  0.833333\n",
              "925  0.925  0.809524  0.833333   0.833333  0.833333\n",
              "935  0.935  0.809524  0.791667   0.863636  0.826087\n",
              "934  0.934  0.809524  0.791667   0.863636  0.826087\n",
              "938  0.938  0.809524  0.791667   0.863636  0.826087"
            ]
          },
          "metadata": {},
          "execution_count": 37
        }
      ]
    },
    {
      "cell_type": "code",
      "metadata": {
        "colab": {
          "base_uri": "https://localhost:8080/",
          "height": 295
        },
        "id": "aYDI9emFvNZE",
        "outputId": "89a66d1d-6613-448e-e193-5374bf998869"
      },
      "source": [
        "features = columns\n",
        "importances = model_gb.feature_importances_\n",
        "df_importance = pd.DataFrame({'Feature':features,'Importance':importances}).sort_values(by=['Importance'],ascending=True)\n",
        "plt.title('Feature Importances')\n",
        "plt.barh(range(len(df_importance)), df_importance['Importance'], color='b', align='center')\n",
        "plt.yticks(range(len(df_importance)), df_importance['Feature'])\n",
        "plt.xlabel('Relative Importance')\n",
        "plt.show()"
      ],
      "execution_count": null,
      "outputs": [
        {
          "output_type": "display_data",
          "data": {
            "image/png": "[encoded data removed]",
            "text/plain": [
              "<Figure size 432x288 with 1 Axes>"
            ]
          },
          "metadata": {
            "needs_background": "light"
          }
        }
      ]
    },
    {
      "cell_type": "markdown",
      "metadata": {
        "id": "Qd5QqUWSvZqw"
      },
      "source": [
        "![image.png](data:image/png;base64,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)"
      ]
    },
    {
      "cell_type": "markdown",
      "metadata": {
        "id": "5fCIAdfrvc2O"
      },
      "source": [
        "### Modelo 5"
      ]
    },
    {
      "cell_type": "code",
      "metadata": {
        "colab": {
          "base_uri": "https://localhost:8080/"
        },
        "id": "6klz7QFQv82Q",
        "outputId": "908bf8ed-0610-4705-851b-4474a7c2faaf"
      },
      "source": [
        "#SVM modelo 1 de 2\n",
        "from sklearn.svm import SVC\n",
        "model_svc = SVC(probability=True)  #hyperparameters (kernel=\"rbf\", gamma=\"scale\", probability=True)\n",
        "model_svc.fit(X_train, y_train)"
      ],
      "execution_count": null,
      "outputs": [
        {
          "output_type": "execute_result",
          "data": {
            "text/plain": [
              "SVC(C=1.0, break_ties=False, cache_size=200, class_weight=None, coef0=0.0,\n",
              "    decision_function_shape='ovr', degree=3, gamma='scale', kernel='rbf',\n",
              "    max_iter=-1, probability=True, random_state=None, shrinking=True, tol=0.001,\n",
              "    verbose=False)"
            ]
          },
          "metadata": {},
          "execution_count": 39
        }
      ]
    },
    {
      "cell_type": "code",
      "metadata": {
        "id": "1vCh5O_PxhJI"
      },
      "source": [
        "y_pred_raw = model_svc.predict_proba(X_test)"
      ],
      "execution_count": null,
      "outputs": []
    },
    {
      "cell_type": "code",
      "metadata": {
        "colab": {
          "base_uri": "https://localhost:8080/"
        },
        "id": "S0IsBfmsxrYt",
        "outputId": "81b98bcf-a155-45d5-f82e-7c3ee1d935b5"
      },
      "source": [
        "precision_list = []\n",
        "accuracy_list = []\n",
        "recall_list = []\n",
        "f1_list = []\n",
        "cut_list = []\n",
        "for cut in [x/1000 for x in range(1001)]:\n",
        "  y_pred = [1 if x[1]>= cut else 0 for x in y_pred_raw]\n",
        "  cut_list.append(cut)\n",
        "  accuracy_list.append(accuracy_score(y_test,y_pred))\n",
        "  precision_list.append(precision_score(y_test,y_pred))\n",
        "  recall_list.append(recall_score(y_test,y_pred))\n",
        "  f1_list.append(f1_score(y_test,y_pred))"
      ],
      "execution_count": null,
      "outputs": [
        {
          "output_type": "stream",
          "name": "stderr",
          "text": [
            "/usr/local/lib/python3.7/dist-packages/sklearn/metrics/_classification.py:1272: UndefinedMetricWarning:\n",
            "\n",
            "Precision is ill-defined and being set to 0.0 due to no predicted samples. Use `zero_division` parameter to control this behavior.\n",
            "\n"
          ]
        }
      ]
    },
    {
      "cell_type": "code",
      "metadata": {
        "colab": {
          "base_uri": "https://localhost:8080/",
          "height": 359
        },
        "id": "VPNX2cT4xuWL",
        "outputId": "a88360a7-f140-41f5-f0d0-fe77d1e7e3dd"
      },
      "source": [
        "df_metrics = pd.DataFrame({'Cut':cut_list,\n",
        "                           'Accuracy':accuracy_list,\n",
        "                           'Recall':recall_list,\n",
        "                           'Precision':precision_list,\n",
        "                           'F1':f1_list})\n",
        "df_metrics.sort_values(by=['Accuracy'],ascending=False).head(10)"
      ],
      "execution_count": null,
      "outputs": [
        {
          "output_type": "execute_result",
          "data": {
            "text/html": [
              "<div>\n",
              "<style scoped>\n",
              "    .dataframe tbody tr th:only-of-type {\n",
              "        vertical-align: middle;\n",
              "    }\n",
              "\n",
              "    .dataframe tbody tr th {\n",
              "        vertical-align: top;\n",
              "    }\n",
              "\n",
              "    .dataframe thead th {\n",
              "        text-align: right;\n",
              "    }\n",
              "</style>\n",
              "<table border=\"1\" class=\"dataframe\">\n",
              "  <thead>\n",
              "    <tr style=\"text-align: right;\">\n",
              "      <th></th>\n",
              "      <th>Cut</th>\n",
              "      <th>Accuracy</th>\n",
              "      <th>Recall</th>\n",
              "      <th>Precision</th>\n",
              "      <th>F1</th>\n",
              "    </tr>\n",
              "  </thead>\n",
              "  <tbody>\n",
              "    <tr>\n",
              "      <th>778</th>\n",
              "      <td>0.778</td>\n",
              "      <td>0.785714</td>\n",
              "      <td>0.750000</td>\n",
              "      <td>0.857143</td>\n",
              "      <td>0.800000</td>\n",
              "    </tr>\n",
              "    <tr>\n",
              "      <th>776</th>\n",
              "      <td>0.776</td>\n",
              "      <td>0.785714</td>\n",
              "      <td>0.750000</td>\n",
              "      <td>0.857143</td>\n",
              "      <td>0.800000</td>\n",
              "    </tr>\n",
              "    <tr>\n",
              "      <th>849</th>\n",
              "      <td>0.849</td>\n",
              "      <td>0.785714</td>\n",
              "      <td>0.666667</td>\n",
              "      <td>0.941176</td>\n",
              "      <td>0.780488</td>\n",
              "    </tr>\n",
              "    <tr>\n",
              "      <th>850</th>\n",
              "      <td>0.850</td>\n",
              "      <td>0.785714</td>\n",
              "      <td>0.666667</td>\n",
              "      <td>0.941176</td>\n",
              "      <td>0.780488</td>\n",
              "    </tr>\n",
              "    <tr>\n",
              "      <th>851</th>\n",
              "      <td>0.851</td>\n",
              "      <td>0.785714</td>\n",
              "      <td>0.666667</td>\n",
              "      <td>0.941176</td>\n",
              "      <td>0.780488</td>\n",
              "    </tr>\n",
              "    <tr>\n",
              "      <th>788</th>\n",
              "      <td>0.788</td>\n",
              "      <td>0.785714</td>\n",
              "      <td>0.750000</td>\n",
              "      <td>0.857143</td>\n",
              "      <td>0.800000</td>\n",
              "    </tr>\n",
              "    <tr>\n",
              "      <th>787</th>\n",
              "      <td>0.787</td>\n",
              "      <td>0.785714</td>\n",
              "      <td>0.750000</td>\n",
              "      <td>0.857143</td>\n",
              "      <td>0.800000</td>\n",
              "    </tr>\n",
              "    <tr>\n",
              "      <th>786</th>\n",
              "      <td>0.786</td>\n",
              "      <td>0.785714</td>\n",
              "      <td>0.750000</td>\n",
              "      <td>0.857143</td>\n",
              "      <td>0.800000</td>\n",
              "    </tr>\n",
              "    <tr>\n",
              "      <th>784</th>\n",
              "      <td>0.784</td>\n",
              "      <td>0.785714</td>\n",
              "      <td>0.750000</td>\n",
              "      <td>0.857143</td>\n",
              "      <td>0.800000</td>\n",
              "    </tr>\n",
              "    <tr>\n",
              "      <th>783</th>\n",
              "      <td>0.783</td>\n",
              "      <td>0.785714</td>\n",
              "      <td>0.750000</td>\n",
              "      <td>0.857143</td>\n",
              "      <td>0.800000</td>\n",
              "    </tr>\n",
              "  </tbody>\n",
              "</table>\n",
              "</div>"
            ],
            "text/plain": [
              "       Cut  Accuracy    Recall  Precision        F1\n",
              "778  0.778  0.785714  0.750000   0.857143  0.800000\n",
              "776  0.776  0.785714  0.750000   0.857143  0.800000\n",
              "849  0.849  0.785714  0.666667   0.941176  0.780488\n",
              "850  0.850  0.785714  0.666667   0.941176  0.780488\n",
              "851  0.851  0.785714  0.666667   0.941176  0.780488\n",
              "788  0.788  0.785714  0.750000   0.857143  0.800000\n",
              "787  0.787  0.785714  0.750000   0.857143  0.800000\n",
              "786  0.786  0.785714  0.750000   0.857143  0.800000\n",
              "784  0.784  0.785714  0.750000   0.857143  0.800000\n",
              "783  0.783  0.785714  0.750000   0.857143  0.800000"
            ]
          },
          "metadata": {},
          "execution_count": 42
        }
      ]
    },
    {
      "cell_type": "markdown",
      "metadata": {
        "id": "Fd7rwEynx3TD"
      },
      "source": [
        "### Modelo 6"
      ]
    },
    {
      "cell_type": "code",
      "metadata": {
        "colab": {
          "base_uri": "https://localhost:8080/"
        },
        "id": "HpQgy3yEx1_U",
        "outputId": "23c5ccd7-e36c-464e-8158-7a77b5663766"
      },
      "source": [
        "#SVM modelo 2 de 2\n",
        "from sklearn.svm import SVC\n",
        "model_svc = SVC(gamma=\"auto\", probability=True)  #hyperparameters (kernel=\"rbf\", probability=True)\n",
        "model_svc.fit(X_train, y_train)"
      ],
      "execution_count": null,
      "outputs": [
        {
          "output_type": "execute_result",
          "data": {
            "text/plain": [
              "SVC(C=1.0, break_ties=False, cache_size=200, class_weight=None, coef0=0.0,\n",
              "    decision_function_shape='ovr', degree=3, gamma='auto', kernel='rbf',\n",
              "    max_iter=-1, probability=True, random_state=None, shrinking=True, tol=0.001,\n",
              "    verbose=False)"
            ]
          },
          "metadata": {},
          "execution_count": 45
        }
      ]
    },
    {
      "cell_type": "code",
      "metadata": {
        "id": "l6T-69mmyOZm"
      },
      "source": [
        "y_pred_raw = model_svc.predict_proba(X_test)"
      ],
      "execution_count": null,
      "outputs": []
    },
    {
      "cell_type": "code",
      "metadata": {
        "colab": {
          "base_uri": "https://localhost:8080/"
        },
        "id": "6H89nx7UyP6h",
        "outputId": "d33f81fe-7ac1-4f92-af92-9dc3fed85236"
      },
      "source": [
        "precision_list = []\n",
        "accuracy_list = []\n",
        "recall_list = []\n",
        "f1_list = []\n",
        "cut_list = []\n",
        "for cut in [x/1000 for x in range(1001)]:\n",
        "  y_pred = [1 if x[1]>= cut else 0 for x in y_pred_raw]\n",
        "  cut_list.append(cut)\n",
        "  accuracy_list.append(accuracy_score(y_test,y_pred))\n",
        "  precision_list.append(precision_score(y_test,y_pred))\n",
        "  recall_list.append(recall_score(y_test,y_pred))\n",
        "  f1_list.append(f1_score(y_test,y_pred))"
      ],
      "execution_count": null,
      "outputs": [
        {
          "output_type": "stream",
          "name": "stderr",
          "text": [
            "/usr/local/lib/python3.7/dist-packages/sklearn/metrics/_classification.py:1272: UndefinedMetricWarning:\n",
            "\n",
            "Precision is ill-defined and being set to 0.0 due to no predicted samples. Use `zero_division` parameter to control this behavior.\n",
            "\n"
          ]
        }
      ]
    },
    {
      "cell_type": "code",
      "metadata": {
        "colab": {
          "base_uri": "https://localhost:8080/",
          "height": 359
        },
        "id": "LOnVB5I2yRYN",
        "outputId": "134c3a44-4133-4624-ce69-ca560a6de95c"
      },
      "source": [
        "df_metrics = pd.DataFrame({'Cut':cut_list,\n",
        "                           'Accuracy':accuracy_list,\n",
        "                           'Recall':recall_list,\n",
        "                           'Precision':precision_list,\n",
        "                           'F1':f1_list})\n",
        "df_metrics.sort_values(by=['Accuracy'],ascending=False).head(10)"
      ],
      "execution_count": null,
      "outputs": [
        {
          "output_type": "execute_result",
          "data": {
            "text/html": [
              "<div>\n",
              "<style scoped>\n",
              "    .dataframe tbody tr th:only-of-type {\n",
              "        vertical-align: middle;\n",
              "    }\n",
              "\n",
              "    .dataframe tbody tr th {\n",
              "        vertical-align: top;\n",
              "    }\n",
              "\n",
              "    .dataframe thead th {\n",
              "        text-align: right;\n",
              "    }\n",
              "</style>\n",
              "<table border=\"1\" class=\"dataframe\">\n",
              "  <thead>\n",
              "    <tr style=\"text-align: right;\">\n",
              "      <th></th>\n",
              "      <th>Cut</th>\n",
              "      <th>Accuracy</th>\n",
              "      <th>Recall</th>\n",
              "      <th>Precision</th>\n",
              "      <th>F1</th>\n",
              "    </tr>\n",
              "  </thead>\n",
              "  <tbody>\n",
              "    <tr>\n",
              "      <th>776</th>\n",
              "      <td>0.776</td>\n",
              "      <td>0.785714</td>\n",
              "      <td>0.750000</td>\n",
              "      <td>0.857143</td>\n",
              "      <td>0.800000</td>\n",
              "    </tr>\n",
              "    <tr>\n",
              "      <th>772</th>\n",
              "      <td>0.772</td>\n",
              "      <td>0.785714</td>\n",
              "      <td>0.750000</td>\n",
              "      <td>0.857143</td>\n",
              "      <td>0.800000</td>\n",
              "    </tr>\n",
              "    <tr>\n",
              "      <th>842</th>\n",
              "      <td>0.842</td>\n",
              "      <td>0.785714</td>\n",
              "      <td>0.666667</td>\n",
              "      <td>0.941176</td>\n",
              "      <td>0.780488</td>\n",
              "    </tr>\n",
              "    <tr>\n",
              "      <th>843</th>\n",
              "      <td>0.843</td>\n",
              "      <td>0.785714</td>\n",
              "      <td>0.666667</td>\n",
              "      <td>0.941176</td>\n",
              "      <td>0.780488</td>\n",
              "    </tr>\n",
              "    <tr>\n",
              "      <th>783</th>\n",
              "      <td>0.783</td>\n",
              "      <td>0.785714</td>\n",
              "      <td>0.750000</td>\n",
              "      <td>0.857143</td>\n",
              "      <td>0.800000</td>\n",
              "    </tr>\n",
              "    <tr>\n",
              "      <th>782</th>\n",
              "      <td>0.782</td>\n",
              "      <td>0.785714</td>\n",
              "      <td>0.750000</td>\n",
              "      <td>0.857143</td>\n",
              "      <td>0.800000</td>\n",
              "    </tr>\n",
              "    <tr>\n",
              "      <th>780</th>\n",
              "      <td>0.780</td>\n",
              "      <td>0.785714</td>\n",
              "      <td>0.750000</td>\n",
              "      <td>0.857143</td>\n",
              "      <td>0.800000</td>\n",
              "    </tr>\n",
              "    <tr>\n",
              "      <th>779</th>\n",
              "      <td>0.779</td>\n",
              "      <td>0.785714</td>\n",
              "      <td>0.750000</td>\n",
              "      <td>0.857143</td>\n",
              "      <td>0.800000</td>\n",
              "    </tr>\n",
              "    <tr>\n",
              "      <th>778</th>\n",
              "      <td>0.778</td>\n",
              "      <td>0.785714</td>\n",
              "      <td>0.750000</td>\n",
              "      <td>0.857143</td>\n",
              "      <td>0.800000</td>\n",
              "    </tr>\n",
              "    <tr>\n",
              "      <th>777</th>\n",
              "      <td>0.777</td>\n",
              "      <td>0.785714</td>\n",
              "      <td>0.750000</td>\n",
              "      <td>0.857143</td>\n",
              "      <td>0.800000</td>\n",
              "    </tr>\n",
              "  </tbody>\n",
              "</table>\n",
              "</div>"
            ],
            "text/plain": [
              "       Cut  Accuracy    Recall  Precision        F1\n",
              "776  0.776  0.785714  0.750000   0.857143  0.800000\n",
              "772  0.772  0.785714  0.750000   0.857143  0.800000\n",
              "842  0.842  0.785714  0.666667   0.941176  0.780488\n",
              "843  0.843  0.785714  0.666667   0.941176  0.780488\n",
              "783  0.783  0.785714  0.750000   0.857143  0.800000\n",
              "782  0.782  0.785714  0.750000   0.857143  0.800000\n",
              "780  0.780  0.785714  0.750000   0.857143  0.800000\n",
              "779  0.779  0.785714  0.750000   0.857143  0.800000\n",
              "778  0.778  0.785714  0.750000   0.857143  0.800000\n",
              "777  0.777  0.785714  0.750000   0.857143  0.800000"
            ]
          },
          "metadata": {},
          "execution_count": 48
        }
      ]
    },
    {
      "cell_type": "markdown",
      "metadata": {
        "id": "7FwDpNCWzUSx"
      },
      "source": [
        "## Predictores"
      ]
    },
    {
      "cell_type": "markdown",
      "metadata": {
        "id": "KiCMWsafzbug"
      },
      "source": [
        "### Modelo 1\n",
        "![image.png](data:image/png;base64,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)"
      ]
    },
    {
      "cell_type": "markdown",
      "metadata": {
        "id": "_b-pJDokzlkc"
      },
      "source": [
        "### Modelo 2\n",
        "![image.png](data:image/png;base64,iVBORw0KGgoAAAANSUhEUgAAAY4AAAFcCAYAAADf8llYAAAgAElEQVR4Ae1dwXEju669qfwsnIDD8Xbi8MoxeOG9qpSCvFU8/YsgQQIgSJCS7PE8n8WU1E0SODg4BNgtv/v+e3p6OvAPHEAD0AA0AA2sauC/1YmYB1FBA9AANAANJA2gceCJC0+c0AA0AA1saQCNA4LZEgxOnDhxQgPQABoHGgcaBzQADUADWxpA44BgtgSD0yZOm9AANIDGgcaBxgENQAPQwJYG0DggmC3B4LSJ0yY0AA2gcaBxoHFAA9AANLClATQOCGZLMDht4rQJDUADaBxoHGgc0AA0AA1saQCNA4LZEgxOmzhtQgPQABoHGgcaBzQADUADWxpA44BgtgSD0yZOm9AANIDGgcaBxgENQAPQwJYG0DggmC3B4LSJ0yY0AA2gcaBxoHFAA9AANLClATQOCGZLMDhtrp42X473y/W4Xvnf6XhVWns9TnXselwv78eLGl/18/PmvZ5SzJfj/WUf28v7hTg7ve6vhTa/j7Pf1zhe3o+L3LCn143CWTb7wze5KCJbeL5PKP/mprTF+/aCdnv8jME2Ds7dYzXFhbc1rOvx3UU4N47b/DL+y/vLxr5kLn/zp6ghor7p3LMWb8uN3AO/q3Fw05DF+fV942T02E1eE/F6ohPa6ZROW6MC85s3xa2x80ZhTnlz8fWtdnfWWQx27WM1lQtvO+3fU8SrPv9HnoT+t+MJdMS1rzQV3VCsJuPrX9Q4FjdwbSo6EbwB5UkufX/EyYg2e3qKoQbSnwb4FMa+rU+LjUVhiwjb6ceZG/vKhAvt4usWbnolDo1T8/k9m5jjao0ic9Wun554Tomxe5qcczDivsXH9qVPuTEfy4vN+RMXDNJ1wZJi5Pudhk28dT8wZjPOOX96OlhfrFPWWePCrm0N7qlohtdq7WTfY66z3cv7u3j9J2z/isZXuO30m7jLeSdOBzWm5YjzPP/8RY1jRmwiqYzXjeLN9+7NCY4TUjYz+c325abhzdhvwuw3byZ/k9giYm3x+OWS19vx15ModlxopvwwFw5PDxJszCdjSJ+2aFtcg/GlGJ+OVOxaXqwtxjG6z+MWE9+/7ZNzWn9fKHnLmipYLpfjQgXGYjNY1NqEx4wPCrLVUc4Z+w5+y3EPHU+H1bm+LriufOgq1zWPt3G5p7W/7WMtN9ygm25vw/17GgcXPrcji01RxeYlwrt3G/FVlAVXTqTdXIE/jqli1lhsEbEbmq9ro+oKhbSnsfDakQC1bxuXtPuV37kw8hOTeUJ04s0FKTfMKMaaw1JAdTHjuBiDaMKq4Gperc3da827LbiMpR001Pyuueu8rfLhz2PfXNyZH/PpNo7CkdS5yp0dfyynuzn4O/NLzOL3DfcPFLocG/6VNsdjv6dxhKelFfE9XpBq49bHfd7YFpNJpNo8Zqyz1V4lcLH3N7iwU0TGrw/oszRei7vbLBKb/L4ozM7eTeu4WOWi3RV2Lz7aeLJxcC4ELxXLymbVGPq4HqspzmnLmcQ/x9Kv1a/vwpwXXtgO66zGXHTgYyv8eo2D16FxTP5gYFFHaBzeRp7dm2+a+hhexeklwrs38xmP5WLWTsS8qfJTQODP21C1qHGjaIXDbmh7XTd4stHZ1limawsGiu3yfrzSn1iOTtwxRwqXiC++b3JuYyrX9YnL2J7HaGw/2dM9x9XP07g1r3qMbax/Zswt59pegCUoKnM+GsaVeTznWvdbWb/aONS8wmG19VhONYctzp91fzHmIMerMf2iJ478TpoKcxVYKq6n8ldVmvha0NWrrWDjmcITJ8EKPolS32Mc3emNfDEev1Dw5qS1XDTre2BuLINXB6aosq36vzdge4ofs6mKSC3nMS/GzjavvJ754aYVXfO68jmNsdji+Hlu979fsD6ND84327k51mw358nXQ/+bzyYWjjHAylrxNWu4FXuRdKEaQsOX90GLK19zXvWeqXsowPl9OmxxfJ1PXb+GftA4bkyGLGb2L0rk2Ok1/yBnxcebp7xLHJ1Wh4mThcFNYl9ouHnw04g+pfH89tTSMMmxy/H+mv83LLyhow2u/Hp8GC76d6pFzF0xvTF3krul7xw/F5jWLBtHjLHxp/idxSj1kv66iK65uDl2xWuw+kSn3knbv2rb5+m+xiGeNAWuxpU3zvHyE5fgkWzwuMOH2Fusxarx4p+12poe2285rY2iNqHiS9hf2o9LmtrPyff4nses9rLIbeN3L67f9cTxTwtjL7HfI9YIUyncdUNH8zH+M/KGPCAPcw2gcaCZTH5wm4sn2lzz0+99tiPfGAe/0MDXaQCNA43j8Y1DvMK59VEYm/7rNj24Bbf3agCNA43j8Y0DnIJTaOB/WgNoHBD4/7TA7z1ZYT1O59BArwE0DjQONA5oABqABrY0gMYBwWwJBqev/vQFTsDJb9MAGgcaBxoHNAANQANbGkDjgGC2BPPbTlaIF08T0ECvATQONA40DmgAGoAGtjSAxgHBbAkGp6/+9AVOwMlv00BtHP/3f/934B84gAagAWgAGmANjBpibRzPz88H/oEDaAAagAagAdYAGgcaIw4G0AA0AA1saQCNA4LZEgyfOPCJ0yc08Hs1gMaBxoHGAQ1AA9DAlgbQOCCYLcHglPl7T5nIPXLPGkDjQONA44AGoAFoYEsDaBwQzJZg+MSBT5w+oYHfqwE0DjQONA5oABqABrY0gMYBwWwJBqfM33vKRO6Re9YAGgcaBxoHNAANQANbGnhI43g7X4/rtfw7v2kAb+c25s3583F88v3r9fj8+KPX35jQPx+fwu/5eJva+XN8fIoYrma+E4PEqX19Hh9/vuBkojDMfLwdZ8FnzYvi1sxZyFmO1/IkOLM2Et8J8+fH8WfIfcZxfnsEXwabh6fg0PkSMYi8K00Tn5pzbcPo5TnCovmXWqIT3XKuH8Gbb2Men12j47la7lU8me9b9ESYrG2pLfJjc6GxPUZrKX5tt8uhxPX8fGg9WYzPx5zvr9XT3LfNdb6+u3FoQqQosgNvvArLNA0ucncn1wiIiJkUMMIoxu38ND7ClEkXQjC++dHurk/iSRSuTR8aYxFh3YD5Wgp/Fm8XB2ER2HjD0P3rtHGwNkbcdr7YtvNJtiYxzW3lItA4SNcip9af4d/TS9V4aSLNtuU7+64c3JnreZx+EejWBPHp+d+jp6zh69F4tbFwIZd5M3m13Nq8Ll8HOTR29P4rTULUGzpgCb19q562ct04v69x1MJfksXXlZQiKkGKFB2LgTcVX4/F0YBLO/q7TWpakwTkFLeU4FBMyd5gbVcUkq/svxYCIyKNdSWeclqpRXHTR8lJw2MK1XMRcrU/i9fiNRuTYs33rtfP43z+HDeOJNjzmZ6OGjZrf/Hay2GyX3U4t0NNR85N9uS1ymGgrwiL2ahJD6T7wr9ugAn34/U012AQn+Ii4ftiPRX9Xq/n45zebFSd6pwm3s7n9HZDNI6Oay82bWfOTZnb2dU5tDa6nFJMjNPDlDgtNedL9RT47nLduLqvcRCBs9dLXETE6wCReCKUCUogQ3sNuE1Ou+6FzJuPG1Sb63T/jqy34/z5ufE6zfO/gns0x0uu10z89Z1oSyFqG9DaX4/Xnowyr2/HR3nd6I8nnImjtHEexJWzkeMDQeFrsDE/P+WrTnlw8DALDgMsLid1jbAjdNjn0M+11PXt34P4BK7sI2P+Mj39+Tg+yqvMIQ+Jv1RXKo8Dfrxcd/EM1op58xz262m+aGh6fcC3F5OIQ9sqvuuaSE+BbxGz1dNdjSMTwp2+NAd5UqMARdPgd++ieTRARYCykUyAt3U2UYkMudHzeBLdsHGc3/Q7RieGdirOZHu2EiY3kTfFwXFlXpr/fJ/8uDzyuvnTFG3Ckg9lu+Ss3RvF64lO+J5wkbBn/mIb4zwLX2mjyJwR38l2rwNrzytGWdd8IuQDDdvy7VZ9BVjcvBHnyd8dub5LY4LLwdN5jW/g5zv05OUqHwpLbmrBlPGk71ln6VX4aN9aXcyu5zm0vss1YSu1UO3bv6mnwPcg14mbhzQO/m2ifvImZrIqUZxAsSkJHDeN8W8Js0TqsT0ycpHQgiKBcgweeQOBZltcYAYC8uxN791eTAhPF0fOQdtAhfuaIwe3F693z8Th+k9FsmLKWFqTcnwbmzrXYlNWm2zD14Fev+6/FS3fbhonThMvEyzEieX6n24cmcPv0FPLAec4H9Sq7wVNeja0Jprt0f15Dvv15FNogtbXJ5C/qafA92Tv3dU4+NVSe0zNIkrvt/2/LOIGIcf53iOaRkpaxqCLUfZRBSYIGYtAYjRiqBu93c9imKwRPkeC9O/72OMN4K9zH+cpngl2J97Yv/f0lTBJP16uGqc+H864VzCimFI+vHWDPDWdeJgF155NgYXsiCJCMdY1wo7AscL1MlfCrr8miM+ur9hFXkS8ro8b9dTxkOxILj0sK3jtnOB6nkPBA9mJ+AzGvZgEv3MskZ4C3xMe7mscFID8wSoD5cZBQcnHQ55fuy3Pf1TTSEnzyEoEyYIlkpsSI8WXyFpJjFhDgq4xCdsT4t0NNZjfbZjBKw1lU8Sg7t8qRBGv35z7uDtR1/z3ry+9pq5wD7ihOV6sXl6NjZ7XkX7yb0oZY6CvCIvDP/FUnkJ6TNmfPgj1XC9zZTjo1wXx2fVOPLv7Z1VPlhuuL/VNB78KL3u901/C7uG1MUXXjg2ZQ81pVJwDvr9UT4HvCQ/3NY7u75PN7xyDQsFFYph4+yg/CUAnqWwok1hXQNVmTx4JlAtliaFtXC2EHIN99fbgjW3FY+Jb4aDNyfg5B9xo61NjEC/ZsXgqlzruOe9pruayYdR2Vu7rotLntLcxntPl1PJtrm2ccyzWr+HAcmt89XHscxXaMD5tfHr99+lJ8+rEbXD3+rJYHRsDLeuYgxwaG6qe8G9/8qBpcFu+ddzWt73e1FPgW8fd+Lq7cdTCw92eCy6TVwoRnwq6gsXr5Oe9jaMmh0+2urDbxNweQ04SxyY/W5yN7FESlu5Tgjke/fTUx+O9JpI4DO7lnBUbRmwj/B4uPdeInDVz02feQDUHSkOeH+9e44iwV01qvlMMelzrq9OTwpJ8aP47rUxyrflreB99fxyfLVR9PP4TPGtX/55IuBf1pAuoE7tnZ1h/nPVbupvk0MFB2H+onsa5HnP0gMYxNv5oMcMeuIYGoAFo4O9rAI1j65Tx9xOGTYMcQAPQwN/WABoHGsdD/ttgf1vI8I9iCg18nwbQONA40DigAWgAGtjSABoHBLMlGJzqvu9UB67B9U/VABoHGgcaBzQADUADWxpA44BgtgTzU09AwIXTOTTwfRpA40DjQOOABqABaGBLA2gcEMyWYHCq+75THbgG1z9VA2gcaBxoHNAANAANbGkAjQOC2RLMTz0BARdO59DA92kgbByjCbj/NPw/MwE34AYagAZ+owb++41BI2ZsdmgAGoAGbtcAGsfT7eRBeOAOGoAGfqMG0DjQOPAqDhqABqCBLQ2gcUAwW4L5jacrxIynCmhAawCNA40DjQMagAaggS0NoHFAMFuCwclLn7zAB/j4jRpA40DjQOOABqABaGBLA2gcEMyWYH7j6Qox46kCGtAaQONA40DjgAagAWhgSwNbjeP1dD2u1/Lv9KodvZ7a2GjO08vxfknrT8frgxL18n4RfiO77J/jMPOdGC7vLzrOhDvNu7wfLw+KQZ1mFIbL8f6iO32b+3qcmGfz2TCbOQs5y2stT8zX9bhaG0t8ZByn11EsO/cNNg9PyYvWhohB6E9pmnjUnGsbRi9Vz8V2h0Xz3/JS4l3O9Q4/e3Pn8VlbOp5OCyqezMkteiJMHZcCC/mxudDYHqO15FPb7XJoaoDWk8X4dMz5jrQdYFH8ax2nujH3Lfg1MbWa0+YsNw5NiBRFNuaNK2G9vB+XWuB6Qj1w4T0jICJmUtAJoxi389N4KDhOjrAT4lxIBNkgjkTCTXyRnywM5raIsG7AfC2FvxQvYycsApu6f502UtZGyC3bnHySrUlMc47yxmscpGvmq22KasPw7+mladzya6+z78rBnbmuGCdchXOC+PT679FT1vDggEKxcvGUeTN5tdzezFGQQ2NX779SqGWdCPieazvAYmM2vuiwK7Rutaxz7ewFE+ta4yBQqVmUZPF1JaWIiseNkww6rb8cl4c9cVgiU7BJQE5xS3gssRYjnR4Ha2kuC/ZynE6XaaHcTQLP18JJ8eQYa7HpMIsEl5y0uRlvuy5CVkV3Fq+wXU5dreAy1zmnUz6SgE8nejqSWDjmrU8vh8l+1aHE3H8nfuXcZE9eK34DfUVY7MblE1/h/65cK5x9nGucBvF1Pr5YT0W/qcac0puNqlMdX+LtdEpvN0Tj6Lj2YtN2ljjq7No9pG12OaWYGKeHSdSrL9VT4LvLtY7L42qtcRCB10MXDmmci2p+EqHXWTLxaT1d5wBU0m8AnQPphcyF1sMZd9jX43S5iKciG+/r8V5eW8W2JDer373kPh2dGAd89fMK1zUP1n4Ub8Ptx7vCR8pR2jherpp9T5juPWcjxweC4mewMS8X+apTNlIPs+AwwOJyVtcIOyKffQ5v4EjYczms40F8dR5j+GI9vbwf7+VV5pAHriOVR8ZmPr1cd/GYNc74PIf9epovGppeH/DtxSTi0LaK77om0lPg24l9rp2nY6lxZEK405fmIE9qFKBoGvxKqhYtJrmIT5AbARyPJzLkRs8+kuiGjeP0qt/zOTG0U3Eme2hLrr2B+D6uzE3zn+Mh7jsemc/yKQRm7dImLPlQtkvO2r1RvJ7otH9X1OWEnfmLbVjc7nXaKB3vyXavA7veK0ZZ13wiLL9dVVu+3aqvAIubN+I8+bsj1w/RWspfEN/Az3foyctVPhSWPNeCqXUof4/w9q3VRHQ9z6H1Xa4JW6mFat8GfH+pngLfg1zP+NlqHPWHcW4MvImZrEpUAprIE5uSwP3lxnHVTYUEyjF45A0EOiqUM6LjsduLiY8n56BtoMJ9zZEjfC9e757hyvWfimTlNmNpTcrxbWy6fCUs1Sbb8DeFXr/uvxUt324aJ04DLPOic3uudVzMwS2fQXxdPjKH36GnloMWV+Kz+l7QpGdjl7t5Dhs2tks+hT5pfa2BAd9fqqfAd5frPjaOkT+XGkf9jaIWnSyi9JuF/1c/3CDsON+3DSUGyoDbZ8agi1G2XwUmCBmLwGIUWOoJUdzjd9VCIA2Tnrd338cebwB/nf0xjLBQPHvxxv6dHwG734u8XN3AlVcwopiSBrx1QhsyT00nHmbBtWdTYCE7ViN1jbAjcKxwLbHe9z2IT+AiPxW7yJuI18VC43qvr8TYzUl2JJcelhW8dk5wPc+h4IHsRHwG415Mgt85lkhPge+ABy+3a42DApA/WGWg3DgoKHma5/m12zLJvE6LyQMW3/PISgQNCmNKjBRfImslMXbNlzUO7/eMHKNujsxl+RQxKM5uFaKK1xOc8e/xUfPfv770mrrCPROxF6uXV2OjK0Q07ukn5yBj9MaFviIsDv+0T8rhq8e0kGsT1zJv7rogPrvGiWd//6zpyXLD9aV741H2+ryo9npd5s2JWeZQ2/FikxzL74zpu/QU+La5XrheaxxPpajxKyr+5CIzKBR9kcgB9K+wmMjNT5NYV0CVhJ48EqiJoRVpTwgZ39zPZgwVn25kJEoTnxZq8TOck/G3HBTu+amx5Gwar1ccJd7yPeZjzKUbk+OD5+mi0ueU57XP8RzCLQ83lktzbeOcY7F+DQeWW+Or4b9DTxMeyb7xaePTGL5PT5pXJ36Dm3/bsFpu2ndsRNzQeJBDY0PVEz5QTfRl+dZxW9/2elNPhjPrW+c65mu5cfBfLNWuzwWXyTPNw09aDv5hjaMmh0+2+kmmJ4f9l/k3xeC9momJXk4MJZjj0U9PfTwRliyum3NmxDaKwcOl5xqRs2Zu+jQ55EZItjw/3r2WL8LOByHnaVWPa311e0JhST40/92emORa89fwPvr+OD5bqPp4/Cd41q7+PZFwL+pJF1Ands/OUv1xbIUanOTQwUHYf6iexrne52Wjcewbf7TIYQ85gAagAWjg72sAjSM8cfz9JGGjIAfQADTwkzSAxoHG0f+3uMAJOIEGoIGJBtA4JuT8pA4PLDhxQgPQwE/RABoHGgdOVtAANAANbGkAjQOC2RLMTznxAAdO39DA39MAGgcaBxoHNAANQANbGkDjgGC2BINT3t875YF7cP9TNIDGgcaBxgENQAPQwJYG0DggmC3B/JQTD3Dg9A0N/D0NoHGgcaBxQAPQADSwpYHaOJ6fnw/8AwfQADQADUADrIHRUx0aBxomDgzQADQADbgaQOOAMFxh8MkCnzhlQgPQgNUAGgcaBxoHNAANQANbGkDjgGC2BGNPHrjGaRQa+H0aQONA40DjgAagAWhgSwNoHBDMlmBwuvx9p0vkHDm3GkDjQONA44AGoAFoYEsDaBwQzJZg7MkD1ziNQgO/TwNoHGgcaBzQADQADWxp4CGN4+18Pa7X8u/8pgG8nduYN0eNfx4ffx7Tvf98fAq/5+NtKow/x8eniOFq5iuMed7nx58Wpxp/XAzqJLfs4+04M8/ms2E2cxZyltdangRn1kbiO2H+/Dj+DLnPOM5vj8i5webhKTi0NkQMIu9K08Sjzqu2YfTyHGHR/Le8FB6Wc/0I3nwb8/jsGh3P1XKv4pH7x/Ak9WptPD8fhMm5X/cJ+bG50Ngeo7UUv7bb5dBoXuvJYiyx1fjtuOGp4yDAovjXOk7c7eU65/7uxqEJkaLIDrzxKiwVEG9gS5oV6cK1ERARMylghFGM2/lpfCi4Px/H51Ukw/iuojZC2rp/p48sDOa1iLCKL19L4U/jtXFQvCJ+HufcCl5tzKyNIbdsa+GTbE1isr71dd54jYN0zXw5ejM59vRSNV6aSLNt+c6+Kwd35lrH5WBf4JIavojfxqd9fI+esoavR+PVxsbFU+bN5NVyu8KFOyfIoVmj918p1HJf/E09Bb51rhvn9zUOSkQq+CVZfF1JKaLicUOoLRz2egR6ft8mNQWbBOQUt4QnFFOyN1j7/HzogpV8Zf+1EJiY59hbYuS8u3yUnDQ8plDxiUMV3XG8EhefulpRZK6TJj6P8/lz/MSRBHs+09NRw+bHr306c7wcJvtVh84akRfiV85N9uS1mMv57WMunEVYzEZNsVFhKfzflWuFcx7zmNPN/VNO3jKHMp7M1x16KvpNNeac3mxUner4Em/nc3q7IRpHx7UXm7Yz5kXM6+zqHFobXU4pJsbpYRL16kv1FPie6Om+xkEEXg+9iQTB5nGOXmfVxGfQfaJn9qTt0fe+MPqbPa8nkQ+LRJrzdpw/P4/P+hgp8XnEe81khHXl/n0+OtHyaxSTh5bDWbwar8/d2/FRXuP544VT2uBerrQPuwnda2cjxweC4mewMT8/5atOWfg8zCJHARaXk7pG2BGbts/hDRwJey6HdTyIr85jDBlzK+g2hjv19Ofj+CivMoc8JP6SniuPjM18ernu4jFrnPF5Dvv1NF80NL0+4NuLScShbRXfdY3NRR5vPAa+ndhZO3c1jkwId/ryqkkWYQqQX0GJTypaGbTXOJoI+yQw8PFnsis3eiOrFcdml2I4v+n3fE4M7USVcWdbOTFtLNtlm2OMzX885w4fQmDWD4mnNEOFv+Ss3ZPxStz5fpsnxwQPkssixMRP5i+2YXG712mjdH6S7V4Hdn3bRA1/1jWfCMtvNdWWbzfZoZgCLK42iPPk745cTza5jXl+HcQ38PMdevJypZ5oasFsucyxZp2lg6tXA+Z8WFuDp4uaw34+2SdspQbWQ1uaG/D9pXoKfA9yneJ5SOOoP4zzqZw3MZNVieIEpk0ivxeyu/mDJEwCChNh1uYioQVFAuUYzPwmgu/a6LcXE4qtiyPz3jZQtj9t1pQXUUgTJ949w5XrP22wiiljmTWfpU2dsFSbrJlkO2oc6/5b0fLtpvHf2Tgyh9+hp5YDznEu4tX3giY9G0saE9qeN/+Gje2ST6HPXHN4P/1NPQW+RcwcC3/e1Thy8ZDvHbOI0vtt/6+jSpGicf7OBHIx0kWcga5/Zgy6GGVfVWCCkLEIRjHw7yKtcVi7jxBni9fHHvvw17kFn05LK/G2TRH7LyczsWHU6ZBy4OWq+WgcBPe8ghHFlPx764Q2pP+mEw+z4NqzKbCQHcWJxCHsCBwrXEus930P4hO4yE8Qr4uF+BD73v2tsM95x0OyI7n0sKzgtXOC63kOLe6Iz2Dci+lhegp8T3i4r3FQALJxZOFz4yCC5eMhzy/v+0gI1/YXS/baFd0kmDzf23yJoEFhTImR4kv2VxJT1nRiHrxuuC2WLMKbfIgYlO9bhag48gRnN4zTOGr+xWvL8pRqm6/CHOXci9XLq7HT85pi8PSTf7fKGL1xoa8Ii8N/a0re72PZnz4I9Vxv8WV40GuD+OxaJ56d/ZN9r+nJ5ovrS/fGo+z1vQK/wakTs8yh5tOLTXIsvzOG79JT4NvmWlzf1zj4pMCvqPiTi8ygUNQiQQmwRUSfRHQSmNjg0yTWFVAloSePBGpiaBvXCMEWCuP7JvwVW4nzFh9DHBl/zYH9sbzkbBhvwmbxWLzles57is1wObCzwqEuKn1OexvjOYRb/JjZPZkYbm2ccyzWr+HAcmt89XEEe+EWTo1PG5/G8H160rw6cRvcvb4sVsfGEl9BDo0NVU/4r+gm+rJ867itb3u9qSfDmfWtc934urtx8Amtdn0uuExeKUQ83gpWAUHAuXkMngrY1sYnEcCNTCaJE6dwZvIZo/8EwhidV2lfFINK2sSHl2zvXrOXxXVfvHGDn2NI+Tci38hvi4XFbHJYf1cb+Zn71vrpdanHLRczLA0P8/9de6LnjLnrP8fx2ULVx3Pb/rEc9ph0Ae3Huwaf9BTVn5s1p/eQylBUKwEAACAASURBVKEpxol3wl7r0c/S0zjXDseFrwc0jrHxHaFiLniEBqABaODf0AAax80njn8jwdiIyBM0AA08WgNoHGgc7b+5BS7ABTQADSxoAI1jgaRHd2vYwwkQGoAG/mUNoHGgceCEBQ1AA9DAlgbQOCCYLcH8y6ckYMcpHxp4jAbQONA40DigAWgAGtjSABoHBLMlGJzYHnNiA4/g8V/WABoHGgcaBzQADUADWxpA44BgtgTzL5+SgB2nfGjgMRpA40DjQOOABqABaGBLA2HjGE3A/afh/5kJuAE30AA08Bs18N9vDBoxY7NDA9AANHC7BtA4nm4nD8IDd9AANPAbNYDGgcaBV3HQADQADWxpAI0DgtkSzG88XSFmPFVAA1oDaBxoHGgc0AA0AA1saQCNA4LZEgxOXvrkBT7Ax2/UABoHGgcaBzQADUADWxpA44BgtgTzG09XiBlPFdCA1gAaBxoHGgc0AA1AA1sa2Gocr6frcb2Wf6fXgaPX40RzLsf7S+tSau31dLw+KFEv75eGKbT7crxfRAyT+WT38n68CJx7vlrsW6eV15OIR3Oo7TDPMp78/fL+UnJj5ticKV9yreVJ+LA2Ej/JjuHKw3p6vZETkYOnJ4PNw1Pm63yJGETetS7THM25tmF1G2HR/Le8FB4U/9qv5u8RvPk25vHZNTqeq+VexXO7ngiTtS01QH5sLjS2x2gtxa/tdjmUuJ6eDq0ni/HpmPP9tXqa+7a5nl8vNw5NiBSFdtDmtY2gAfMG7knd3ixGQORnUsAImxgfzn95Py6p+dm5sqjQnAfEIIVHNhtvVJBFkYv4yTwzpiLCugHztRR+4mN5gxHXAhvj5mIhuLI4WRPLvti280m2JjFZ3/o6F4HGQbpmvrSOaV2grzkWy3f2XTm4M9c6Lge7w123JohPz/8ePdVaUXNsY+NCLvNm8mq5XeHCnRPk0KzR+680CbkvAr6/VE+Bb51ry3l/vdY4KBGp4Jdk8bUkJZFI4LgxcJEpghNFl8VRN5FJwFoQNqkpuCQg9muCXRZTsns5TqeLaByer3y6aEXI+LshJi2cZC/7XeKp5KTNNYXqqQi5bsgcp3wqHPNuNibFlu+lE7rmyvCQNHE60VNow2bmrHLl5TDZtzoc2CN+5dxkT16rdV7Ohb4iLGajJm5J94X/u3KtcN7IZdGW1q+Ir/OR8y1zKOPJWh3svYEt5bvoN9WYU3qzUXWq40u8nU7pqVw0jo5rL3fazljrYl5nV+fQ2uhySjExTg+T4PtL9RT47vIjOBiMrTUOIvB6qERbg5z403t5HcQiyqDlKwBuHFN71n533QuZC61nl3wOi0QjKs1L6/X8HIPcNEk0nVA6jM2uFVl/7SV33UePpfBeN6C1/3qcLpf8ZFVeP3q8JZyaC47p9Xgvr8T88TQv5ShtHC9XbGfj09nIT96G8/LgzXs9HZeLfNXJmmXs9olMcBhgcTmpa4QdgbXP4QY3wk6vLc+OlxMfV7aXx1pBt3Pv1NPL+/FeXmUOeUj8JT1XHr24no5lTQSczXPY+6b5oqHp9QHfXkxCs9pW8V3X2Fzk8cZj4DvgwdPTUuPIhHCnL08UqggXURFp/L1tQgqAfxuRn7Wo9UnwwOp7iYzmg8eSL68AUgynV/2OUcWQMCSb+YRgE5U54NMDi3N8MmI865+ZN9ucGPfUjhCYnSe5V7ZpjSyMWVw9d57odL4sV4wh3c/2Yhu8ZvqZNoqbs14H1k7bRA17l1PaiGwrYebvbU3VV4DFzRtxnjR0R65v2OSWi3wdxDfw8x168nKlnmhqwWx5aTHl+tTr2M6Nr+c5HKwnbKVGqvoW8P2legp8D3Lt6ybHvdU46g/jXPzLJs4bkItQ3zgSACm4y+mUT7qK2EEihkHtkcEYpaAIkyhE6ZqLK80XYzaGVMBe0w/zd8UgY769mHhY+Ue9Fm/JywyvtyG9eyYnrv9UJCt/KVeN25kgp2PB5hqvXfffilagrwALcWK5/qcbR+bwO/TUctD2R+Kz+l7QpGdjrI/mR86Z57BfQz6r5suTen0C+Zt6Cnyb/Sw5GH1fahz1t4u6EbKI8usn/s6/behPLsQKACXefzJQ86YBZb/afi6OVWBi/VgE5VSZMNX4Rq9ntFiSUDxf6zFIez72eAP469zHeSpc/Sm64q2FreGK/XtcJUzSj5er5qP6F/ly73kFI4op2fTWDXw1nXiYBdeeTYGF7IgiQvHUNcKOwLHCtcuLsLE+HsRnbVbsIm8iXtfvjXrqeEh2JJcelhW8dk5wPc+h4IHsRHwG415Mgt85lkhPge+ABy+3a42DApCvZTLQ1cZBQhAnTnvtAYvveWQlgmTBEslNiZHiS2SJxDCm7qmqnhiEraFQ7Jy9627DDF5pKG5EDOr+rUJUHHmC62PqRM164SdT8XlXo/Vi9fJqNkLPa4rB04/8gwdvXOgrwuLwTzyVw0mPKfvTB6Gea5VjE+feWBCfte3EI/dPp4G0vsvNmp4sN2RbaKjt0bzXh76He3eRVydmmUPNtxeb5Fh+Z//fpafAt831wvVa4zCvmmriVJFhMjJI+WN4fWKRyXfXso3FT5NYV0CVhJ48EugAh7Vlr2drtaAWY0k4bTEy8bl2h3OykFuhLnnhp6pS3FuhcoRv8VQudUyWmx6nY3tgq1+rfemi0ue0Xz+eQ7hlcbFcmmsb5xyL9Ws4sNwaX30cmoeHjBufNj7t4/v0pHl14ja4+bWs1XLTvmNjSX9BDo0NWxMifVm+ddzWt73e1JPhzPrWuY75Wm4cfEKbN43kMAeoGodtPINivQs+zc/J4ddj4sdrHlO+GFuZr8Y0WR6xlNja/LSvW7C7ayjBHI9+evIwefea3SyuYc5K8+DxbqMZsTW7MVd6rhG52XB6rrbdj5kcciMkm54f717zofWj+U6+9bjN+QxL8qH59/n1c93H3TA/cmwcX45NY9bx+E/wHI/zGndRT7qAOnF7diIt36w5HbPiw8Gha8TP0tM41w7HAV8bjWPf+CMFDlvgHxqABqCBn6EBNI6gs0KoP0OoyAPyAA38HA2gcaBxDP6bYz9HpCgYyAU08LM0gMaBxoHGAQ1AA9DAlgbQOCCYLcHg5PezTn7IB/LxNzSAxoHGgcYBDUAD0MCWBtA4IJgtwfyN0w184lQNDfwsDaBxoHGgcUAD0AA0sKUBNA4IZkswOPn9rJMf8oF8/A0NoHGgcaBxQAPQADSwpQE0DghmSzB/43QDnzhVQwM/SwO1cTw/Px/4Bw6gAWgAGoAGWAOjho3GgYaJAwM0AA1AA64G0DggDFcYfLLAJ06Z0AA0YDWAxoHGgcYBDUAD0MCWBtA4IJgtwdiTB65xGoUGfp8G0DjQONA4oAFoABrY0gAaBwSzJRicLn/f6RI5R86tBtA40DjQOKABaAAa2NIAGgcEsyUYe/LANU6j0MDv0wAaBxoHGgc0AA1AA1saeEjjeDtfj+u1/Du/DQC8HWea83l8/GkdWq29Xo/zWxu75yTz5+OzYbqej7epMP4cH58ihsl8svv5cfwR9rQvHd89Mai1b2cRz8wH8yzjyd8/P/6U3Jg5NmfKl1xreRI+rI3ET7JjuFIxPWccj8m5webhKTnT+RIxiLxbXV6vmnNtw+orwqL5b3kp2lf8a7+av8fsFc/mPD7rV8dztdyreG7XE2GytsU+JL2JHOa4NLbHaC3Fr+12OZS4np8PrSerl+djzvfX6mnu2+Y6X9/dODQhUhTaYZvXNoIGzBu4jXuCXrpHQm3JIT+TAkbYxPhw/p+P4zM1PzE3i1VgNr6X8BqRdWvI7+0+Ms/MRxFh3YD5Wgo/8bG8wShegY1j4WIhueKx8smaWPZl1kueyNYkJjm3/56LQOMgXTNfWse01uTY6mWOxfKdfVcO7sx1H5uDf8LjSnzax/foKWv4enRNqcbChVzmzeTVclvX7nIU5NDY1fuvNAm5L/6mngLfOteNp/saBxdS3mR8LUlJJHIRMU8ctnDwddvADegogP6+TWqykQTkFLeEbVlMye7ncT5/qsZhi8bUlxFUj92PVxeiNCfHWIvNzG7JSZtrCtVzEbIqugOuOj9mY9J4vpdO6JYrFW/SxPlMT6ENmx+/WtdhGOQw2bc69NbyaVDOTZzJa7Uu0JenJ4mF9oIsbpr/u3KtcN7IZdGW3oOT/eM8NdKeeJSein6v1/NxTm82ql0dX+LtfE5P5YLbjmsvd9pOqLXEcWdX59Da6HJKMTFOD5Pg+0v1FPie6Om+xkEEXg8tMpMITvz5o7wOakWJCBWvp+y1TcDadS5cuhh5BGWcfeE3+At5aV6Ks5tPHLSYPFGt4fb9cpOwHHdiHCS5n5e5aBvQcvN2nD8/85NVef1ofXM8HReE4e34KK/E/PEUZ8pR2jherkY8TO47G3n5QDDYmJ+f8lWnyK+LWXAYYHE5qWuEHZHPPocTLsQ6ztPep5cTH1e2m8e+TE9/Po6P8vp6yEPiLzWUyuOAHy/XN/A1z2Hvm+aLhqbXB3x7MYk4tK3iu67x89Z4DHxPuLmrcWRCuNOXV03qpFZERaTx934T1t9HUqEanCjWxZ/IkD4ymYksrwBSDOc3/Y5RxZDWJ5v5hOAmipujfY01IX49nsybboTzE061LQRW7xVMJJ7SGJTtEku7l8XVc+eJTm8al6vyhJPtxTYsbvc6bRQ3Z70O7Pq2iRr2rGs+EfIJk20lzPy9ran6CrCw3hQO4jz5uyPXD9Eaa30S38DPd+jJy1U+WBW8tWC2vGSes85Snel1bOfG1/McDtYTtlIjVY37m3oKfA9ynTh9SONQhV8Uz7wB+X250zhkwS1FrC8Ag0QMg9ojgzFKQZFARSFK11xIab4Yy+tHRWYXuzf/9mJiscpN1OIteVFiNji8DendMzlx/aecV/7yhmZuVTE1tqZjCUu1ydh9HWg76/5b0fLtpnHiNMBCnFiu/+nGkTn8Dj21HHCO8wGq+l7QpGdDa6LZHt2f57BfTz6FPml9fQL5m3oKfE/24F2No/52UTdCFlH+CxT+zj9668/zW99IMqH3ngqyX12Msq8qMEHIWATiFFPjKyf9KgLf7iPE2UR7qw9/nfs4T4WrP2VWDLWwtU2xEiNxW7lKaxMm6cfLVfNR/Yt8ufe8ghHFlGx66wa+mk48zIJrz6bA0nMicQg7AscK1y4vwsb6eBCftRnE6/q9UU8dD8mO1JeHZQWvnRNcz3No9RvxGYx7MT1MT4HvCQ/3NQ4KQL5eysJfaxwZtPwzR0pIevIQhdoV3iQg/zeB5EsWLJHclBgpvmRbJIbEyk9D6rO9WrANqRP4FK/AMpjX28s86+Zo7IgYFIe3ClFx5AnO+Ocf3eU61oviMR8oLIcK84CXOseL1cursdPzmmIYF++M0RsX+oqwOPy3plT+bFPpfyHXJq7Ky033g/isTSceuX+GRVbqwv3dqNeTzVetF52e8l4f+q6n/d7HEndOzDKH2oa3VyTH8jvj+S49Bb5trsX1fY2D/yLFJk6JgsnIIGWjICHYteLHcp0AtrPwaRLrCqiS0JNHuNwY7BNHuZZCJN+DJlV9LsQg59piZOJzeRrOyUJuhbrkhYtVKe6tKTnCt3gkVvF9znviwLEt1rtxDcZ1Uelz2tsazyHcXU7t68h2beOcY7F+DQeW22EeNzU04K3nRT4BZR82Pr3m+/SkeXXi77gy3Ba9Ne07NpZ4CnJobNh6EunL8q3jtr7ttYk50pPhzPrWuW583d04+IRWf+cYFNw2TxdVIkU0j1awGsgR+Nn9nBx+PdY2eVrTk5PJj2Pw1nLzYF/t95AZvu0xSjD70Bz28fg4m88srmG8pXnweLfRjNiaXZ0zD5eea0RuNpyeq233YyaH3AjJpufHu9d8aP1ovpNvPa711bRe8qWwJB+af59fP9d93A3zI8fG8dlC1cfjP8FzPM6r6EU96QLqxO3ZibR8s+YmOXRw6Dr3s/Q0zrXDceHrAY1jbPyRQoYt8AwNQAPQwM/QABrHzSeOn5FAbCTkARqABr5bA2gcaByD/7YYNuN3b0b4g+b+FQ2gcaBxoHFAA9AANLClATQOCGZLMP/KiQg4cXqHBr5OA2gcaBxoHNAANAANbGkAjQOC2RIMTnFfd4oDt+D2X9EAGgcaBxoHNAANQANbGkDjgGC2BPOvnIiAE6d3aODrNIDGgcaBxgENQAPQwJYG0DggmC3B4BT3dac4cAtu/xUNhI1jNAH3n4b/ZybgBtxAA9DAb9TAf78xaMSMzQ4NQAPQwO0aQON4up08CA/cQQPQwG/UABoHGgdexUED0AA0sKUBNA4IZkswv/F0hZjxVAENaA2gcaBxoHFAA9AANLClATQOCGZLMDh56ZMX+AAfv1EDaBxoHGgc0AA0AA1saQCNA4LZEsxvPF0hZjxVQANaA2gcaBxoHNAANAANbGlgq3G8nq7H9Vr+nV6No5fj/dLGL+8vevzl/bjw2uv16MZvTNzL+6Vhup6O16kdjfHazX89TgLj9fJ+vAh72tfleH/RXfghp5LXk4hn5sNgFbgbt1G8jD/Z6n3peB1up1it76QNx4bgd40/Y7fTIcf0dGj8TZsKxzSGp0NpvsOvsTTeGYPO0emV75dP5fsR3Bj7C9xqjiIMOp6r5V7Fk/lWnKjxXb1prjvfTxqb8rvAw1h7q3b1vFona62LxlPuzBzBr86Tr2U9R/Jr7Lq1Yk87y41DbyArCpPUAqxuFNM0mNQ6fmtiSYhN7EScKfZSEBSDGNfzSwwiWTS/XOekNF9Pxrf0c/N34kkkfNOHxTiPl4XCohJ+n7joinuETcQfYU3jguubOTHakDl5eso5Wy8SOdY6P4jB8jnXS7bdNL3iq/GrbXNuvvjT6GuOwe6PnvuUmxa/wR5wbfeTxTLPu8Vic2GwGE2NtXmfXYqhO2w0LHrc6CXUtp6vbT0dlk8bYzd/mZOMf61xUNJTsyiFg6+5MJAAr0c9ofO1KrrtKSODvh79qaGRagPtr21S09pEZtuMao0VriXKbCK11k1i9j/cKNb+wrXeHCmeDR8lJxVPFO9TO01fTqfjonjzuM3zueiGWBOfoglrPnfyLOZ6MSU/rMOAY8Is5kYxdOPkX+4BrTU1v9OT5lTNTbi92IJ47uNU48m2JvunnIarvvhwUXOc7Gk+JL4uXqXtAIvHjcx7x3U5+FRsQkM7nN5jlzBHjVSMO76o+Au9dnzWMY+/fE/mq66PsC1wtNY4KKhW+CuA4oAbgQuyFighqsCete9f546rfXoEZtEQxkp0L6Re2P0cjcPzH62ZjfvYV3HZeVG8KZbX9/IqrtuYvuiajxhr8n+57LxGnHFTxrzN1WEf2OnmrcVQD0tcKIcaCvTQ+dc4V/Kl9afX7495eH1Osu081g4Ddu7rcbpcBq+j7dyMvekpwBLk3eXOW7NQECWP99htsfl5isYTDtd/iiHQUo7B49Ty7mOTHIy+LzUOCuB6PU4n8f5dbCAi4Xo5TidRKIbdvghQnXBvCSARI5pREUXCwqdiGTTFcHrV771NDGldjqW8QxzGMEnqpjgbxsyLboSLJydHSFG8za8vxJxz+2qKnxJjrMSj4LezdwtPqRgImzkGXwcqPj68qHzGMZANKkAzPbCemRur5byB0+tZT5f5lUKy32vZxvDYa5+30f5h33J/KK2SBsUJujyh5JgjrgMsQd5Z64yRPgmP0O8NervZrrMfe2xRvrNuFMeixrUGbvWWrwl7t1f8va6wLfK01Tj4t4n6WYBJMdWx9DuH2qgpoLbJPEL2AgjEZgjIhUtvXlncOIaGq2DtYijF/OEbPdpcvkASZ55IongV1wOhMyeU08v78Zr+EIH4uAVrXuMWT5MrhU2OBQVkuM55zcJabPkWG67kXOqj8syvayWu8t3Lg8RE9hw95TnjQiFtPO773v7hH25b/sb7o2KkppuKd6SXAEuQd+Ld8voXG0ekg2icue7rZ9JorBOyP6hPse9xnal5fXo6lhpHPRXV5GTwfErKQEVRpqSJ30RoYxWhpScX+9clziaUIP3vHoHj4kQYK/5CjiiYaVO3TVHGq/AbmbOk+Djb2vm4j31ebJJtf10Ur8IieFD3TV4aR77PCGtbv8qJmefkY+mx3Vs34K3FsKcv4i3i0cXRYmy+271ZPu4b24zPwx7FS+Otcdj91eINsAS+Sev2dO2tMXqO+LvNrr83mq9oPHPhN43VH71HTzOR73XdrTUOEoB8gsgAuHFwY2nCKMHX0xnPf1TTSAF6JCS/A9KSkKy4hPDdQmvER0KvMa2T3EQzX9M2Es/LMU4brYhB+QniVXNHNtRG05t7jlXPzb4WYlH+mAPx6eH04jR2eqzZZn9fYhzHQDo32qAYBb550fG0W/5YwR5uTCwqb3eNeRiC/WO1vxKvfCuhYpNcB1iEnxq/zLuTC3c/7/J1i10Pq/Q7G6cx5wAr1veabfuDxmyOxNqlQ5acP/m+1jj4HbH4+19+fZH/dw458eo1lXhVRUm0a8V4FcMEqDvHJNbdrNVmL04iujYTWyhKTEXsOYb73pm6MVR8zvtHE5+7fjgnircJzhOU5VJzFWO18609NxbJxeA72a0FqI+xtzuZYzex4dKNoW5Mazdft5Oi1VO+rocr4ysfvgaHngEXfawipytrDIZ5jgz+cnCr8Zai1w45Jv6A6xx/218WyzzvNhfG9woX7pwb7BpOuxwNxy2/Xi4tnjaH+KrabPeV/6HvwXyXkzx3uXHwCb82h1pw2WkOvI6bzV3vywZS57CN/c9MWPnx0hBnxXd7DCY2EUMtBBOSVfKieZRcjkcXkj4e//eN5q8UM8bb5azwbTd1wUibldcabsnHBGsaD9dHXLjjJialIa9gePeEzrZi0Png981V2woLN1fOZX+S1Nq1tgVGl4fHjGsMrXDzXtH6NvvA6qk0D+ZDr+XXLMxHH+8YS4p1lvc0rrF1vm/mcGLXKcTeHm37cbxfdezMUfqUORlpWWNk/tOn5CHCJnFG3zcax2OEGgHCOHiGBqABaOBnawCN4+aTyM9OLDYe8gMNQANfpQE0DjQO/d8UAx/gAxqABgINoHEEBH1Vx4ZdnAahAWjgX9UAGgcaB05X0AA0AA1saQCNA4LZEsy/ekICbpzuoYHHaQCNA40DjQMagAaggS0NoHFAMFuCwantcac2cAku/1UNoHGgcaBxQAPQADSwpQE0DghmSzD/6gkJuHG6hwYepwE0DjQONA5oABqABrY0UBvH8/PzgX/gABqABqABaIA1MHpKQ+NAw8SBARqABqABVwNoHBCGKww+WeATp0xoABqwGkDjQONA44AGoAFoYEsDaBwQzJZg7MkD1ziNQgO/TwNoHGgcaBzQADQADWxpAI0DgtkSDE6Xv+90iZwj51YDaBxoHGgc0AA0AA1saQCNA4LZEow9eeAap1Fo4PdpAI0DjQONAxqABqCBLQ3c1Tj+fHwe1+vV+fd5fPzhLvzn+PgUcz4/jj9dknjO+XjrxtjO3qfGNrH7dnbwJ7wihj8fx6eI8/Pjj09ysuXGt4fdPcEpnAJbx9fbcRZYZX4abuab8zLiJ9nqfYXcTrFa3wnDyP8Ob8bu+c3PUeXL8GTzpmK4Ho27jElzcD3ObxKrwdLFN/Jt13F+rsc1jEf6v/+7ji/Kj4nHYg32j/bV6+3tLHiIuAx86zzdw5OO2eqj7WE9z9+Pz4fmwOqJcWZ9dDEYfrtxpWXLr6e5KN/Pw/8MydL/ctwGW0mpyfNAmU2ggo4Bt4Qwmc4nEdVsEU5bGGoBsesLZo6h4GvJyEJo12U9J2fZj/U7uSYMIuEmvoiTnKfGB21EgdPnhwUv/D6zwMU9wtZsP0dY07jwHWFfHaeYOGfPOYfjzWxy/Px8qPUUg9y8JufEv+WgXc/5DXxbXVpfdvwrro2+fH2wXm08lvvMXctFwKXnWzQLjSXwXfLYfOf53d7d5tCPcdWu3Y/PNsd2DxG+EutV6vL5yPtNHmxMjNaW4ZfW37Af73risJu6I6Qkrp7C+ZqFQEGk08Tn8UlPJaIAbSdTC7mJJd1PYm0b2+KW1zYGLdTsg+7VIpU3QorhfP78kicOVdSEiJaEWjivc62QHJ7J3/V6fJ7Px6fizW6YzEeaz3yHWFPOK3ecszs/vZiSn9GGsJvHcNDHIPH5HFQNeVik/cB3tUNrbNGVOL7quxffbP9kjFVffLjgHDt8SL30+0v76nJB9rhOzH33tp8PKtIjXcg8zb47OdQ1YZIbwi+Lv8e3Xk+201uE85neJnRc23iE9jv+yqGq2khzOVezmM3Y4xpHIYQLCG0AIrgVlVzAr21DV9CZvMe8sujF9ByeQDlR3loea586GW/HR3l15QrVEK4LQ7M5vu8LS2MY27HzVjC+fZTXid2mz1iq6EpszUeMNfn//JSvOLkIjGMYc1PWkM6MnQ57s9/wtnvNR6CBid1kI+J37lvjiWw1zHrdffe9+P28Zj95rBUfOzfba3XB2KfciUOdySVxwAfNjt+5b1pri6KxfwtXbl4W7Xb5D/SU8P35+Civ8A13zMcwRpuLrBOJIcVyy358WOMgMCLBXkKyCGQjYcEXAQTrPZv9vUSuEKIobk287Fd/uoKwhX+S6KX11l54nbmxxZp8WcFYWw5WXkef/FuIPbGwndF6mSeaw68fY6ykE+Ev4zBFn/2vfqZNK2xmTfg6SGMJQ9JC1mx5f1655HV5k/Lr18o/xXs+3jhu4rDpLeJ37lvqMfuvfle5uHsexy+xNM76/ZbnSS57zLy/89uF9vtn8SG57PJYnhJYqzVPDd/Qd7Hb8DCO+/TGOVZcsC5m/NOcphVaz+sK1qw3M6fadDRR1vkxft1+fEzjKOBnhbkWKifx/ETwuCeOnnjesCrZNSFJhJnkWQz9+8Qm3mSXYvSEMpyxBgAAHrFJREFUr/zoNWM8PC9O/siGh4fzIOOkjefhprz6XHJBTQX7Lf2RBOX1FqwLvEf83dA4Ev5us1EM3DBEcZGbs3xXjYpOm5mniF8ucr5vzjkXS4Eh4uBh47uNI/PV9JTzWZ9AJHeEUc/PfIk4BZdJ11aber62xXu4+k7+yB7/uP55fLylP3QR/m7gjTDYOkZxzu3SOrvPAj3pvZ3jbdopehnG+HX78SGNIydTbkSxAbig0ju60V+6FLHdmdBMskfuQnGiBPZFsiauJLhtEB1jmucK4wZhVp+01sdOG8qKV/ny141F78QecVL8JSyZF99nhLWt7znVXAzGaeOYTTvB7vqrNpJ+ei5qDGTX+BKHjojfue8WX/WnctrGl3i5ae3m/qm8CWyCe3dP1DWRXgIs1Y7v2+UorbHFe5OneUwCi7Lrx5oPo2M96Rg8Phx/NUbfZ6QtV6Mqljv/qioHlcGNnhaI5GnTSIHPbWjyHKJUUB5ZfjGQdl0xsF0S6Lgxsp2pDbZ1w2ef6Bxjd/KQtsXmZXz0WUUleBzNHd2XfugPDxo3c6ye8BdiUf4Ebr7v4fTiLPMpT7bpUo7TBvbxtLg8LQnNeX4Fvrlvjs3jice++lPEwvzO/rik8iZw2Xhtoa5rPF/yL9w8HsSaasf3rXRfYml5FGtqnIv3HL9uXqVdwYnGFehJ2jB7Tdtp2GWM8nuen/nLtWPM77S2PD+kcWTnbhcnsvgxUX76HXbUfEYEDe+bxK4U9J7gkogSQ0RkwrLiZ4hZCaSJgOZb0Zn4XJvDOWLjFZ8Uu93cacz6dWLs1to1Boed/yjOdP76GDVHdsPk+fUVh8HMryhZAx1mms9PKb1vHXPge8C7xm/0MdPOLWMm/i5eZTPH057EDZfd/tHzybZ806C4vPNVlatFztM9HNoc25w6tg2nMp8dv4aDNtfxE8Xojrf6q7W5XsPuf1VVhOE1jiwK2TD4ewOeSSlikwJS4nQSEYxr39pflyjxqqElKfskYvmHOfnpFNre7j5u679ek5iYPy1+z693r9qqT3jFnhMLzbWiK5xrTjS3tG6CNY2H64Pctjgkv6yhEpN6onA2XDm91d9q1Hz7brw9UbFv4rfqQeejPUGP+M145r4dXm/iRXK0/l3HJ7HYoplsmnisnrhGMF+Ga+2r51rrxXId+FZa7G1zPvc/td/WOFk7krO4IGsObIyct+yTDzAVcxSjGu9ta3417urDaO/+xmEMjhzhPicfn9ACNAAN/NsaQONA4wv+0xz/tsBRoJA/aODxGkDjQONA44AGoAFoYEsDaBwQzJZgcHp7/OkNnILTf00DaBxoHGgc0AA0AA1saQCNA4LZEsy/djICXpzmoYHHawCNA40DjQMagAaggS0NoHFAMFuCwent8ac3cApO/zUNoHGgcaBxQAPQADSwpQE0DghmSzD/2skIeHGahwYerwE0DjQONA5oABqABrY0EDaO0QTcfxr+H7aDG3ADDUADv1ED//3GoBEzNjs0AA1AA7drAI3j6XbyIDxwBw1AA79RA2gcaBx4FQcNQAPQwJYG0DggmC3B/MbTFWLGUwU0oDWAxoHGgcYBDUAD0MCWBtA4IJgtweDkpU9e4AN8/EYNoHGgcaBxQAPQADSwpQE0DghmSzC/8XSFmPFUAQ1oDaBxoHGgcUAD0AA0sKWBrcbxeroe12v5d3rVjl5Pbex6PU6v3KFejxOvsZ/Wxg3Je3m/CL+n43Vq4+V4v4gYrmb+y/txERhbDHadsPGAGNRpRvF4Od5fmEf7Oeb18v5ScmNxm3grV8lW7yvkdorV+k6cjfzb2GbXxu6Ef41f5EzimMbwdCjNy3XEncbSeGf8OkdNT2Vc+X4EN+x3/VNzFGHQ8Vwt9yqezLfiRI3v6k1z3fl+0tiU36rzdV7anly1q+fVOnm9HhlLNJ6wmTmCX50nX8t6juTX2BU17laelhuH3kBGFKbgMml5o4xAy8BuSejT8URCbGIn4i7vx8tAKBSDGFfzSwyNyCzUbrOzbfL9gBjYXvokDMKmia+J2ecrC6fxMY23+uX8CL9PT0e2Je4RtmY7xJrmC64j7KvjFFPdUDlHLWc+L812jrXOD/i2fCq9PJVCVrFk200vK74av9p2FMeDxo2+5hhsvD33KTctfoMx4Dray/O8Wyw2FwZL1X50/z67Vj9Nh9mvHjd6KfqqWu0w6/naVl8b574jHvrxtcZBSU/NohQOvi6FIYPmzsoF8Hr0p4IEQAdsA1q/tkll220zKltWuCYRFIMtdGlj2Xu07lEx6ITozZHGcozDzShjKDmpc4N4EzfkL52ITqfjop44PG7zfBZyiDVxV4uqjlPlRcYQffdiGuao90mYRT6jGLpx8i/3gNaamm+KMudyyJ8XW8THXeNejpOudUwtV1nzVV98uKg5TvZGa4vW6lyr7QCLx43Me8d1Ofgof70eWmyDsXvsEuaokYpxxxc1U6FXiVdr2eMv35P5qusjbAu6WmscFJRoDMbwsHE4QVPA3ICMnRrY0v1eyHZzSntuYxB+aNwKzUsmbxgnNulv/7uXfG/D+SJXRWsR4+t7eTrrNqYvuuYjxpr4vFx2XiP6cSkevXx02Ad2unlrMdTDUsipp0eBpfMvxkLbeq7iRGh4776H1+ck281j7TBg574ep8tFverlJjnal01PAZYg7+7e9tZscnWP3Rabn7toPHHu+k8xBFrK+fI4zVhWfEdaWmocFED63eIkfseQhZOSJN+78XfxaqMGPG5AEVg9nojpTziJlCbYljSK4fRaXsEUfDIGSoY4AfCriK7JjROi8TXfa/fzRrQnBMY9teEIiddx7uj1oYxXbqLRehl74ScXjhgriVP4yziMHiSGle9JZ8Jm5sTXgeWr3yxxDGRDatseLAhztkP8uuNZL2nc02V+RZP02GvZxvDYa5+30f5h38RjeUeutNrtnxx3jjniOsAS5J21zhjpk/Dcp7eb7Tr7qccW5Tvzpzgue6TXcl9rCHu3V1abTm9P4X96OrYaB/92UT8lMLnBLqfjRD9C68Rl0el7FtD6dSA2U4hy4dKbl/CMYkgb+TX9WG7wUpzmnvG1HoNMULS55Fz93RPJUryMeyB0WSRSwX5Nf4hAxfEWrHmNWzwZR/QZFJAx794mjGOw+sicjnPv5UFiIntuc0n59DDqPEtb93/f2z+Mr+Uv89eeQBysda9EXAdYgrwT75bXv9g4Ih1E48y1z22sE7I/OIjEvp08OvtyqXHUU1FNTgY/PiWVcVmU+S8G1L01kP4m8QgcFycirOIvfgcFs/pzBDvf/PfE42OP/fnrtuKNeCjCSVjkCbIVkRx3hLWtv5GnWojE+hXs3rrBj48thj19kWYiLC6OFkvz3e5VLTqb976xzfg87FG8NJ4ara/RFm+AJfDtFkNvzSaHt9n1Y225isYzF37TWP3Re/Q0E/le191a4yAByB+7M4DaOChJYtxep4SVe7bYNELXQec1HgmJ9AFpyb9tWoHwm7AZmydwHrv/s/eXY/QeVytvoxh24h3ZUBtNxz7HqufKfE1jUf4cPj2cXpzGTo812+7vS77HMZCGSc/m6UPgmxcdT7vrv2fV3Js49+57GFLMk/1jn75X4i17bs51gEX4qTHKvDu5cA9Ou3zdYtfDKv3OxmmMD2eO/vkPWuwBuNgnjm2OVn3LeQvf1xoHAxZ//0uvq2ohzpusvsKieVqAlEj1v+/wianCWACfm1HbvO5mrXZ6cRLRHINNKIlGx7D2o9QdcbkYWnwuN46487wg3sqL/97Tcqm4SmsDrHa+tefGIjENvpPdunH6GHu7kzm3xFA3prWbr9tJ0TaefF0PTjZvnt4GHPQx3qg5g2GeI4OffwPkXBCX8jdCE3/AdbSX53m3uTC+b+bxBruG0y5Xw3HLr5dTi6fNodxVbbb7yv/Q92D+hLflxsF/GVGbAxdcNk6g+EdxU3BF47nrxMm+xGcmjP3qIttvhLK5uQFOY5CboBD7QOJVQkU8/GSWedY89vFM/vKCbAbxsl+7qct92qzMlSfKxZznWHRuhvEzpuGniYkLF833CoZ3T2yUrRh0Puq7aOZIYeHmytrsT5Jau9a2wDjk4v45GoPMkVekMpfDGlCaB4/XJsn4A67HWFKcs7yncY2t880Ytj8ndp164O1RqfXRuI69aUb+VR/H2NdQjZH5T5+Sh5FviW/1+0bjuF+kq6AwD1xDA9AANPBzNYDGsX0C+bnJxEZDbqABaOA7NIDGgcah/5tj4AN8QAPQQKABNI6AoO/o3vCBUyI0AA38SxpA40DjwOkKGoAGoIEtDaBxQDBbgvmXTkXAilM8NPA1GkDjQONA44AGoAFoYEsDaBwQzJZgcIL7mhMceAWv/5IG0DjQONA4oAFoABrY0gAaBwSzJZh/6VQErDjFQwNfowE0DjQONA5oABqABrY0UBvH8/PzgX/gABqABqABaIA1MHpiQ+NAw8SBARqABqABVwNoHBCGKww+WeATp0xoABqwGkDjQONA44AGoAFoYEsDaBwQzJZg7MkD1ziNQgO/TwNoHGgcaBzQADQADWxpAI0DgtkSDE6Xv+90iZwj51YDaBxoHGgc0AA0AA1saQCNA4LZEow9eeAap1Fo4PdpAI0DjQONAxqABqCBLQ08pHG8na/H9Vr+nd80gLdzG7tej/Ob6c5/Po5PXnv9PD7+mPEbE/rn41P4PR9vUzt/jo9PEcPVzFcYnRhMjJ8ffzQHU9+L8SofM57ejnPlU8Z0PRquIN6KN9nqfYXcTrFa3wmj4bv6X+SG5hu7VofCpsYvORI4pjE8H0rzHX6NpfHO8egcdXtC+RaYRAxffcrXHEUYdDxXy72KJ/OtOFHju3rTXHe+nzU25fcuPlft6nm1Tl55P0bjSTNmjuBX58nXsp4j+TV2Rd2IeLq7cegNZERhCi6TVjeKOx6JlDff5JOE2OwQcZ8fx5+BUCgGMa7mF4yNyCxUG0O9Lklu1xOcAzxdUSAMIuEmvm6+sZuF0/iYxlvXsqiE3+fnI9sS9whbs/0cYU3jgusI++o4xVQ3VM5Ry1mUgxxrnR/EYPlUenkuhaxiybabHlZ8NX617SiOB40bfc0x2Hh77lNuWvwGY8D1c4BlnneLxebCYKnaj+7fZ9fqx2pcjxu9FH1VrXaY9Xxt6/mwfM59j3m4r3FQ0lOzKIWDr0thyKC5sz4fuahcDz4VUNJr522nuKHIOpK8wGxS05xEZtuMiiwrXOODYrCFLom53NPC9fDcf6/3kWNc4qnkpM4N4k3c1Lycz8en4s3jNs9nIYdYE3e1qN7PDeXSi0nkSOXb5LfGK3IcxdCNk3+5B7TW1HxTCJ9NIVBzE1YvNieGKMb1cS/Hk/3jHJRoz9QcJ3uaD4mli7fwkfUaYPG4kXnvuC4Hn4rtRv3dY5cwR41UjDu+qPgLvXZ81jGPv3yv1gOppQibmHtf46CgRGMQhlMww8ZBgeUAatMxayUZe99zx9XEeARm0biNQWDRm6AIrSbT83WjGIVPHa+Pvd9wvl87L4o3+X77KE9n3cb0Rdd8xFiT/8/PndeIflyKo5oPMbfDLsYk1928tRikbuecBhrp/Gucc9t6ruJExrj13cPrc5L95bF2GLBz347z56d4HS3rhZ2b42l6CrAEeXe589Zs8VPqWi3OJQeLdltsfu6i8cS5G1eKIdBSzpfHqeXdxyb1dVfjoADS7xZn8TuGJJTIlO/d+Hs6neUArp/n4yx+X9AFPw5ABtOI6U84KSF8KpZrKIbzW21y9DpNxkDJECcAfhVBT1kphuSrxFLeEd4fg4w7by5rk3HLWLrvjpB4Heeui1duotF6fsKsYuWnyBgrbQzBb8YhXnVJ/6vfk86EzZkOLEf9Ro1jIBtS2+4JNtshft3xphlPl/mVQtovvZZtDI+9Zk1LDeqnSs8f8ejpv9s/Oe4cc8R1gCXIO2td4SU89+ntZrvOfuqxRfnO/Nl6kOz0WtY5THMIe7dXVptOs/eQxsG/XdRPCUxusNokROMQP8jweo8URfC0oARiM2tz4dJNxRa3tonLRn5LP+jLGIQQu43SyF6PQa6JNpecq797IlmKlzkaCF0WiVSw39IfIlBxvAVrXuMWT8YRfQYFZMy7twnjGKw+MqdCAwavlweJab7hPYw6z9LW/d/39g//cNvyl/lrTyAOVqoJia+I6wBLkHfi3Tbtv9g4Ih1E48y1z22sE7I/OIjEvnUe72octaDW5GTw41NSGafGUgQmAsmB8elVA13fEB6B2VcTd7NNPiv+cn9QMCuGKtjkqz8hzAtB813tmUKj7/vYYx/+uq14Ix4K7oRFniAtzxHWtn6XmzK/FiKxfgW7t8785sC5aDHs6YvWR1hcHC2W5rvdY1yP/9yMz8MexUvjrXGM9RJgCXy7xdBbM91/Pee32fX3Y8tfNJ658JvG6o/efa3K/iPfPQf3NQ4SgCz0GUBtHJQkMW6uaUPIwmvGG6k98PGYR0IifUBa8imfkJKIAuG3jZx92SekNr6Dezy3t+f7VZyMYtiJd2RDbTS9uedY9VwpWsuhikX5c3jycHpxGjs91my7vy/5HsdABZA0bJ4+BL550fG0u/YKYosvw4Ne62EI9o98dZlsr8Rb9tyc6wCL8FNjkHl3cuEenKZ8OHq7xa6HVfqdjdMYH84cPMFrKuLY5mjVt5wnvt/XOBiwfd1UC3HeZPwKKn+KAl4I0ePy9wSfpCoSEYi6ZxLrbta6thcnEc0x2ISSbRGD8ZU3zQNiqPj0RqQ4rU85l78P5wTx8vr0aWN33pEqrrw1BoedP8/Nev7Jbn1y7GNU+qAYJ3Ns3Csx1I1p7ebrdlK0jSdf11O38ZWf6oXeZH6+6rvBMM+Rwc+/AXIuyh5vBwMTf8B1jr81YotlnnebC+P7Zv5usGs47fQ4HLf8envC4mlziK+qzXZf+R/6Hsx/fh7+38lu/D8Alo3BzYMLLieFQPGP4s4GUOOPK7iZMPbbhJcIs+LjP4msDWwag4Pxi2Lok8vxaB77eLwYpQiCnHHu7KYu92mzcr49USo+NNYUU7ie/W99mpi4cJENr2B49wRHWzHYGLPtqieFhRsy57I/SWrtWtsC4xY/e+s0Brl/vCJl4rX7pzQP5qM2ScYfcD3GkmKa5T2Na2ydb8aw/TmxS/FIzqL9OB7XsTfNyL/q4xhbc+Zca4zMf/qUPJAPm7OAj7ufOFRxC5xhLicUn9ACNAAN/LsaQONAs3v8fx4FnIJTaOB/WgNoHBD4/7TAcar9d0+1yN3PzR0aBxoHGgc0AA1AA1saQOOAYLYEg1Pgzz0FIjfIzXdpAI0DjQONAxqABqCBLQ2gcUAwW4L5rhMN/OD0DA38XA2gcaBxoHFAA9AANLClATQOCGZLMDgF/txTIHKD3HyXBtA40DjQOKABaAAa2NIAGgcEsyWY7zrRwA9Oz9DAz9VA2DhGE3D/afgf+gI34AYagAZ+owbqf+TwNwaPmLHpoQFoABrY1wAax9M+aRAaOIMGoIHfrAE0DjQOvIqDBqABaGBLA2gcEMyWYH7zKQux4ykDGsgaQONA40DjgAagAWhgSwNoHBDMlmBw4sKpGxqABtA40DjQOKABaAAa2NIAGgcEsyUYnDZx2oQGoAE0DjQONA5oABqABrY0sNU4Xk/X43ot/06v2tHrqY1dr8fpVXdltbbYsHNuOcm8vF+E39PxOhXAy/F+ETFczfyX9+PC8S3FcDneX3Sct8Sg1igeZ/Zfj5PAWvNyvR6X95eSmyDeylWy1fsKuZ1itb4T74bv6n+HQ2PX6lDY1PgHeZ/G8HRo3Vr8GkvjnePROer0rnxb22zjaz81RxEGHc/Vcq/iyXwrTtT4rt40153vJ41N+RWaUHtt6f6qXT2v34/ReMqzmSP41XnytaznSH6NXVE3buVpuXHoDWREYQouk9Y2ig+8jd+4OUiITexE3OX9eBkIgmIQ42p+iaERmYXaMKYYmq99AS7ESBhEwk18kc8snIZxGm/liHMj/D49HdmWuEfYmu2nCGsaF1xH2FfHKaa6oXKOWs4ijnOsdX4Qg+VT6eWpFLKKJdvWehFN3PXV+NW2ozgeNG70Ncdg4+25T7lp8RuMbvxCTwGWed4tFpsLg6VqP7p/n12rH6txPW60WfRVtdph1vO1rafjyfA59x3x0I+vNQ5KemoWJdF8XQpDBm03yfWopwKeXzdZD8QGFl/bpCabicy2GZUNK1yTCIrBFrpEPt9L6/m7Wav83DGmN0eKJ8c43IzSV+G4zg3iTZjJX3pCOZ2Oi+LN4zbPZyGHWBN3D83309E1qxS/zJHkw/lOmEUOoxi6ceJU7gGtNTW/27iaUzU3YV3I16N0lu1oPPneZP+U03DVFx8uao6TPc2HxNvFq7QdYPG4kXnvuC4Hn4rtxnpzj13CHDVSMe74mmmb+Kxa9vjL92S+aj4ibM7eqWvL2FrjoKBEYzCGh42DAyvr+UkkfboBGbsWrL7OHVfb8QjMonEbg/BH41ZoMpmvp+Nyka/FxptE41wVrY+933C+PTsvijdhfH0vT2fdxvRF13zEWJN/zZc4XQret7iS+WAbHXafn74wr8VQD0tcKFnT7L9+enoUWAKcK/na4qriEhjUPQ+vz0n2m8faYcDOfT1Ol4t61cuHDD4AteuMqekpwBLk3eXOW6PiH/HS7t9jt8XW7Mn8ReNprus/xRBoKfvxOLW8+9gkztH3pcZBAaRifxK/Y8gNREmS7934ey4WvF42jvubRyKmL94pIVagNQmn1/IKpuCTMVAyZEMrG6U8ZeUYRPGjmHv/I6Lj+9mfboSLJydHSIR3Fq/cRKP1/IRZxcpPkTFW2hiC344/6X/1e+Jc2Myc+jqwfPcbNY6BbEht24MF4WadMDd2M+YNnPTu6TK/Ukh6fKSWLAbv2udttH+YT+LR+42y2z857hxzxHWAJcg7a50x0ifhEft1VWNi3s12nf3UY4vynfmz9SDZ6bXc55ewd3tlten09hT+p6djq3HYwq82sdxgl9Nxoh+hc+JYbJUEnutuxBh0DiIQmxBAmp8Ll968hEuSy7hoY1yO99f0Y/lYfCsJtISPr6PNNebFE8lSvMzRQOicN8r75f14TX+IQDm7BWte4xZPxhF9BgVkzK23CeMYrD4yp2M9eHmQmOZ68TCOcy7t3vZ9b//wD7ctf5m/9gTiYKX9lPiKuA6wBHkn3m0t+YuNI9JBNM5c+9zGOiH7g4NI7NvJo7MvlxpHPRXV5GTw41NSGZdFWTqnpF6d0+Ma6LxRPALHxYkIq/iLn0HBrBvRFWzD6NqUcW5997HPi03C4q9zsY3iHd03+BMWeYJsRSRzEmFt6xuHlWvjy71fC5FYv4LdWzfgrcWwpy/CG2FxcbRYmu92z+VhhatwzmZ8HvYoXhpvjWOslwBL4Nstht6akBPN+212/f3Y8hiNZy78prH6o/foaSbyreNvmPv7a42DBCAfxTOA2jgoSWJcXZu54vQ/JGcpwR4JifQBaQmTbWSB8NtG9nzpH4tnJK+ONX+cqOy3Pql5vIxi2Il3ZEP505t7jlXPzfEvxKL8MQfi08PpxWns9Fizzf6+xDiOgQogadw8fQh886Iz1tN9e0JwZTjoNehhCPaPffpeibfsuTnXARbhp8Yh8+7kwj04hZwY/m6x62GVfmfjNMaHM4Ol2Oh5bPNozOZo1bect/B9rXHwezXx97/8+iL/6WveZPpVVivglES7dlTgF0Ar8Qii3M1a7fXiJKK5mdiEkmhsDKJQOKKquKrPltSlMReD8OnZHeII4pW2rF9u7swN519cdz/QGRyKW8feEh8SY/muN04fY293MsfGvRJD1Zu1m69b4beNJ1/XU7fxlZ/qm976ODa15HDX2TQY5vvH4C9PbDVe4lL+RmjiD7jO8TetWyzzvNtcGN8rXLhzbrBrOI04b+OWXy/fFk+bk2ts46/ZbXMsx+4clwdho4wvNw5+JVKbgywiyRgRxj+K9xsgBzYevzUIbVcTZ8W3F4PcBJk47auP8dYY1LoJj308k7+8oASXYsZN2+aMRWI3dblPm5XX1oIpRDTBmmIK17P/rU8Tk3r96BUM796tMdicZ9t1Tygs/EMka74/SX6LngJuNQa5f7wiZeK1eirNg/moTZIxBHoZY0n5muU9jWtsnW/GsP05sUvxSM6i/Tge17E3zci/6uMY+zcQGiPznz4lD+TD5mybj7x3NhqH2Gw3OlMFEjb0//IefIAPaAAa+Ec0gMbxjyQKTRcHF2gAGvgpGkDjQOPAKQ8agAaggS0NoHFAMFuC+SknHuDA6Rsa+HsaQONA40DjgAagAWhgSwNoHBDMlmBwyvt7pzxwD+5/igbQONA40DigAWgAGtjSABoHBLMlmJ9y4gEOnL6hgb+nATQONA40DmgAGoAGtjSAxgHBbAkGp7y/d8oD9+D+p2jg/wFnnAsy5r42lgAAAABJRU5ErkJggg==)"
      ]
    },
    {
      "cell_type": "markdown",
      "metadata": {
        "id": "oOvyJlpAzu9N"
      },
      "source": [
        "### Modelo 3 \n",
        "![image.png](data:image/png;base64,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)"
      ]
    },
    {
      "cell_type": "markdown",
      "metadata": {
        "id": "_TE7YNr9z8C6"
      },
      "source": [
        "### Modelo 4\n",
        "![image.png](data:image/png;base64,iVBORw0KGgoAAAANSUhEUgAAAYcAAAFWCAYAAACCfFH0AAAgAElEQVR4Ae18y3EkO8/sdeX3oh2QOdqOHVrJBi207wi5IG3bnrpBgCDx4qNfc2a+ycVEP8gCkIkEwKrWOf/vdDod+AcOoAFoABqABrQG/p/+gPcQBzQADUAD0EDRAIYD7pxw5wgNQAPQQNAAhgNEEUSBkyNOjtAANIDhgOGA4QANQAPQQNAAhgNEEUSBUyNOjdAANIDhgOGA4QANQAPQQNAAhgNEEUSBUyNOjdAANIDhgOGA4QANQAPQQNAAhgNEEUSBUyNOjdAANIDhgOGA4QANQAPQQNAAhgNEEUSBU+MjTo2vx8f35bhc5N/5eDNaezvObe1yXL4/jlez/ogY/hsbb+eC+fv4eL3e/+vHN3F2frv+Wuj2sZz9e8Ph9eP41kV5fruiOdaCfnghq0ZxVTyPFcP/XnH5Bn1707qdG4nBDwfJ3WM1Jc21D6XL8bsbLQ+H2/xK/N8fr1fUpXD5L7+qHqL6m829aHEvN//WcJDBoBvw28cVJ5zHFnJrOG9nOmmdz+XUNGoi/7Lwb8UuxSCcSgHJ51vtXnOdj8Ff+1hNcXPtp/Z7GnXT5//IHc3/Np6FjqT31cFhh4bXJH/+h4bDZpG2wWHJliLTJ7Ly/hEnHCrocjdCQyJOdTlNiW/v08cmifeNQuzEdeHGP96QZrr5aEQGW8Vh47R8/p5CFVx9GDBX/fPpJHsqxnBXOOdgxH3HJ/a1T12Mj+XF5/wkTYF0XWMpGOX7oGGHt9WDxOzWJeen0yH6Ep2KzjoX/to+xE5VM3Kt1Q77HnPNdr8/PtSjOmX7nxhuldug38Id5504HfSYniPJ8z/1P96bkVcIqeutGLL92XedzIzg9Xe1YMkv29eFIQUXC439csHkheAbhbcl69/ffL1ffzurhibNZMqPcJHwdIUo15yJn9Wrb8w+rsH6FsbTURpaz4u3JbGNvpd1H5N8f9ur5LQ97695Y03VWL6/j29qIj42F4u5tsTj1gdN1+uI8ym+F7+tpAeL0+F1bj/XuC5ysKqfWx5v4/JxOvwd/vdyI0O463Yc279z5yDNLZ2sSvhNUBnZ2XdjcrfEVePiZPkCWvgTTC1mG4tvFL5o5XMbRqEZaHs2Frl2JDLr2+PSdp/5Xpqf3Pm4O70ELzcdHoorjD6/tmEJLolBDVrTVC2v3ua1ny3vvqlKLP0wYfaHAW7ztstHvk98SwMXftxrOhwqR1rnJnd+/bGcXpuD/2Z/xax+b0j/KCDk2PGvtPnvDIflqWdHYI8XnSnOdmsuxetjcok0BeLWgq1+2y8NPS9iZacKSW716bUOVx93KAgdm36vxBeuefiaNCRuzKF5Z/iouPRwkFwoXlqcOwVpY4iYH6spyWnPmY5/Hku81j5qW+a88iJ2RGcNc9VBHlvlNxsOch2Gw+RH+k0dYThkhTwvjHbL3ASYkZ19l/na/44bVj/ZSuHwaX7hLyua1rhkGPTm4IvWf25FXGwE2zaW6bU1BsL2/XG80Z8njk7O+1yZ+BTO8fcu5x5T/dzunJzNOUZn++RP6YIr7rPxWl7tmtjYf+WYe86tvUUsi8Yx56PHuLNP9lxavdXrd4eD2Vc5bLYey6nlsOP8s77fxLzIscb0D9058DNiar5NRKWBnutfK1lyW9M2j6EWxeWaiyY6f+9FXYRnv5M4wimMfEk8eTOQAqRrpTG257IyPAa3+a5xiq329/hiz/DjCqcK0XOec+GuvZrL7HrhRwbT6rOzMcVYbQl+2Rv+vt/7dD4k32LnTtycp1wP8sPk+C/ibA2EPAnGRayilVyzFb/YUrVI/kzT71xxHXRc/Fnyamum1dAizoDvTu7/W3uL3Ak2DIcuqpAw3bD8X2rotfMb/wjmBSairs/2RqfO4FeSo1/TRMVmIgNC7irsaUv297uPHpNe+z4+3vi/8ZCiXRWx8Zvx4biIzzirYEPDnORH83P3e8EvTaQPxM6RxNj5M/zOMGq9lL/aoc/SwBK76pFVuzMzz4j9X4tdz9N9w0HdMaq4OlfZuuCVOyfFI9mQ9YQPVVuixabx6l+02geb2O85bcOgDZrqS9nfqse79XZ9vh4X1xyzqWWV285vjP3funP4q5Mfk/c4YT3Ldm3OrWif5Qd2/3wtIEd/W44wHDAwJj9y3VfQ81Psfbb/tkJDvMj336YBDAcMh8cPB/W4ZXbb+rcVC+JFg/+XNIDhgOHw+OEATsEpNPDXawDDASL+60X8L53mgBV3L79LAxgOGA4YDtAANAANBA1gOEAUQRS/62QCPzgFQwN/rgYwHDAcMBygAWgAGggawHCAKIIocJr7c09zyA1y87s0gOGA4YDhAA1AA9BA0ACGA0QRRPG7Tibwg1MwNPDnaqANh//7v/878A8cQAPQADQADRQNtOHw8vJy4B84gAagAWgAGigawHDAUMShABqABqCBoAEMB4giiAInR5wcoQFoAMMBwwHDARqABqCBoAEMB4giiAKnRpwaoQFoAMMBwwHDARqABqCBoAEMB4giiAKnRpwaoQFoAMMBwwHDARqABqCBoAEMB4giiAKnRpwaoQFoAMMBwwHDARqABqCBoIH94fDr8/i5XI5L/ffz+csac+tf7zJ5348vdZ1cT69f79bGDQn69fnTYrpcvo73qQ0bS8DwYtc7hl/H50/H/mgM5pT2/qXw/Byfv4TH/PX9S8fl8bu4Pd/DnLEva7v4sfFY7u2awVR57XzmWOw1oz0LTCr/Nr6cJ7vH89djoH2evxcXS9Cf1dPl5/P4RfH561RswUePYY+f6/bv4mffDk+I1a03vDUmo+3ItY3lcli9WM5Wtdu5vo6PyLHFFP1a+7ZmIsb5usUY+9k8Fsufrkd7ne5fMzybwyE33g3n65zcfM03mpgUS3q6TmLrCSByvCBbs6hxKEGXRHkM7TM1Tk2wi4d8T9abX3fd7Hvv0+HzHLAYxvhJiA0vC8/i0/h5vRdk4avbXvl+mcQqBdFtX8GJ42uKye31Mb/UISUcMH8qh8R/xNyKrnHJ8VMsSm9Wf7XQ1TU2dsfBM/S04sPlzMbv4pNB2PA4PYX1l8PgdfiCL7f+YmrBc8m13PXk153vFQ/DdY/R+7UcsU66fjzGuV5qzAs9iXZFy40Dz5/Lra8FH6tfL5/3hgM5uhyXJozaaAWIW2fHuvFoEvnaDlKvXfPeJ65cW2yrYtdJz8jSzSCsZ/YlvkdhEHv8aoqJYucYmgA0npekADQeU1zVT8FYc+aFS+JQ61Sckl/n96U2ApvDQazF5tcX3T2OcGTCTL9bYEqvUbHb4szzW/Y0XOSvnOq/jq9yh9b0/3LY5mXz2LicDFcb63P0ZH34GDP8k/pJ7v5IQ8JJqB/rL2jb5DKLRV1v9vL3xt7C95wH5UdpZZRDg9ntNzGVNYpbhgXn2NaA4jvBaOJOMOpYYj0r2y5OjsvfmUUe7hsOA/FToIMmTQQOrjNkeEDhc0b2RGSFXN/sZgmZrMVERGKvw1Kuz2MPglM8MM8ivpfDxJWISTc02iuFLTb1Ne9fx8+PfmQ3GLpybdI8eFiX+LJc3cCZjk/8TvJkchD2Md+2WN3A/fV5fNbHoz4PhmuJRb36/SYWta98v7I1u/b2tSwnuQbZB6/1AWn3XoM3YA65WWnDxn6t713O0rxkGqz5pP2qt6XX69wr3Ku96bqOhd6rGtVr2md2qHTrws/ecCAQ6rlo+w1BBUMOqoAGg0EmVjuZDYKS4OavRSDePxd3bp8FpddIVMEG7yvP5fTeHosVZv9+JejVOnPnmxWJwjdxzRuJoOZG7yvf+2Go76xqTrs/yR0PG/KrhM6PjSLfgj8Tb/mOOXwQZytMmhf3PmsgAaPoXPNY7fjr6dqvd27sUg+K77K/YGeNJflp8T2Im2ZvpTNZL35jPiVuyat/1Xi6dnrd6fU+SMTny8E6Knwo38T71/Eu/BOfar1hE43auziJeem72VHxTL6THBsOJNbRdaN6TPZTvFVr4os1WfWi9CTr01g0f+raeE3GbeRkbzgUYNqx3GbrBGvwstcVGSevn3RN0Pr6rfc3iFviqsX89Z7bkLh08uS72bP1tmcrfp+M64cDxadEwMKq/O40Ui3kksv38kcH4/ykfMjJ12uhcN1ie1AD3MGUcj/2z5rsxfhe/sDB6bbk1WOXItYHCJ0PsdsbaG1s3jblYMz5fZryGtOfc+2XuDWm7p857GsWzzbelh+VE6nLphcZIuMmRvzX/df71jyM32815IanakRhMPWo9jU9qVpb6WkVS/BFuor80T4VY89v5GF/OBhwMsFZ1DE5nHj7a3v9bjOwWdC8psTVYuO4uoAjYGOXRDkpzKRwCasv8OZ/4W+6L4997G+BP4ldP1YyPEhc5ZpJfjKBsii9CAsW/V0W6w1c3YKpYMuuE8zutfCd6cfnIeNC85vaSeLwdtO8uBgfsyfLSa5B8pfEfgteHXvDntbhJJbCB13DGtvlWvveeZ820owHys8+n4RbDYYSy0pP81hyrhq/TT/5vhEXe8PBT3b/mQi79MbiP5fg6ndZ4Y2Cm3+fAS0J0k1p3oA04fp98xuEkAlg7qPZagka7x8ls58+9bVZLIoTVTwthoJn0vy7f2VHxV3Wdf5ovxM5+RJ9yOMW9aqvb3EpH9PvbsBU7HVcmr/sfcYp7ws2Mi5VfGmx/2Y9TblMf+Oa1E+I3TboOd6xnvguLfOrrrnLd5bnze8SvylO0m+mHYWB9vDntAaLL1+bSk/ZAafH4v0MNKvtbdTc3nCQP1NTRV6eyfemxcTov5/1z+wJiLlmM0EzEC555MMT3K53ySOiIgaPyTSzK8mdF2eC39t3+Lw9algKL3Pc74RsQ3MCSn31wepteXGG9cZzgutRP0iHRu8wpTGM93i9eD4135bLgjHatdc7vUkN6btOn4M0/ozPB33n9OX50PjlTyd7PTD+/ghugdf5Yj05vSkt23XP9ZW+b+bV+/UYbR5s/uvdgDo8+XXLr/flH1P5dRtLqEfiu/NLvnwOFrxsDgc5JdRns2mT52BlQHQRMYFETHqdJdgStl5jUiSu3hiLnSB2KkbZa0/B5He1fiW512Kh/eRDYrTJDXikWbahbfdLA5Oc9EKuvBpfelDyuuVW27a5bvZ/y4/4tTEIZt1s0yFki8jnRHTJGKx+9F7aZ3wVjlwsurlR4Tme/PW/Q0+LBmBzrPH7ZlTwOjxX4rW+tJ5Wekt8ey59bGGdfeic7r23mE1fS/Jn9aQwut6ia6YfSK/Tk4lF+p3URdJrs/4x42B/OCxENnOCtVuFieugHWgAGvhvNIDhgKF39//CBMX73xQveAfvz9QAhgOGA4YDNAANQANBAxgOEEUQxTNPI7CN0y408HdoAMMBwwHDARqABqCBoAEMB4giiAInu7/jZIc8IU/P1ACGA4YDhgM0AA1AA0EDGA4QRRDFM08jsI3TLjTwd2gAwwHDAcMBGoAGoIGgAQwHiCKIAie7v+NkhzwhT8/UAIYDhgOGAzQADUADQQNtOJxOpwP/wAE0AA1AA9BA0QCGA4YiDgXQADQADQQNYDhAFEEUODni5AgNQAMYDhgOGA7QADQADQQNYDhAFEEUODXi1AgNQAMYDhgOGA7QADQADQQNYDhAFEEUODXi1AgNQAMYDhgOGA7QADQADQQNYDhAFEEUODXi1AgNQAMYDhgOGA7QADQADQQN7A+H14/j+3I5LvXf98erNebWz2928r5+fLdrL5fz8fagZFxn9+04zzCc7LrHcHo7PwWDOaUZH9/Hx6vl0ew9nY63c89J5PX1+PhW6+e3q3JmbRc7Nh7LvV2zcTKvgc+bNLDApGza+BQPSn92z1iXtM/zd3KxKLuM3+rp8v1xvFJ8/joVW/Axz7/l+fq9u/hTPCHWEd4al9F25NrGcjmsXixnof+42u1cX8+J5dRiin6tfVszEeN83WKM9TyPxfKn69FeJz28vM7wbA6H3Hg3nK+35BpRSCFE4mxSLOnpGtntdoicVoD++hqjEnRJlMfQPtOwUwSTr/557sv73vyc+uz4PAcshr7uYyIhNrwsPItP4+f1ljMqtm575ZsHZ75fCqLb3uRDNXrxP8WU7Jfr+JU1IBwwfz2nJ+I/YuB9l+PSuOT4KRalN8t/LXR1jY3dceD0ZeN2e5c4N/dfVT8ej9OTDMoRXofPcnU6WD8+F/LZ++Y8dj359XpoUrHcxqfH6P1anlknXT8e41wvNeaFnkS7pzoMGweO31k9Fi58rBk/e8OBHOviqI1WgLh1dtwbD5FykZNATaQ7hWbBzb/ziSuJKnGJoGziUrJ0MyAMPbGnKnZJRihs38gfULDBR42hCcD5CPs1niy+grHmzAuXuFbr1Cglv86v54bzxPkIsRab5zPdsYW1YNflzK8vMM314osv0w/vkZzzsCiHmfNxLndoutlkseh4g55m2Lieml9t52nvM/yT+vHNSBqMcLLAm2tVajWLRfGVcG3sLXyvdDFcT+xS3QhmlxsTU1mjuKWncI5tDSi+E4wmrkUssZ6VbRen6NrGoviu++8bDuE2mh3wcJDEe6csBGlShgAPYvo5I3siskKub3azhMzWpDC8vWm8ngf/OY89CE75YJ5FfPU0IDElYmJRcF5Sketr3s7H97d+FDjKp+DI8lG+K/Fla3LdFa86PuFhkaemr7CP+fYFYvh+/Tg+6uNR8/1G/v3+FofErV5jYV/BibIz8xHXspzkGuRrea0PSLv3GrzFnsEccrPCb2O/1nfkIvdnYhSeMw3WNdqvemJ6vdgprwr3am+6rmOh96pG9Zr2KY+iBwNOc7M3HAiEPA7SryoYCqAKaHR6FzvSwFzQOrD1+yIQ79+d/Ix9FpQ+nZGogg3eN3weR6QXDqLvdcy5CPk65s43KxLFLJEtHneyLd8HnhVnNRfdn+SOhw35VUIPt/2GW1fsda3YYL6Z0+5rxsNkbYXJxaTzkTWQgFH0mfDtr5e8sI1aE4rvsr9gZ43V9cRueDwwwaDx3P9eaUH5lLhH9jUenU+5Tq/3QaJy2vSq6od4Px9vwj/9LqjWW3yiUav1bd/Njopn8p3k2HAhsY6ua/hsjMZGvZa4qpoQXyM9ybqx42PR/CktxmsybiMne8OhgNGO5TZ71CBlb1oM8rxLHjPFoAyYURIGj5BEKKkNiav+KH1+ywtErtXJk+/664MaXsN3/XCg+JQIWFj1TmKnkWohl1y+lT866HciHSvnaMQH+3WCK1y32B7E1Q6mxqfW1dg/YZI/Uvj+ON7KH04kuvXYpYjDYaNiFru9gdbG5m1TDsac+xw87nOu/RK3xtT9MYd9zeLZxtvyo3Iiddn0kvwG0a7jvBL/13LtbHRsWiv9Pfnw+aJY83wRBwoDa2SyV9XaSk+rWIIv0pWrSX/HtuBjfzgYQzLBGXgUBieef23X7yvx0pQ88cZHT1KeRCWudh3H1QW8sDFJNPlcFC7hvguDji+PfexjgT+LnfBGwTR+yzVK3O37ym8mUBalt1mw6O+yWDX2zfe3YCqxZ9c1zVjfhe9MPz4PGRf6MUFqJ4nD2/WcP+9zlpNcgxRDEvsteDWehj2tw0ksJXdKy7tca9877ynHvh4yHkhL+3wSbjUYSiwrPc1jyblq/Dat5/tGXOwNB0rEpTcO/5kIU+vuM5PRi85/HgU3/z4DWhKkm5ItfG9PE67ft31NCJmv+gPnw4ZDZo/99tOnxrMQoyoeg8eLvQlH+x/j1Y0zEzn5En3IiVy96utbXCqG6Xc3YCr2YpFoHvX7jFNeDzaKNjyXKr602JuexOfY35SHXb6m+7IcT+onxG4b9Bxv5kvnJfOrrrnLt3B9w2viN8VJPGe5VBhoD38OuilrxddET9kBp8fi/Qw0q/S5o6+94SB/pqaKvDyT702LidF/P2ue2RPJ+reKBz2zd8kjsjzBrUBc8moD8xj859bMnK/VM/gd8sMenzzvs2FRyVd4Cb86kdiG5gSU+uqD1dvy4gzrLjaLzXE/3Tsv4imm1K7DrfZ4vZBtxafGYP2WGKNde73HzPvNIyufAxWb9v20905fng/rl/G0epCe0A5HC7zOl6+f4Jv2ix49157Lhe+befV+vR+rVZt/eXzeHyv5dcuv91WHZ9OjX7exhHo0/NU4fQ4WvGwOBzkl9Abfm6gQxMHKgOgi0oHJ9ZJ0ufb2VyZF7PZEFOKD4OpAGMa4WLe+HofBiIQSKHisj4BHTsVtaNv90sAEr2lMRRjGlx72nI8xXpvrZn/4H9VYIRu8C4HGvbUxCObWnErMmZ/su643KlixpQar90v7jK9iw8XSClnsO5789VcWq4/pEZ9tjnX9+GbU+W35vhKv9eW1Ks00177ktvn2XNbcj9clJ9e+2hyavpbkz+pJYXS9pcVpDtnX6cnEIv2uaXlQzyFnYz72h8PVRTx2+ghRwwb4hQagAWjgeRrAcMDQs/9LDfABPqABaOB0OjAcUAgoBGgAGoAGggYwHCCKIArcqj/vVh3cgtu/RQMYDhgOGA7QADQADQQNYDhAFEEUf8vJBnHiFA4NPE8DGA4YDhgO0AA0AA0EDWA4QBRBFDiNPe80Bm7B7d+iAQwHDAcMB2gAGoAGggYwHCCKIIq/5WSDOHEKhwaepwEMBwwHDAdoABqABoIG2nB4eXk58A8cQAPQADQADRQNYDhgKOJQAA1AA9BA0ACGA0QRRIGTI06O0AA0gOGA4YDhAA1AA9BA0ACGA0QRRIFTI06N0AA0gOGA4YDhAA1AA9BA0ACGA0QRRIFTI06N0AA0gOGA4YDhAA1AA9BA0ACGA0QRRIFTI06N0AA0gOGA4YDhAA1AA9BA0MD+cPj1efxcLsel/vv5/GWNufWvdzd5zfrP8fnLrd+YnF+fPy2my+XreJ/aeT++Zhhe7HrA8P6lfF2OwMHU9yZe42PN0/tXz0nE/+v4/FHrX+9X5czaLnZsPJZ7u2ZPnsxr4PMmvhaYlE0bn+JB6cTuGeuH9nn+Xlwsyi7jt3q6/Hwevyg+f52KLfjY1I3CbbmfX7+LP8UTYh3hrTEYbUeubSyXw+rFchZrb+H7Rn5eXE+Ifi2/tmYixvm6xRjr2WL0sVj+dD3a66SHl1dvQ2tnczjkxrvhfL0l1wwGKYRInA5s6z2JrdshcloB2qS1JCtBl0R5DO0zxawIrhgapiqa/tn7u+Gz9+nweU5YDGP8JMSGl4Vn8Wn8vN7xlJx22yvfL5NYpSC67Ru4qcU9xbRsAKxT4YD58zmOmFvRNS45fopF6c3qrxa6usbG7jgg/lQsSyzu+lv2u5zZ+L19j8fpSQblCK/DF3y59RdTC94357Hrya+/HFOut7nyGL1fyxHrpOvHY5zrpca80JNoV/pZ48Dz53K7rN+Ek73hQI4ux6UlnklqJyG3ziT1xkOkqCklnxuwJDAPJn72iSuJKnENCiwjiwRYkxnWrf3HiM2KyWOKPjiGEU9hv8Zjiqv6LRir+LxwKRa1TsWphGpjtdzw2iDWYvPri+7YRjis7QlHC0wrO8RXw5Rh4AJtBUj+ymHm6/gqd2hN/y+HbV5JzEFPyZ6me66n5rd9P7vm3rUM/6R+ksMQaUg4WeDNtSq1msWi8CV5N/YWvle6GK4ndg1mlycTU1mjuGVYcI5tDSi+E4wmrkUssZ6VbRcnx+XvzBTfdf99w2FwsqRAW5PmxMdbpBiMIcMDCp8zsiciK+S2xlB9zxJi1jJf98bvr89jD4JTPDDPIr6XwwgkEZNuaLRXClts6mvev46fH/3ITgrZxy2fM47KdyW+bE2uu+JVxycxmzxNbIV9zLctVnfi/PV5fNbHoz4PhmuJRb36/TNtr2zNrr19LctJrkH2wWt9QNq91+At9gzmkJtJHoljG/u1vnc5MzFKbjMN1jXar3pier3YKa8K92pvuq5jofeqRvWa9vniNO7WNDd7w4FAyOMg/aqCISdVQG0wlCRzIi8/X8eXev7ti1IHtfe+2PX+3cnPAOc49OmMRBVs1HjVnU6/I+lr5Xnd/Rh0ETB33iaJwjdxjYtEUHOi95Xv/TDUd1Y1p92f5I6HDflVQufHRpFvyVUm3vId8828dV8a9xXvV5g0L+591kACRtG55rHa8dfTtV/v3OTkdyzFd9lfsLPGkvy0+B7ETbO3y2fxG/MpcUte/avGo/Mp1+n1PkhUTE2vyjfx/nW8C//Ep1pv2ESj9i5u23ezo+KZfCc5NhxIrKPrGj4bo7FRryWuqtbEF2uy6kXpSdaNHR+L5k9dG6/JuI2c7A2HAkY7ltvsRFwUiOwl4Lah6h9DtLgMgBHx5vsbxC1x1WL+es9tSCw9eYKhn9KFj/sw6IRcPxwoPiUCFlaNcaeRaiGXXL6XPzpQGA3f4xMH+3WCK1y32Ji/u7naweRi5lyO/ROHqrm/lz9w2B0O5gBR+amYxW7HXBubt005GHMuWnz8a679Erc+QHW/zGFfs3i28bb8qJxIXTa9vBzXHEau963rbvx+qyE3PDb/hTdTj2pfWeOYe955r+We9lROVrEEX6QrV5MSk+bZxdXzffP/slsmOIOLyeHE86Mk2dsDFSKyItTBzd8rcTWA7KsLeJx4sk2i7AkK/lrhFl89ftlHuH2xt1gWvsO+PPaxjwX+FruKg/BGHIKHCnIinEygnEtvs2DR32WxqrgCF4O1WzAV29l1A5+F70w/Pg8ZF/oxQWonicPbbbkYxPe49SwnuQbJZxL7LXh1/A17WoeTWAo3Ssu7XGvfO+8px74eMh4oV/t8Em53CFvpaR5LzlXjt2kp3zfiYu/OgRJx6Y8p/GciTK27z0yGahayfldjzYCWBCk/jZS82WjC9ftGVhMC++qnQLYXyc/9NHuLeKK93C/bW4hRFU/zX/B4sauYuv+MWz7t6MbJeU2Gq+hDTuTqVV/f4lIxTL+7AVOx13Gt8pNxOsh1xtyGl7QAACAASURBVKWKLy32pieJY+xvysMuX9N9WY4n9RNitw16jjfzpfOS+VXX3OVbuL7hNfGb4iSes1wqDLSHP6c1WHz52lR6yg44PRbvZ6BZbW+qDb5+bzjIn6mpIrfP3JkY/ciovG+NgILSv1Xwe99sry4IlzwiyxPcSHDJqzH1GNx6/a2kYXC+Hv9YyRYbceF9Niwq+Qov4VcnEtsUnYC8UMhXH6zelhdnWHex2Vx6bm8o1Gp/iimNweFWe7xeyLbiU2Owfkv80a693mPm/eZu2edAxaZ9P+2905fnw/plPK0epCe0A94Cr/PFenJ609wbPXquPZcL3zfz6v16P1bHNv/xsZJft/x6X3V4Nk78uo0l1KPhr8bpc7DgZXM4SOPqDb43VSGIg5UB0UWkA5tdL3aue2VSxK49xQaxuyEVYlytE7ni69E/SGc89eIpQgp45FTchrbdLw1McmIaUxHGAo/lVtu2uW729YHACM8K2RbFdfmeY8r8ZN91n1SwjT+rHx0n7WuNUK6vTUqub4Us644nf/2VxarjedR7m2ON3zejgsnhuRKv9aX1xHzN151vz6WPLaxLTq59tX5Nz0jyZ/WkMLreomum99Lr9GRikf4gWkz+YIb4DTkb87E/HEyxjw0+SrSwA46hAWgAGvjvNIDhgKFn/5ca4AN8QAPQwMvNf630300znCTAPTQADUADz9cA7hxwSsIpCRqABqCBoAEMB4giiAKnsuefysAxOP7TNYDhgOGA4QANQAPQQNAAhgNEEUTxp59oEB9O3dDA8zWA4YDhgOEADUAD0EDQAIYDRBFEgVPZ809l4Bgc/+kawHDAcMBwgAagAWggaADDAaIIovjTTzSID6duaOD5GmjD4XQ6HfgHDqABaAAagAaKBjAcMBRxKIAGoAFoIGgAwwGiCKLAyREnR2gAGsBwwHDAcIAGoAFoIGgAwwGiCKLAqRGnRmgAGsBwwHDAcIAGoAFoIGgAwwGiCKLAqRGnRmgAGsBwwHDAcIAGoAFoIGgAwwGiCKLAqRGnRmgAGsBwwHDAcIAGoAFoIGhgfzi8fhzfl8txqf++P16dsdfj47uvX74/jldN+PL62yb168d3i+lyOR9v2md4/3acZxgWMVpf38fH620xT09lb2eFZ+3j7aw4D/hdTs5vNmcO7/nN4rG2ix8bzz4fzLu3P+Uh5E5iW2Dy1zmMQbeG76gfg9Fr+mRjCbZPVm8B/8L3bfwIT3uvBl/Qj7dh8Vy8nu7Ea2J5NNdeF9ufLeaYY8uRrZk/S09zfi2Oor3N4WAJigPCFomsN/G4ApX1UCzbCatAqLh6Agh8EJWArhiUoEsiW7JrjD0m3i+fmdju6+R8P6SQKQbVgBc+fEwePwm14eUcebztc210gvdEha7wutx43zM+pGC6bcnJ9a9TTC5GxqByXJtXi4P47Xx7/jzGzHfTuLddPzd+09yOfT9ET4EPx7fTl8dvY6g1PtLTnXifyvWKh+G6q5mQY8unx+D59Ou/U09z3xaH5H1vOJCILocvhHZ3IM1fGrN8ricRDqwXqXzu9vLgJMj81Seu2CgNvRecuc4VAq1RnNwAKSaJv4qFvqNiyHzxd63RDAW2j82KpVw39xH2Kzwneu+4KBxUjBleavDCQble3gdsV/BRfJ7PdMd2N1cLTCbfJeZkf+FMGnbOn3CWYNQaGthumtZ7iT9rb+57XzMBc8jVyJaNh+1M6idpjL0+Tkc8HFj7c7x2L8Wi+buT65s50jFUXg1mx3WOUQ5Yz8WY+97UssMhfN03HOQ2lEjsRScnNmlEFLhu2mH/SMCz7+3JngElCRDgxadvdonohJjyGggXW/Sa+Z/Fu1rLY5/FQEKVHJxOh2n4ibB1s0xFrq95Ox/f3/qRnQhthCPjo3xXiiNbG9mZfK/jk1xMc8h+ZRiILkdDyvAn9tXrLBcr25p7rTF5v/It+x73muUk1yD75LU2/OrBpXPr8jbNi9Oq4ljwPZNr8bF6TXOSabDGT/tH9fibMaaxqxjm/HIu94YDJVo/25b3ecNgkvSw0MKpItPDQgW9SlhfL+KO/gvoXLC+UdTmn9ggH3eKu8epsc/eMy++cRGX7VY+uZ7EWvOh95Xv/TDUd1Y1p92f5EXdSSmh88kw8i04MzGW7zgXWSNKsKx0sMKUXi+44m8mEjtjG6+LnvPftJR9zX+LhbGXR6mpLlv+xty2OJvNG7gL115bP+yTmkr93a5rR8dzH96nch040HHH9xSLzynVjdwNxGu6lvSTFrvvqRgXepr7tnHuDYdCqhkQ5+NMP4RGQTfnnlRKTC+kXFg2uHlR3CBug+FynN9yG4I1LWY5oY+GypUC7BiZG89LKtDqgwpVDQDmvgp3p5E2IdXG+Fb+6GAs/NFpg/06LRSuW2zcMDy2jn0z7zuYNP81390vxzHK67NP/yP+mIcHcaTxT9/n2i8x5vx47motp3XO+bwLL+XOaUrhIc01fUX9zH3H/ZkW09qjuPIaIZ8qJlOPKvbm66kYF3pa+C4x7g8HA06avCWJyRhNTLmmNOW95DQSjW+5NgPPPnJxy3XqNUs0fTcqkHo7/PDBUGLKYx+LfIGfGr/Nz+rRBp16lLg9/1mxcM59ERcs+rssVpWHNL/J+pWYKDaPJ7Oh/I/5Hueo8bQquLt8J3youFsM299lOck1SLaz2J+KdxJLwXin7x2+rtPPlXxSnp6L8S4tbw+H2jDbYwr/uZ2mf9dgGBVqSZBuSvOCCsmnAhgPLyJ7crLeEdxsT0wmiycfpgsxZsVT8PlmqZpJ95+LtqzrwTvkQ/Sh/mxY/kJNXz/jIl27ElPIb8HamtwYIz9XX/Db7CiNqfju861sqvyknNy8nuGf1M9T8T6T6zu4TDBTXtO7pQWG9Hc3lYPElx6A9+lpFVvO0eadA4OQApfX1rSGzYBPrgQsaRT9x608uGUxOEJTAlvxOIJqzB5D+9yu49gYgzuJuz3LeFf7VXMhWw6ft0/NWTV7H2Nv9gWDEmKJI/XVB6u31ZvqLXw47lc8TNanmPx1Pse1QNuA8vzSZ8fBkF/HZ+W3a9pj5s+7vn2un/LZ4d+pnxb/g/F631Z/d3LtdbH92fv1ObV9a1WPT8Xocsn1uqtli0O0tjkcpJnUHz4v9nTNiexrMjz4BzwmuH+n9qUTOA9UAvav1rdt3j4Z3BC7/y50+XG6r7V4qTmwKNp3atBpGz62mz5TkiWOntxiK+CRv6hq8dj9MhBa3J5v48vmtPlLbV/Lx7yoruPJ6clgSvzUATHiwOrH8+d1YfUlv1GMbM/0Nuf3uhq4jj9r2+LX+HxjLNe5vKvBSTE4rn1tWF+/l+vbObKYDSbfkJf1+N/qiYZXq2eda6sJ4Wp/OGxP29yROMQr+IEGoAFo4M/XAIYDhp79X2qAD/ABDUAD2z9IQywQCzQADUAD/5QGcOcAwf9TgsfjjD//cQZy9GfkCMMBwwHDARqABqCBoAEMB4giiAIntz/j5IY8IA//pQYwHDAcMBygAWgAGggawHCAKIIo/svTCnzjtAwN/BkawHDAcMBwgAagAWggaADDAaIIosDJ7c84uSEPyMN/qQEMBwwHDAdoABqABoIG2nB4eXk58A8cQAPQADQADRQNYDhgKOJQAA1AA9BA0ACGA0QRRIGTI06O0AA0gOGA4YDhAA1AA9BA0ACGA0QRRIFTI06N0AA0gOGA4YDhAA1AA9BA0ACGA0QRRIFTI06N0AA0gOGA4YDhAA1AA9BA0ACGA0QRRIFTI06N0AA0gOGA4YDhAA1AA9BA0MD+cPj1efxcLsel/vv5/OWM/To+f/r65efz+KUI//X50669XL6Od7V2zynlOrvvx9cMwwrj+9dTMBj8xsfP8flrfoJ5/1KcB15dTr7ebc4c3q9368vaLn5sPJZ7u2YwvTDv3r7dY32P1xaYvK4cxqBbw3fUpcHoNP3yYmMJtituqZmAf+F7zMEuV+t9Bl/Qj7/e1s/F6+lOvCaWR3PtdbH92WKOObYc2Zr5s/Q059fiKNrbHA6WIBF7J8oWiaw38ZgikGYWibu6GMhut0Pgg6gEdMWgBF0S2TDUJtILmPe3z+SrN8C5L/F55SvF0H28OHyeH072GD8JteHlHHm87XNtdA0vFXq3vfI9i1UKptu+khdVyFNMah/HyznsGK/Lqec38900Hgag853mtuf6KXoKfDjenb7mMdQaH+mp4m9cX4n3qVyveBiuu5oJObZ8egyeT7/+O/U0921xSK3vDQcS0eXwhdDuDmpjDZ/rScQ2BxkkvTAkmOtefeIKwFKQA7uuEMgXxc0N0CeyrNN3tRhsIl+OFy/+ocBy4jOswUdo2NZW2K/wpPEVDurwzPBSg5fhWmzJ+4At456/CwOg+Pz6oju2sBbsWnyBo4xzhWlnf+FMGljOn+gnwag1lMRi7Om9hNPaM3vLemIv4LmWr+l+Gw/7mtRP0hh1fcTDgbU/x2v3Uiyav4QbY0/vTbi+mcdg1/YEb9fE1HIqB6znYsx9b2p5oJP7hoPchhKJvei4SV9aI7IkMknSpOzaojkYEO4UuBJFidE3u0R0Op5AuPKfNle1ru3svU/E8/JyLGOQHMgwE4yJsHUDMoUtcetr3r+Onx/9KFCENspRlo/yXSmObG1kZ/K9jk9inuaQ/cowEF2OhtQqp7NcrGxr7jM9rHxn19z3XZaTXIPsp9bt8M7B5W2al9pkRauSS/X6TK53eUtzkmmwxk37R/WosIn/Z2JMY1cxzH1zLveGAyVaHgfp17xhMEl6WFThiJ2JKIS49WsRd/RfQPdmoAXrG0VtvIkN8j0SN4kjPn9fx6tjyd5z8fnGRVy2gkyua/HoO7uXw9wFNFEozmouur9a/FXcXuh8Mox8C+5MjOU7zkXWiBIsLc7BWsEatKMwpdcLrknOGoc5PuaiXC+nQB2fsp/mibGXR62pLhe+hd/Hv+a8jeuHMVNTqb/bde1oPu7D+1SuU33o2O17isXnlOom00G9tuXT1aPy/VSMzf8tWrb494ZDASaNnYTxdXzRD6ExgAbck5qQk4vLBjguihvEbTBcjq/33IZgTYu54eAiuA+Dxnr9cKBCVc2Sua/CLSJRa8yjw9uEVBvne/mjg7HwyV+SV/brtFC4bv4fxNUOppafrtmeI45jnNdFnKQfh1P5Ix4aZp1bfj/ir+emaDJeN66Be/Y6LVQcJcacH89dHYqJHiTeu/A+les93iifHh/FldcI4VX5N/WodCL83Hs3+Ux+S4z7w8GAk9OSJYnJ8BOTRWVOXdKUPPHGxyqBWSFzXLm4E3tZoum7UYFYG/Pk2L1NEEOMeexjHwv8xLHNz0qM+d1Gx5EVC+fcN8yCRX+Xxdrtrrmpe6/ERLGpYiU/mQ2VkzHfJYY8Ry3+RUOLz+UtB3Pfdm/zqWK/7rssJxN8GW9PxTuJpWC+0/cOV9fp50o+KW/PxTjX08L39nCoDbOdRP1ned5d7iqShk9Bqttq/3knUXFPBq4kSDeleUGF5FMBZKe3zNf894AY7zyWsj8mk/3mp8mFGLPiKfh8s1TNpfsf49WDl/PoBlAr3HI3Ev/p66/m6EpMIb8lttbkxhhZwwt+mx2VVxXffb6VTZWfq/maXpvhn9TPU/E+k+s7uEwwU16THpf/5qQ5fiZG7afj7fW88D3QyeadAzv3xd6algyL0Axq4yCSfaPYb+LDonDJSwuyAXcE1Zg9hva5XVfJdr5Wz+CHMXu7+rNqLnS996n3yjBRzZ7wq8dCXRwFgxNQ6qvnxNvqTZX5COsuNovfcT/d28VtbfD3U0zers9x/WG8DSjPL312HAz5dXxWfvvhyGPmz7u+M+wP/87h36mfFv+D8XrfVl93cu11sf3Z+/U5tVolbQ71En+EfyhGl0vfn+b8Whyis83hILdxvcHrJsog+1ofIupUScHLnl6AEsitr9a38id3MypZ8luCxNeFLj9OS3zqVV1vfT0Og8E+4cknuFxHgmxD2cfE4ha8vXFVMRhf8Y5pjJeLpNlt/keP4+ZFZfAvC3eGKfFTB0SL1Z36xhjVMGr4rL7ktDiyPdNbwbzyfR0veYGvbNgYND7fGIt9l3dVG+THca3rawev1bKOJfHt8rjiesXDeN1iNph8Q17Wo6/Xx2K0ufS9YOU76md/OCyLNhofE4694AYagAaggT9ZAxgOGHr2f6kBPsAHNAANbP8gDbFALNAANAAN/FMawJ0DBP9PCf5Pvo1HbHjM9CdpAMMBwwHDARqABqCBoAEMB4giiOJPOr0gFpymoYH/RgMYDhgOGA7QADQADQQNYDhAFEEUOKn9Nyc18A7e/yQNYDhgOGA4QAPQADQQNIDhAFEEUfxJpxfEgtM0NPDfaADDAcMBwwEagAaggaCBNhxOp9OBf+AAGoAGoAFooGgAwwFDEYcCaAAagAaCBjAcIIogCpwccXKEBqABDAcMBwwHaAAagAaCBjAcIIogCpwacWqEBqABDAcMBwwHaAAagAaCBjAcIIogCpwacWqEBqABDAcMBwwHaAAagAaCBjAcIIogCpwacWqEBqABDAcMBwwHaAAagAaCBvaHw+vH8X25HJf67/vj1Rl7PT6++/rl++N4zQh/O7ON0Xp2zeS714/vFtPlcj7eJntPp7fjPMOwxCinCcYaOZD1O16FH4rz+/h4ndt6OyvOA36Xk/ObzZnDe36zvqzt4sfGY7m3a/bkybx7+3aP9T1eW2Dy+XcYQ84M31E/BmPQrI0l2HZ6C/gXvscc7HK13mfwBf346239XLye7sRrYnk0114X258t5phjy5GtmT9LT3N+LY6ivc3hYAmKA8IWiaxPxROSH4NbFgcVV08AgR/arRiUoEsiW7JrE+kFzPv75x6fkNyu3RZat5FioxhUk3X4/DUcxxg/CbXh5Ry1mCve9vnE6x1vwd9tr3yfJrFKwXTbCx4mfE4xhes4hx2jyynF3Pn2+vH8Zr67xp3t2iib7zS3Y9+e76d8djnz+K3PWuMjPd2J96lcB13s6s/VTMU40rHH4Pn0679TT3PfOR97w4FEdDl8IbS7g9powmfXXKRJ0PAYNvE8UCvUsscnrnxXCrQXnLnGFQKtUdzcAH0iyzp914qhxlWu+T4f5281WG4Wn8VqxdIxjsQY9is8J3rvuCgcVN4zvNTgJS+Ec3D3l3Lvh0vFVnyez3THNsJh8jTjcoEp2En2F86kYef8CWeJvrSGBrZbjei9hMnam/u2ugi4Zhxtr9l42MekfpLGaOrjLrxJLNrenVzfzJ+OofJqMDuu85zKAeu5GHPfm1p2OISv+4aDNH8isRdde3wjjUYa7eVynD/q4ym1JsFc9+pPar2ZSvEbeyVG7zMRnb4mEE5NsRCeJHpAsLY3f5/bjDH0xkFClRwIx4IxEbYeGKnI9TVv5+P7Wz+yE6F1/xZPlo/yXSmObG1kZ/K9jk/4nuaQ/XY9zOMgToQ/sa9eZ7kQzQ8H4DTOehCZ+LZcTzhS8c6vybjINch2eK0Nv/SAoOK6E+8zuZ7z0jGkesg0WDmf1mOSl2diTGNXMcx9Mwd7w4ESrZ9ty/u8YTBJaljI9eUULu/vLoQi7ui/gO7NoCdailevEUGJDRJPJu4iDLqTmBWR9nnNe7bpmwtx6e9eVJL5cU7Nh95XYg0cK85qHrq/Wvx12Hihs5/ItxRaJsbyHfOdNaJruKl7V5g0L+294Iq/mUjsncMcH3NRrpdToI5d2df8N/+Mvdwta+3t+m77mj3t+573SgvK9rh+2BfXDOuta0fHcR/ep3KtcO7wSrH4nFLdZDqoHNDwSOpR+X4qxub/Fi3rPG7/5nDqTZ1+KD0fZ/ohNAbQgDdSpXgqof/ZcPAYLsf5LS8QGWC2mMteEQVjsuuW2B3x2T1s0xdcKtAqNCpUNQCY+xrjTiNtQqqN863c1QnGiIf8tbz2dfbrtFDy3GLjhuGxWfzd3vD7HUyqCCWP3S/HMc7bIk7SrsOp/BEPDXPEM+KP8S58Kz9Dfq7aU/xFLCXGnB/PXa3rRA8S3114n8p1zI3ErF/T2qO48hohvCr/ph6z3DwV40JPC9+Fh707hwDMNfy6zmTo3yZORz+V1Wmq/looP4ntJU7uBHrhl+uubNpZoum7WCAl8d3XlX4CfxnG3Oa4wLLkKxvU+J2IV4JIm2+PNSsWzrlvMiUO/V0Wa7erC3L6/kpMFJsqVrKd2VD5GfO9oa8dfm8YvlNOVOzX7ctyovTj7Wa8PRXvJJYS252+d7i6Tj9X8kn8PhfjXVreHg6UiEt/TOE/y/Pu0vj9SYJElQ2G8p1rXl6Q088ZsSVBuinNG1BIfo21DwG5nhPf/gpLDziPdxqz2MtfYzIZY4ynXL8QY1Y8BZ9vlire7j/j9nSUdX2qpP1ZDkUfmqf6Xl+/U6Bmz5WYQn4L1tbkxhhZwwt+mx2VSxXffb6VTZUfw8Xd32f4J/XzVLzP5PoOLhPMlNe05hcYVvWa+NID8D49rWLLOdq8c2Ah+ebYmtawGSTNX/ZOmtR2EThCUwJbETmCahweQ/vcrsuIywor23fld6q5EAcOn+eFmrPikfCrZt2bfYnDxZz66oPV2+pNlTGF9Slfjvvp3jlnU0zers9xLdA2oDy/9NlxMOTX8Vn57Ycjj5k/7/r2uX7KZ4d/p35a/A/G631bfd3JtdfF9mfv1+fUanVVj0/F6HLJ9bqrZYtDtLY5HOQ2rt8B6CbKiexrfYg8eTjoOxY6mVp/PhnyDFri60LnU7F8b15VcxDSQqPdFluehG5XTrbCZU9u2RPwnHzcdr/E2fD4Ew8JSnzpx2Ycp82rts1F0uyqOwTNacc1L6q+b4MfaUri02BK/NQB0WI1+yunYiu566SCb+tWX3L3NrI901vLZ7Ot+d3h4TF7bI41Pt8Yiz+Xd18bjmuvBesr4n0m19dpTHNrMRtMviEv69HXq+Y74ddp9V49zfnVmPn9/nB4ZAOELftfKoMP8AENQAN/mAYwHP6whNx+womTH7bACTQADdyqAQwHDAec2KABaAAaCBrAcIAogihuPWngOpxSoYH/HQ1gOGA4YDhAA9AANBA0gOEAUQRR4PT3v3P6Qy6Ry1s1gOGA4YDhAA1AA9BA0ACGA0QRRHHrSQPX4ZQKDfzvaADDAcMBwwEagAaggaABDAeIIogCp7//ndMfcolc3qoBDAcMBwwHaAAagAaCBtpweHl5OfAPHEAD0AA0AA0UDWA4YCjiUAANQAPQQNAAhgNEEUSBkyNOjtAANIDhgOGA4QANQAPQQNAAhgNEEUSBUyNOjdAANIDhgOGA4QANQAPQQNAAhgNEEUSBUyNOjdAANIDhgOGA4QANQAPQQNAAhgNEEUSBUyNOjdAANIDhgOGA4QANQAPQQNDA/nD49Xn8XC7Hpf77+fzljP06Pn/6+uXn8/ilCH//UmvVxtf7/dP51+dPi+ly+Trelc94+nk/vmYYFhgjhp/j89f9GEyc718Kz9q+jcnjdzn5erc5c3h9Pqztkj8bj+XerhlML8y7t2/37PK4wOTz7zAG3Rq+PX8vh8HoNP3yYmMJtituqZmAf+H7Nn52eeR9Bt+V9XPxeroTr4nl0Vx7XWx/XvQMZ8fWzJ+lpzm/UTebw8ESJGLvxWCLRNa7ePLrQ7E4opfFQcXVE0Dgg6gEdI1BCboksmGoTaTHxPvt5+5rGdu1WMp+ikE1WYfP++Rk95g8fhJqw8s58njb59rodvF63y+TWKVgum3JyfWvU0yBc85hx+hySjF3vj1/HmPm22u8Y3S+09yOfftcP+Wzy5nHb33WGh/pqQ6GxvWVeJ/KddDFru5czSwOOR6D59Ov/049zX3nfOwNBxLR5fCF0O4OamMNn+UkIutNWHkwVoyrPT5xZX8pyF5wxp4rBFqjuLi5+kSWdfpOYi57h4NnFeveuhVLuYYx9oZj7YT9Ck8YNKVACgcVQ4ZXr9P1Q7wZ94NYi8+vL7pjG+EweZoVMuFz+VWYgp1kf+FMGljOn9hPMGoNDWy3GtF7CZO1N/dt8xxwzTjaXrPxsI9J/SSN0dTHXXiTWLS9O7m+mT8dQ+XVYHZc5zmVw9tzMea+N7XscAhf9w0Haf5EYi86btKX1oj4VGkfK93dKBKxSjOV4heQ9Fpi9M0uEZ2+xhD+/nX8/OhHWEL8owo5Ec/Ly2FicEkkoUoOZJgJxkTYemCkItfXXI3Xncop1vJdKY5s7QbedHzCxTSH7LfrYR4HcSL8iX31OsuFaH6o62mc9SAy8a11+Zj3GRe5Btkfr7XhVw8unVuXzzvxPpPrXf5SPWQarBqZ1qPSkfh/JsY0dhXD3Dfncm84UKJtc+dHR3mDZJL6sJDP7XHTQ35zKOKO/gvoXLC+UdTGm9ig5Dlx+8TzwIv+JfHXv3Lx+eZCfuXuRSW32Sex1tzofeX70GwUZzWn3V8t/jpsrsVL+52/8h3nImtErplk2Px3K0x+P30WXPE3k8hhnk/molwvp0Adu7Kv+W+xMPai/VSXLX+57xZjs6d93/NeaUHZHtcP+6KmMq3f+/A+lWuFc4dXisXnlOom00HNRcunftJi8/RUjM1/rqe5bxvn3nAopJoB8XV80Q/MMYDmXJEqgmqNSACoPTvJsntuELfBcDm+3nMbgjUtZiUwwnUXBp2M64cD+VcNmbmvwi0cqzXmzuGVPFCx/xyf7+WPDsbCH+Flv04LhevmnxtGy7/i0OZU85G838Gkbdd8d78cxzivizjJnsOp/BEPDXOMf8Rfz03RZLzuKo5UPPPrnBbqdSXGnB/PXR2KE/3fhfepXO9xTPn0+CiuvEYIr8q/qccsL0/FeJ+Wi3b2h4MBJ6clSxKTMZ6YTaxEinrsZGzvJS6/jee4cnEndrNE19h2bKTiuQlLiS2PfVxgWfKVDWr8Nj/6sVLLhY43t691XAAAHrFJREFUbb6dtwwv59w3zBKH/i6LtdtNY9FxyfsrMVFsqljJT2ZD7C8e441y1OJfFDvfbbqcbPu+gS9lu8XYvstyovTT9lW/GW9PxTuJpcR2p+/IR+T3Ov1cySfx+1yM495RsC58bw+H2jDbSdR/lufd5QTqJ20NQv8ZJDeUbG9M0DiJGbiSIN2U5vZC8qkAstNb5osfS+0MkTEGG19MJvvNT5MLMWbFU/D5ZqmaQPe/h5f2Z3caoo/6+EE/TryLrysxhfwWrK3JjTGyhhf8Njsqhyq++3wrmyo/uzra25fhn9TPU/E+k+s7uEwwU15Djys+FhhW64kvPQDv09MqtpyjzTsHFpIu8vK+Na1hM+BTEgELjWK/iQ/F7ghNCWzF5QiqMXsM7XO7joljDOrU53wPY3R2pvtUc6F9Cx/UnFWz9zH2Zl8wuGaQ+uo58bZ6Ux3wMcXpuJ/uzYUqvE0xebs+x7VA24Dy/NJnx8GQX8enHIJa4/CY+fOub8H71FeHf6d+WvwPxut9W/3dybXXxfZn79fn1Gp1VY9Pxehy6X8Tnfu2OERzm8NBbuP6j9K6iXIi+1ofIr2Z2j29ACWQW1+t3e6v2POEyG8JEl8Xuvw4nWAIzUH2PA6DwU5Jzn0EPPIYpA1eHxOLW/CGuzrjSw37WjyWW22bi6TZbf7nz6u1Zgzm7WItIp5hSoq3DogWa2veXBBjjLxOBd/wWX3JaXFke6a3ps9mW/ObF+vtnI3tWfwan2+MxYbLu6oNis1xretrB+8zub6dO4vZYPINeVmPvs9ovhN+nVbv1dOc36iR/eFwVQFHR7cnB7bAHTQADUADv1sDGA4YevZ/qQE+wAc0AA1s/yANsUAs0AA0AA38UxrAnQME/08J/nffmsMfHgf9rRrAcMBwwHCABqABaCBoAMMBogii+FtPOogbp3Ro4HEawHDAcMBwgAagAWggaADDAaIIosDp63GnL3AJLv9WDWA4YDhgOEAD0AA0EDSA4QBRBFH8rScdxI1TOjTwOA1gOGA4YDhAA9AANBA00IbD6XQ68A8cQAPQADQADRQNYDhgKOJQAA1AA9BA0ACGA0QRRIGTI06O0AA0gOGA4YDhAA1AA9BA0ACGA0QRRIFTI06N0AA0gOGA4YDhAA1AA9BA0ACGA0QRRIFTI06N0AA0gOGA4YDhAA1AA9BA0ACGA0QRRIFTI06N0AA0gOGA4YDhAA1AA9BA0MD+cHj9OL4vl+NS/31/vFpjbv38Zifv27lfKzb8nltOK68f3y2my+V8vE2T/HacZxhOdt3HFzF8Hx+vFuctGMw1b2eFZ23fxuTxvx4f34r389udObPxWO7tmsFUefV82j27PC4wqfzb+BQPSid2j+evx0T7PH8nF4uyy9isni7fH8crxeevU7EFHz2G2/iaX7+LP8UTYh3hrTEYbUeubSyXw+rFchb6j6vdzvUc/5pTiyn6tfbn9Xg65usWY+xn81gsf7oe7XXSf8vrDM/mcMiNd8P5ek/uat0SvE6YFlsXGZHTCtDbrDEoQZdEeQztMw07T3D3tR2jalbLa7xPKqaxTxZDX/f4SYgNLwvP4tP4ed3mrNv2sXvfp0msUhDdts/N/ucppiXXrAHhgDGoHBP/ETPvuxyXxiXHS7EovVn+a6Gra2zsDjPxp2JZYnHX37Lf5czG7+17PE5PMihHeB2+4Mutn0wteN+cx64nv16bsIrF63fvs8fo/VqOWCddPx7jXC815oWeRLsnf+Dy/Lncerw+Vr9ePu8NB3Kki6M2WgHi1tmxajyUaH29JTULbP2dT1yxWeIaFFhGlm4GYd3ZL3sF7y2FuHFNbB4cQy8Cy1vYr/HQe8dFwVgxeOES32qdinOI13FD2AaxFpvnM92xjXCsc11xLzCt7NjizDBwgbYCJH/lVH8+zuXOVzebLBad46AnmzsbK9dT86vtPO19hn9SP74ZnU4HaUg4WeDNtSr6zGJRfCVcG3sL35ZrZXfFbWLXYHbXm5jKGsUtw4JzbGtA8Z1gNHEvYon1rGy7ODkuf2cWeblvOITbaHZAgeomTcDUrfNlHZghxoOjzxnZE5GVGHyzmyXEr72dj+9v/QhLhB1JXceeXZPHHgSnuGCeRXy1WAVjIiZ9GktFrq+5Gm+Wj/JdiS9byzhYfKfjEx58nuR7/xr2Md+2WN2J8/Xj+KiPR30eYjHa2P3+mSZWtmbX3r6W5STXIPvgtT4g7d5r8BZ7BnPIjeUyYrSxX+s72sv9mRhFT5kG6xrtVz0xvV7slFeFe7U3Xdex0HvVk/Sa9nlyGndrmpu94UAgbHPn51YqGHJSBaQHgwhBPeuXZ16+MHVg6/dFIN6/O/kZ4CwofTojUQUbvM8/j/OJ58co0f867lyIp3pb7jkhv3I6M3iqHRJBzY3eV76XQdGuU5zVnHZ/kjseNtfizcRbvmO+mdPua8TB4vsVpoYz2skaSMAoOtc8Vpv+err2/MZNTrSt+C77C3bWWJKfFuuDuGn2IvZck0oL6lqJO7+mNpaKV+dTrlvibXpVtUO8n4834Z/sq/UWn2jU3sVt+2529jiSHBsuJNaRrYbPxmhs1GuJq6o18cWarHpRepJ1Y8fHovlT18ZrMm4jJ3vDoYDRjuU2OzTW6kD2VuAimCYmITApQgNklAD6/gZxS1xN3LkNiUEnT77Tr6t1vXf9noXfOKrYU1HUNfKvRMDCqncSO41U8iDF+Fb+6KDfifiYR3jZrxNc4brF9qAGuIMp1czYP2GqeijD9K38gUOiS4+dMatHp3Iiq5jFbs9nbWzeNuVgzLnPweM+59ovcesDVPfHHPY1i2cbb8uPyonUZdPL6Vgdvoj/a7luvmMj7Dj7Gvnw+aJY83wRBwoDa2SyV9XaSk+rWIIv0pWrSTmoqxgz3PLd/nAwxMoEZ+BRGJz4+Gu7Gx6bQUqw9lWJq8XGcXUB90Tba3UcefJo/6Jw04S1WBa+w748duLWC5SuXeDPYidhR8E0bso1k5xkeFmU3mbBor/LYr2WH2kYLl8rTIWrjIvAP8dT+M704/OQcaEfE6R2kji83ZaLQXyPW89ykmtwWAuK+128Ov6GPW24k1gKN3f61nGM3lOOfT0kOeTr9/kk3GowlOtXeprHknPV+G1ayveN8O8NB0rEpTcO/5kIU+vmMwd0UXcZBLSc1tKmt9s0MqAlQbopzW1pwvX7RlYTQuZr9ghr7rfZb0nrjclywn776VPbXYhRFU/zV/B4sasYupj28GYiJ1+iDzmRq9es8bb4VCzpdzdgKnY6Ls1f9j7jdJCbjEsVH+nJ67vpSXyP/aX4V/xctZ7leFI/IXbboOd4M186L5lfdc1dvoXrG14TvylO4j3LpcJAe/hzWoPFl69NpafsgNNj8X4GmtX2NrSyNxzkz9RUkZdn8r1pMTHyW4K8SiMgEO5aPSxuLgSXPPLjCW4kuOQRURGDx2QxqFOr830zhhafLTayt/BBTU/hZZ57jLYpOgF5oZCvPli9LS/OsK5xhPeO+7C+X7hTTKldh1vt8XrxfOqcWr8l3mjXXu8x834z/H0OVGza99PeO315PqxfxiP1IPg7ngVe58s/Ngq+jR49157Lhe+befV+vR+rW5v/ejeg7hD8uuXX+6rDs9W3X7exhHo0/NU4fQ4WvGwOB2lc/Ufp3kSFIA7WDwYhgIOX63sTkvVbX63d3hiLvSC4OhBGMdrfVeLjBevrcRgMdkpgzlPAI6fiNnh9TLWIZD09yYovPSg5p2O8NtfCZ3ntzUN0UV6tkA3ehUDj3hmmzE/2XY+NClb4UYXs/dI+z58/NLVCFvuOJ3/9lcXqY3rEZ5tjXT++GfU8tnxfidf68lqVZip69OsLLqvGWmye66t1lufQ6DvJn9WTwuB6T4vTHLKdthf8mlik3zUtD+o52BSc8XV/ONxMbnT6CFHDBniFBqABaOB5GsBwwNCz/0sN8AE+oAFoYPu/kIZYIBZoABqABv4pDeDOAYL/pwSPxxDPewwBbv+3uMVwwHDAcIAGoAFoIGgAwwGiCKLACfB/6wSIfCKft2gAwwHDAcMBGoAGoIGgAQwHiCKI4pZTBq7B6RQa+N/SAIYDhgOGAzQADUADQQMYDhBFEAVOgP9bJ0DkE/m8RQMYDhgOGA7QADQADQQNtOHw8vJy4B84gAagAWgAGigawHDAUMShABqABqCBoAEMB4giiAInR5wcoQFoAMMBwwHDARqABqCBoAEMB4giiAKnRpwaoQFoAMMBwwHDARqABqCBoAEMB4giiAKnRpwaoQFoAMMBwwHDARqABqCBoAEMB4giiAKnRpwaoQFoAMMBwwHDARqABqCBoIH94fDr8/i5XI5L/ffz+csac+tf74PJ+/7FNn4+j18PSMivz58W0+XydbxPbb4fXzMML3Z9iOHl1/H5czkCB1PfAz78NcIPxflzfP6aX/f+1XMS8XOckrPL1/tVObO2ix8bj+XertmTJ/M65nOO0dpaYFJ82vhynuyesX5on+ev6qDxG/Rn9XRpmncYlCZDjhQey8M1nI337uJn3w5P4MOtN7zVv9F25NrGcjmsXixnsfYWvm/m0dqNfi23tmYixvm6xRjreR6L5U/Xo72u63XewzaHQ268E5Wv2+QWEtU+L5xbkkdi6wkgcoZ2q28l6JIoj6F9pmGnCe4ikCS0vbfEnl3jfTp8vjlwHGP8JMSGl4XXYq7DvH2uja7nrPDVba98v0xilYLotjuX3u7q8xRTxqn5jjUgmJk/lWPiJGKWfPvGTbEovdG+9rkWeuP/5bCxOw6IPxWLidvtfdSay5mN3/v0eJyeZFCO8Dp8wZdbfzG14H1zHrue/PqC623+PEbv13LEOun68RjneqkxN/28HPb6RSyeP5dbX1c+Vr9ePu8NB3J0OXpxMEntJOTW2bFuvEwikSOnJEVCFtj6O09W8VHiGhRYRpZuBmE9s/9ykGh/vo6vJ9w5xObBMfQisGIM+zUeU1z1uoKx8m6FF9cZ5+juLuNmEGvx+fVFd2wjHOtc1/gWmFZ2bHFmGLhAZXhwgyp3HF/HV7lDU43PNi+bF4oj6CnZ05oU11Pz276fXXPvWoZ/Uj/1YKdzSBoSThZ4c61KrWaxKHxJ3o29he+VLobriV2D2eXJxFTWdD0m/Jl+lWA0cS1iifU8ySX58ndmiu+K677hMDhZUqCuSfN3l+Prsz6euns4cEFpsb7MHvcUcr3PWULStSLiIuiFmJ1oTJKHa7nNIDh1PXM6OKkkYtINja6Vwhab+pr3r+PnRz+yk0KOImJ8WT7KdyW+bG1kZ/K9jk9iTvOU2Aj7mG+rH3fi/PV5fNbHoz4PxJ/Xk8T04uyo7zMtrGxl19z/XZaTXIPsi9f6gLR7PT+r+AzmkJskf4ZDG/u1vlexybqJUfxnGqxrtF/1xPR6sVNeFe7V3nRdx0LvVY3qNe3zCm3uDQcCoZ/ZynsVDAVQBeQGA5NQT15ia1JYkpz5axGI9+9OfoYUFpQ+nZGogg3eV57L6b0USyGcGqotjHmcK6HLOtv0zYpE4Zu4xkUiqPnQ+8r3gWPFWc1D9ye542FDfpXQ+bFR5FuwZ+It3zGHzGn3JZivfF1h0ry491kDCRhFm5rHasdfT9d+vfOtf3I3XPYX7KyxJD8tvgdx0+ztcqq0oK6VuCWv/lXj0fmU6/R6HyQqpqZXpSXi/et4F/6Hv7eJRu1d3LZvhdPjyj5Ljs2axDqy1fDZGI2Nei1xVbUmvliTVS+qfmXd2PGxaP7UtfEaxf0Ix/ZjpWJAO5bb7NBYqwhkLwGXhNYTrqyNgp8Ea0AOHiGJUOxeF1ct5q/3vEDkWp08vgWUUzpjCsNjO3ZVLO0atqkLrsSRiqJeQ/EpHllYNcadRqqFXHL5Xu7qBGOM0fLR19mvE1zJc4vtQQ1wB1Pjs8cnv3V5bgu/hEk19/fyBw67w8EdIHQ+xG73WevA26YcjDkXLT7+Ndd+iTvXNeewr1k823hbfpQmsp5AvDhNtWvt8/jrfWttjN+ntUex5vmiOJrma4yDeuKYux2uIcu9treKha/v9kaHOdqnYpzpau/OQSWFjVVhVOAxOZx4+rXdNCC545BXBSb4GCeNY1DiatdyXF3ACxuTRJMPVbgFoy/0bT8tvlk8eezErW8oZG+BX8XeBEB4xwVHgpoIJxMoi9LbLFj0d1msMy4Ga7dgKlxl1w1yUvjO8urzkHGhHxOkdpI4vN2Wq0F8j1vPcpJr0NdCi0HpaRdvu1YGc9F2WoeTWAo3d/rWcYzep400ySFfv88n5dwNjZWe5rHkXEVt5ftG+PeGAyXi0h9T+M9EmFrXn+W9nM7M6z3DIQNaEqSb0qDJ1MLThOv3jawmBE68/hOw9j5t3HO/zb5rAKNk9qGk7S7EqIqn+St4Js2/+8+4jY/sMpGTL9GHyTUfCLLG2+JzfITvb8BUbHRcmr/sfcYp7ws2Mi5VfGmxNz2J77G/gH3FzdXrWY5LPIP6CbHbBj3Hm/nSecn8qmvu8i1c3/Ca+E1xEvdZLhUG2sOf0xosvnxtKj1lB5wei/cz0Ky2t6GXveEgf6bmir03LSamNcy6L20EFKAaJBtBDgvFJY/I8gQ3+y55NQ6PwX9OMcx++G7+bhCjT57D53mghqXwEn51IrENzQko9dUbg7flxRnWp7gd99O9c96mmFK7Drfa4/Xi+dR8W78lxmjXXu8x837zyMrnQMWmfT/tvdOX58P6ZTy9HjyeBV7ni/Xk9Ka0bNc911f6vplX79djtFq1+Y+Plfy65df7qsOzceLXbSyhHonvzi/58jlY8LI5HOSUII+D9CMWIYiDlQHRRSTr9bU25TAlF4FaIrtNJkXisnciQeziezS8VustRp+oHs8ozu3vKYGCxyY34JFTcRvadr80MMmJaUwFi/EVc2q51bZtrpt99wy+Y7ZC7t/fwhtz33yaO7fMT/Zd90sF2/iz+tFx0j7jq9hwsbRCFvuOJ3/9lcWq43nUe5tjjT/TuMNzJV7rS+uJ+ZqvO9+ey/oXcbkuJB+3vFq/pq8l+bN6Uhhdb2lxXnTdXacnE4v8Ptm0rO0qfkPOxpzsD4fWGMfGHiVY2AHH0AA0AA38txrAcMDQs/9LDfABPqABaOCqP2WFYCAYaAAagAb+GQ3gzgFi/2fEjscU/+1jCvD/d/GP4YDhgOEADUAD0EDQAIYDRBFEgRPe33XCQ76Qr2doAMMBwwHDARqABqCBoAEMB4giiOIZpxDYxOkWGvi7NIDhgOGA4QANQAPQQNAAhgNEEUSBE97fdcJDvpCvZ2gAwwHDAcMBGoAGoIGggTYcTqfTgX/gABqABqABaKBoAMMBQxGHAmgAGoAGggYwHCCKIAqcHHFyhAagAQwHDAcMB2gAGoAGggYwHCCKIAqcGnFqhAagAQwHDAcMB2gAGoAGggYwHCCKIAqcGnFqhAagAQwHDAcMB2gAGoAGggYwHCCKIAqcGnFqhAagAQwHDAcMB2gAGoAGggb2h8Prx/F9uRyX+u/749Uac+vnNzt538792mLDr996Unn9+G4xXS7n422a5LfjPMNwsus+Ruvr+/h4tRhvxWCuezsrPGsflleP//X4+Fa8n9/uytnlYuPZ54N59Xwa3NO8aZ4XmJQdG5/iQenE7vH8db+0z/N3crEou4zN6uny/XG8Unz+OhVb8NFjuI2v+fW7+FM8IdYR3hqD0Xbk2sbie4TlLPQfV7ud6zn+NacWU/Rr7c/r8XTM1y3G2M/msVj+dK3a66SHl9cZns3hkBvvhvN1aQY2aCkEHbwleJ0wLbYuMvLTCtDbrDEqQZdEeQztMw07FSMJ23/uvrdjVs0rXJP6HPtgXvu6x09CbHhZeBafxs/rkrMTFVu37WP1vk/ET75fCqLb9rnZ/zzFNOOW1lgDwgFjUDkl/iMG3nc5Lo1LjpdiUXqz/NdCV9fY2B1mr68lFnf9Lftdzmz83r7H4/Qkg3KE1+ELvtz6ydSC98157Hry67UJq1i8fvc+e4zer+WIddL14zHO9VJjXuhJtMv1qQao58/l1uP1sfr18nlvOJAjXRy10QoQt86Oe+MhUtTdgnzuQC3JWaDxO5+4YqPEpYpdF0xGlm4GYd3a94me+tJ+r3gfmwfH0IvA8hT2azymuOp1BWPNWcRzOqjBS07L9fI+YLDccG4GsRaf5zPdsY1wxNxanG19gantC/GyPeKrYcowcIE2XZK/cpg5H+dy56ubTRaL9hv0NMBE13A9Nb/aztPeZ/gn9VNP5jqHpCHhZIE316rUahaL4ivh2thb+F7pYrie2DWYXW5MTGWN4pZhwTnW/JkekmA0cS1iifU8ySX5UoPF4RC/9w2HcBvNCaVAVZMm0pLhYIlSYhgEK0Hza0b2RGSF3NYYqq9ZQvwaJUfEXBvpAL+NcxdXHnsQnOKGeRbxnQ4jkERM+jRGe6Wwxaa+5u18fH/rR3YKu+w3r1k+ynclvmxtlxe1T8cnvn2e5Hv/GvYx316Dhu/Xj+OjPh41358c197X6bqTq8lbYus2PSneUptZTnINsn9e6wPS7vX8rGI2mENurov9Wt+r2GTdxCgcZhqsa7Rf9YT0erFTXhXu1d50XcdC71WN6jXt8wpt7g0HAiGPg/SrCoYCqAJSg4GJZiHqZ11dZCshjNaLTe/fnfwMKRyDPp2RqIKNHqveSzg0D37QGF+jmGffM3e+WZEofBPXvkgENSd6X/k+xKg4q1i6P8kdDxvyq4TOj40i37NCKjaYQ+a0+5rxMFlbYdK8uPdZAwkYJb+ax2rHXy95YRuVf8V32V+ws8aS/LT4HsRNszfhz+xRWlDfS9ySV/+q8eh8ynV6Pa3xplelJeL9fLwJ//S7oFpv8YlG7V3ctu9mZ48jybHhQGId2Wr4bIzGRr2WuKpaE18jPcm6seNj0fwpLcZrMm4jJ3vDoYDRjuU2OzTW6kD2SpHJZ/VjcGxcMTgDKiTjBnG7OM5vuQ3xG5J3RbMUG/uv1w8Hik+JgIVV7yR2GqkWcsnlW/mjg34n4mPXfOg19usEV7husT2oAe5gCjopuhr7J0yiy++P4638gYPoVtny2KWI9QFC50Ps9gZaG5u3TTkYc655fuz7XPslbo2p+2QO+5rFs423capyInXZ9CJ35k5T7Vp753a9771es9WQVUwUh8Jg6lHtK5xyzD3vKz2tYgm+SFeRP9qnYuz5jZzsDwcDTiY4g4vJ4cTzr+2ytweaETELMl9T4mqxsa8u4AjY2CJR9gSZtWKzFW5ul3D7Ym+xLHyHfdf6WOBvsas4CG/PQ4p3IpxMoJxLb7Ng0d9lsaq4AheDtVswmTwO7Cr/JaeZfnyuMy70Y4LUThK/txtyomJ77FqWk1yD5DeJ/Ra8GkPDntbhJJbCidLyLtfa9857yrGvh4wHytE+n4TbHcJWeprHknPV+G0ayveNuNgbDpSIS39M4T8TYWrdfGbS9J9BEtByWrursWZAiy/dlObNQBOu3zeymhAyX9c9V242W6JibKNk9tOnvmYhRlU8zXfB48Wu4un+x3h148xETr5EH3IiV6/6+haXimH63Q2Yir2OS/OXvc845X3BRsalio/05PXd9CS+x/6mPOzyNd2X5XhSPyF226DneDNfOi+ZX3XNXb6F6xteE78pTuI5y6XCQHv4c1qDxZevTaWnflDtOHos3g/vCZrV9qba4Ov3hoP8mZoqcvvfKjAx5jcF9Te03ET0bxX8Pm96HfyyQFzyiCxPcCPBJY+I0r/Yu/X6KEKaGdnW05587w+iJZYSp0+ew+dtEK8Kr4/RisMJKPXV8XhbXpxhvfGc5c9zm+3Z+26KKY3B4VZ7CIPiz/Op+bZ+S6zRrr3eY+b95kDkc6Bi076f9t7py/Nh/TIeqQfB3/Es8Dpf/jes4NvUl+fac7nwfTOv3q/3YzVr818ffame4dctv95XHZ5Nn37dxhLq0fBX4/Q5WPCyORykcfUGHxs7BysDoouIAyNi1HCJ11uiLXHjNSZF4rKPiILg6kAYxcjNWWzFxwvWlx4s4/h2cbR9lECJoTfrsh7wyKm48Wr3twKW9fQkK74iHotX27a5Fj7Lq88747JCblgX4sz31caQYsr8ZN/1fFldWv1o/7TP8+cPTa2Qxb7jyV9/ZbHqeB713uZY4/fNqGByeK7Ea31pPTFf83Xn23PpYwvrkpNrX61fo+8kf1ZPCqPrPbpmei902l7wa2KR/iB1of46VLRC/AabYz72h8NNhTx2LAHjFRxBA9AANPDnaQDDAUPP/i81wAf4gAagge3/QhpigVigAWgAGvinNIA7Bwj+nxI8Hl/8eY8vkJM/MycYDhgOGA7QADQADQQNYDhAFEEUOMn9mSc55AV5+Z0awHDAcMBwgAagAWggaADDAaIIovidpxP4wmkYGvgzNYDhgOGA4QANQAPQQNAAhgNEEUSBk9yfeZJDXpCX36mB/w9waurewj3MGwAAAABJRU5ErkJggg==)"
      ]
    },
    {
      "cell_type": "markdown",
      "metadata": {
        "id": "XmAMTRqH0CIH"
      },
      "source": [
        "### Modelo 5\n",
        "![image.png](data:image/png;base64,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)"
      ]
    },
    {
      "cell_type": "markdown",
      "metadata": {
        "id": "vPKcbt070IsB"
      },
      "source": [
        "### Modelo 6\n",
        "![image.png](data:image/png;base64,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)"
      ]
    },
    {
      "cell_type": "markdown",
      "metadata": {
        "id": "xYL9dzpn0fHE"
      },
      "source": [
        "Prediccion 1: A=0.785714, R=0.70833, P=0.894737, F1=0.790698\n",
        "\n",
        "Prediccion 2: A=0.785714, R=0.75, P=0.857143, F1=0.8\n",
        "\n",
        "Prediccion 3: A=0.785714, R=0.916667, P=0.758621, F1=0.830189\n",
        "\n",
        "Prediccion 4: A=0.809524, R=0.791667, P=0.863636, F1=0.826087\n",
        "\n",
        "Prediccion 5: A=0.785714, R=0.75, P=0.857143, F1=0.8\n",
        "\n",
        "Prediccion 6: A=0.785714, R=0.75, P=0.857143, F1=0.8"
      ]
    },
    {
      "cell_type": "markdown",
      "metadata": {
        "id": "nZ46r4_X2jez"
      },
      "source": [
        "## Predicciones para titanic_test"
      ]
    },
    {
      "cell_type": "markdown",
      "metadata": {
        "id": "iSmdoXy04PC0"
      },
      "source": [
        "### Data reading"
      ]
    },
    {
      "cell_type": "code",
      "metadata": {
        "id": "RhAg4kyR2-XZ"
      },
      "source": [
        "#cargando los datos\n",
        "data_train = pd.read_excel(\"/content/titanic_train.xlsx\")\n",
        "data_test = pd.read_excel(\"/content/titanic_test.xlsx\")"
      ],
      "execution_count": null,
      "outputs": []
    },
    {
      "cell_type": "code",
      "metadata": {
        "colab": {
          "base_uri": "https://localhost:8080/"
        },
        "id": "gV85Uim63is7",
        "outputId": "f3fba20f-a119-4d63-be2a-6ddd0052cb97"
      },
      "source": [
        "data_train.isnull().sum()"
      ],
      "execution_count": null,
      "outputs": [
        {
          "output_type": "execute_result",
          "data": {
            "text/plain": [
              "PassengerId      0\n",
              "Survived         0\n",
              "Pclass           0\n",
              "Name             0\n",
              "Sex              0\n",
              "Age            141\n",
              "SibSp            0\n",
              "Parch            0\n",
              "Ticket           0\n",
              "Fare             0\n",
              "Cabin          554\n",
              "Embarked         2\n",
              "dtype: int64"
            ]
          },
          "metadata": {},
          "execution_count": 76
        }
      ]
    },
    {
      "cell_type": "code",
      "metadata": {
        "colab": {
          "base_uri": "https://localhost:8080/"
        },
        "id": "sPCWCq983lH8",
        "outputId": "1805afdc-00fb-4f34-fe7c-664cec370af5"
      },
      "source": [
        "data_test.isnull().sum()"
      ],
      "execution_count": null,
      "outputs": [
        {
          "output_type": "execute_result",
          "data": {
            "text/plain": [
              "PassengerId      0\n",
              "Pclass           0\n",
              "Name             0\n",
              "Sex              0\n",
              "Age             86\n",
              "SibSp            0\n",
              "Parch            0\n",
              "Ticket           0\n",
              "Fare             1\n",
              "Cabin          327\n",
              "Embarked         0\n",
              "dtype: int64"
            ]
          },
          "metadata": {},
          "execution_count": 77
        }
      ]
    },
    {
      "cell_type": "code",
      "metadata": {
        "id": "9BzwPWKu3uts"
      },
      "source": [
        "data_test = data_test.dropna()\n",
        "data_train = data_train.dropna()"
      ],
      "execution_count": null,
      "outputs": []
    },
    {
      "cell_type": "code",
      "metadata": {
        "id": "ORWf4GTi3xzn"
      },
      "source": [
        "X_train = data_train.drop(labels = ['PassengerId', 'Survived', 'Name', 'Ticket', 'Cabin'], axis = 1)\n",
        "y_train = data_train['Survived']"
      ],
      "execution_count": null,
      "outputs": []
    },
    {
      "cell_type": "code",
      "metadata": {
        "id": "wvi5osbj30yV"
      },
      "source": [
        "X_test = data_train.drop(labels = ['PassengerId', 'Survived', 'Name', 'Ticket', 'Cabin'], axis = 1)"
      ],
      "execution_count": null,
      "outputs": []
    },
    {
      "cell_type": "code",
      "metadata": {
        "colab": {
          "base_uri": "https://localhost:8080/",
          "height": 204
        },
        "id": "9kCWwshs34V9",
        "outputId": "7bc1f451-2de0-4c6a-d98c-5bc7a93f2493"
      },
      "source": [
        "X_train.head()"
      ],
      "execution_count": null,
      "outputs": [
        {
          "output_type": "execute_result",
          "data": {
            "text/html": [
              "<div>\n",
              "<style scoped>\n",
              "    .dataframe tbody tr th:only-of-type {\n",
              "        vertical-align: middle;\n",
              "    }\n",
              "\n",
              "    .dataframe tbody tr th {\n",
              "        vertical-align: top;\n",
              "    }\n",
              "\n",
              "    .dataframe thead th {\n",
              "        text-align: right;\n",
              "    }\n",
              "</style>\n",
              "<table border=\"1\" class=\"dataframe\">\n",
              "  <thead>\n",
              "    <tr style=\"text-align: right;\">\n",
              "      <th></th>\n",
              "      <th>Pclass</th>\n",
              "      <th>Sex</th>\n",
              "      <th>Age</th>\n",
              "      <th>SibSp</th>\n",
              "      <th>Parch</th>\n",
              "      <th>Fare</th>\n",
              "      <th>Embarked</th>\n",
              "    </tr>\n",
              "  </thead>\n",
              "  <tbody>\n",
              "    <tr>\n",
              "      <th>2</th>\n",
              "      <td>3</td>\n",
              "      <td>male</td>\n",
              "      <td>6.0</td>\n",
              "      <td>0</td>\n",
              "      <td>1</td>\n",
              "      <td>12.4750</td>\n",
              "      <td>S</td>\n",
              "    </tr>\n",
              "    <tr>\n",
              "      <th>6</th>\n",
              "      <td>1</td>\n",
              "      <td>female</td>\n",
              "      <td>24.0</td>\n",
              "      <td>0</td>\n",
              "      <td>0</td>\n",
              "      <td>49.5042</td>\n",
              "      <td>C</td>\n",
              "    </tr>\n",
              "    <tr>\n",
              "      <th>9</th>\n",
              "      <td>1</td>\n",
              "      <td>female</td>\n",
              "      <td>21.0</td>\n",
              "      <td>2</td>\n",
              "      <td>2</td>\n",
              "      <td>262.3750</td>\n",
              "      <td>C</td>\n",
              "    </tr>\n",
              "    <tr>\n",
              "      <th>10</th>\n",
              "      <td>3</td>\n",
              "      <td>female</td>\n",
              "      <td>27.0</td>\n",
              "      <td>0</td>\n",
              "      <td>1</td>\n",
              "      <td>12.4750</td>\n",
              "      <td>S</td>\n",
              "    </tr>\n",
              "    <tr>\n",
              "      <th>13</th>\n",
              "      <td>1</td>\n",
              "      <td>male</td>\n",
              "      <td>39.0</td>\n",
              "      <td>0</td>\n",
              "      <td>0</td>\n",
              "      <td>0.0000</td>\n",
              "      <td>S</td>\n",
              "    </tr>\n",
              "  </tbody>\n",
              "</table>\n",
              "</div>"
            ],
            "text/plain": [
              "    Pclass     Sex   Age  SibSp  Parch      Fare Embarked\n",
              "2        3    male   6.0      0      1   12.4750        S\n",
              "6        1  female  24.0      0      0   49.5042        C\n",
              "9        1  female  21.0      2      2  262.3750        C\n",
              "10       3  female  27.0      0      1   12.4750        S\n",
              "13       1    male  39.0      0      0    0.0000        S"
            ]
          },
          "metadata": {},
          "execution_count": 81
        }
      ]
    },
    {
      "cell_type": "code",
      "metadata": {
        "colab": {
          "base_uri": "https://localhost:8080/"
        },
        "id": "zkzUxy3-36tC",
        "outputId": "a334f68e-77b6-4665-8c4c-38f77cc6f6ab"
      },
      "source": [
        "y_train"
      ],
      "execution_count": null,
      "outputs": [
        {
          "output_type": "execute_result",
          "data": {
            "text/plain": [
              "2      1\n",
              "6      1\n",
              "9      1\n",
              "10     1\n",
              "13     0\n",
              "      ..\n",
              "669    1\n",
              "676    1\n",
              "684    1\n",
              "696    1\n",
              "702    1\n",
              "Name: Survived, Length: 141, dtype: int64"
            ]
          },
          "metadata": {},
          "execution_count": 82
        }
      ]
    },
    {
      "cell_type": "code",
      "metadata": {
        "colab": {
          "base_uri": "https://localhost:8080/"
        },
        "id": "JwGTxOX939YE",
        "outputId": "f6009943-9adf-4384-af47-9b8150702ef8"
      },
      "source": [
        "X_train['Sex'] = label.fit_transform(X_train['Sex'])\n",
        "X_test['Sex'] = label.fit_transform(X_test['Sex'])\n",
        "dict_gen = {x:y for x,y in enumerate(label.classes_)}\n",
        "dict_gen"
      ],
      "execution_count": null,
      "outputs": [
        {
          "output_type": "execute_result",
          "data": {
            "text/plain": [
              "{0: 'female', 1: 'male'}"
            ]
          },
          "metadata": {},
          "execution_count": 83
        }
      ]
    },
    {
      "cell_type": "code",
      "metadata": {
        "id": "1AezdSPZ4DBV"
      },
      "source": [
        "X_train = pd.get_dummies(X_train, drop_first=True, columns=['Embarked'])\n",
        "X_test = pd.get_dummies(X_test, drop_first=True, columns=['Embarked'])"
      ],
      "execution_count": null,
      "outputs": []
    },
    {
      "cell_type": "code",
      "metadata": {
        "id": "IMQXnVCA4FOt"
      },
      "source": [
        "columns = X_test.columns"
      ],
      "execution_count": null,
      "outputs": []
    },
    {
      "cell_type": "code",
      "metadata": {
        "colab": {
          "base_uri": "https://localhost:8080/"
        },
        "id": "ApU4YOTR-jm2",
        "outputId": "5cba7076-fd6a-4c08-9227-3015e44cbd5c"
      },
      "source": [
        "columns"
      ],
      "execution_count": null,
      "outputs": [
        {
          "output_type": "execute_result",
          "data": {
            "text/plain": [
              "Index(['Pclass', 'Sex', 'Age', 'SibSp', 'Parch', 'Fare', 'Embarked_Q',\n",
              "       'Embarked_S'],\n",
              "      dtype='object')"
            ]
          },
          "metadata": {},
          "execution_count": 86
        }
      ]
    },
    {
      "cell_type": "code",
      "metadata": {
        "id": "A1tY_70I4HFI"
      },
      "source": [
        "from sklearn.preprocessing import StandardScaler\n",
        "scaler = StandardScaler()\n",
        "X_train = scaler.fit_transform(X_train)\n",
        "X_test = scaler.fit_transform(X_test)"
      ],
      "execution_count": null,
      "outputs": []
    },
    {
      "cell_type": "code",
      "metadata": {
        "colab": {
          "base_uri": "https://localhost:8080/"
        },
        "id": "E4jb91sw4KJQ",
        "outputId": "f3fbcd3c-bf48-4d3f-e71f-dd50884f8793"
      },
      "source": [
        "X_train.mean(axis=0).round(2),X_train.var(axis=0)"
      ],
      "execution_count": null,
      "outputs": [
        {
          "output_type": "execute_result",
          "data": {
            "text/plain": [
              "(array([ 0.,  0., -0., -0.,  0.,  0.,  0., -0.]),\n",
              " array([1., 1., 1., 1., 1., 1., 1., 1.]))"
            ]
          },
          "metadata": {},
          "execution_count": 88
        }
      ]
    },
    {
      "cell_type": "code",
      "metadata": {
        "colab": {
          "base_uri": "https://localhost:8080/"
        },
        "id": "rGnlAHSQ4MeN",
        "outputId": "0a23dfa5-2865-40b0-8173-19b1b1effe0f"
      },
      "source": [
        "X_test.mean(axis=0).round(2),X_test.var(axis=0)"
      ],
      "execution_count": null,
      "outputs": [
        {
          "output_type": "execute_result",
          "data": {
            "text/plain": [
              "(array([ 0.,  0., -0., -0.,  0.,  0.,  0., -0.]),\n",
              " array([1., 1., 1., 1., 1., 1., 1., 1.]))"
            ]
          },
          "metadata": {},
          "execution_count": 89
        }
      ]
    },
    {
      "cell_type": "markdown",
      "metadata": {
        "id": "7nueZ--C8ret"
      },
      "source": [
        "### Modelo mejor empeñado"
      ]
    },
    {
      "cell_type": "code",
      "metadata": {
        "colab": {
          "base_uri": "https://localhost:8080/"
        },
        "id": "fBPXbLAD85q5",
        "outputId": "c7ded506-3112-4e98-c1c9-885c44afcf88"
      },
      "source": [
        "from sklearn.ensemble import GradientBoostingClassifier\n",
        "model_gb = GradientBoostingClassifier(n_estimators=200)  #hyperparameters (n_estimators=200, criterion=\"friedman_mse\", learning_rate=0.1, max_depth=3, loss=\"deviance\")\n",
        "model_gb.fit(X_train, y_train)"
      ],
      "execution_count": null,
      "outputs": [
        {
          "output_type": "execute_result",
          "data": {
            "text/plain": [
              "GradientBoostingClassifier(ccp_alpha=0.0, criterion='friedman_mse', init=None,\n",
              "                           learning_rate=0.1, loss='deviance', max_depth=3,\n",
              "                           max_features=None, max_leaf_nodes=None,\n",
              "                           min_impurity_decrease=0.0, min_impurity_split=None,\n",
              "                           min_samples_leaf=1, min_samples_split=2,\n",
              "                           min_weight_fraction_leaf=0.0, n_estimators=200,\n",
              "                           n_iter_no_change=None, presort='deprecated',\n",
              "                           random_state=None, subsample=1.0, tol=0.0001,\n",
              "                           validation_fraction=0.1, verbose=0,\n",
              "                           warm_start=False)"
            ]
          },
          "metadata": {},
          "execution_count": 118
        }
      ]
    },
    {
      "cell_type": "code",
      "metadata": {
        "id": "hHU81TJg9ApO"
      },
      "source": [
        "y_pred_raw = model_gb.predict_proba(X_test)"
      ],
      "execution_count": null,
      "outputs": []
    },
    {
      "cell_type": "code",
      "metadata": {
        "colab": {
          "base_uri": "https://localhost:8080/"
        },
        "id": "h4Jg7P0-_Jfo",
        "outputId": "6b7fff99-c636-4f16-f5e7-fbf208fd4048"
      },
      "source": [
        "final_pred = model_gb.predict(X_test)\n",
        "final_pred"
      ],
      "execution_count": null,
      "outputs": [
        {
          "output_type": "execute_result",
          "data": {
            "text/plain": [
              "array([1, 1, 1, 1, 0, 0, 1, 1, 1, 0, 0, 0, 1, 0, 0, 0, 1, 1, 1, 1, 1, 1,\n",
              "       0, 1, 0, 0, 1, 0, 0, 1, 1, 1, 0, 1, 1, 1, 1, 1, 1, 1, 1, 1, 1, 1,\n",
              "       1, 1, 0, 1, 1, 1, 1, 0, 1, 1, 0, 1, 1, 1, 0, 0, 1, 1, 0, 1, 1, 1,\n",
              "       1, 0, 1, 1, 1, 1, 1, 1, 1, 1, 1, 0, 1, 1, 1, 1, 0, 1, 0, 0, 0, 1,\n",
              "       1, 1, 0, 1, 1, 1, 1, 0, 0, 0, 1, 1, 1, 1, 0, 1, 1, 0, 0, 1, 1, 0,\n",
              "       0, 1, 1, 1, 1, 0, 1, 1, 1, 1, 0, 1, 1, 1, 0, 1, 0, 1, 1, 0, 0, 0,\n",
              "       1, 1, 1, 1, 1, 1, 1, 1, 1])"
            ]
          },
          "metadata": {},
          "execution_count": 120
        }
      ]
    },
    {
      "cell_type": "code",
      "metadata": {
        "id": "8AmQwgpRAZeu"
      },
      "source": [
        "submission = pd.DataFrame({'PassengerId': data_train['PassengerId'], 'Survived':final_pred})"
      ],
      "execution_count": null,
      "outputs": []
    },
    {
      "cell_type": "code",
      "metadata": {
        "colab": {
          "base_uri": "https://localhost:8080/",
          "height": 204
        },
        "id": "IFds34IBEyhm",
        "outputId": "e0d8ba6c-3080-4fa1-a408-4abada97bd4a"
      },
      "source": [
        "submission.head()"
      ],
      "execution_count": null,
      "outputs": [
        {
          "output_type": "execute_result",
          "data": {
            "text/html": [
              "<div>\n",
              "<style scoped>\n",
              "    .dataframe tbody tr th:only-of-type {\n",
              "        vertical-align: middle;\n",
              "    }\n",
              "\n",
              "    .dataframe tbody tr th {\n",
              "        vertical-align: top;\n",
              "    }\n",
              "\n",
              "    .dataframe thead th {\n",
              "        text-align: right;\n",
              "    }\n",
              "</style>\n",
              "<table border=\"1\" class=\"dataframe\">\n",
              "  <thead>\n",
              "    <tr style=\"text-align: right;\">\n",
              "      <th></th>\n",
              "      <th>PassengerId</th>\n",
              "      <th>Survived</th>\n",
              "    </tr>\n",
              "  </thead>\n",
              "  <tbody>\n",
              "    <tr>\n",
              "      <th>2</th>\n",
              "      <td>752</td>\n",
              "      <td>1</td>\n",
              "    </tr>\n",
              "    <tr>\n",
              "      <th>6</th>\n",
              "      <td>711</td>\n",
              "      <td>1</td>\n",
              "    </tr>\n",
              "    <tr>\n",
              "      <th>9</th>\n",
              "      <td>743</td>\n",
              "      <td>1</td>\n",
              "    </tr>\n",
              "    <tr>\n",
              "      <th>10</th>\n",
              "      <td>824</td>\n",
              "      <td>1</td>\n",
              "    </tr>\n",
              "    <tr>\n",
              "      <th>13</th>\n",
              "      <td>807</td>\n",
              "      <td>0</td>\n",
              "    </tr>\n",
              "  </tbody>\n",
              "</table>\n",
              "</div>"
            ],
            "text/plain": [
              "    PassengerId  Survived\n",
              "2           752         1\n",
              "6           711         1\n",
              "9           743         1\n",
              "10          824         1\n",
              "13          807         0"
            ]
          },
          "metadata": {},
          "execution_count": 122
        }
      ]
    },
    {
      "cell_type": "code",
      "metadata": {
        "id": "tiQ4rogiE6PW"
      },
      "source": [
        "filename = \"1854339IAAut2P.csv\"\n",
        "submission.to_csv(filename, index=False)"
      ],
      "execution_count": null,
      "outputs": []
    }
  ]
}
